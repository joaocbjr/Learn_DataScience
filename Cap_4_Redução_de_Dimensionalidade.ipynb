{
  "nbformat": 4,
  "nbformat_minor": 0,
  "metadata": {
    "colab": {
      "name": "Cap 4 - Redução de Dimensionalidade.ipynb",
      "provenance": [],
      "authorship_tag": "ABX9TyNiwwfzBWUJnGaUg3KFqolo",
      "include_colab_link": true
    },
    "kernelspec": {
      "name": "python3",
      "display_name": "Python 3"
    }
  },
  "cells": [
    {
      "cell_type": "markdown",
      "metadata": {
        "id": "view-in-github",
        "colab_type": "text"
      },
      "source": [
        "<a href=\"https://colab.research.google.com/github/joaocbjr/Learn_DataScience/blob/main/Cap_4_Redu%C3%A7%C3%A3o_de_Dimensionalidade.ipynb\" target=\"_parent\"><img src=\"https://colab.research.google.com/assets/colab-badge.svg\" alt=\"Open In Colab\"/></a>"
      ]
    },
    {
      "cell_type": "markdown",
      "metadata": {
        "id": "2j81lzZow7c6"
      },
      "source": [
        "___\n",
        "##Análise de Fatores\n",
        "---"
      ]
    },
    {
      "cell_type": "code",
      "metadata": {
        "id": "Knr06Hj7wpOz"
      },
      "source": [
        "import pandas as pd\n",
        "\n",
        "from sklearn.decomposition import FactorAnalysis\n",
        "\n",
        "from sklearn import datasets"
      ],
      "execution_count": 1,
      "outputs": []
    },
    {
      "cell_type": "markdown",
      "metadata": {
        "id": "1xbsBMJazsFw"
      },
      "source": [
        "### Análise de fatores no dataset Iris"
      ]
    },
    {
      "cell_type": "code",
      "metadata": {
        "id": "hOHGnv0xzwCS",
        "outputId": "87de3c84-f372-430d-a9f4-cb02e43058e2",
        "colab": {
          "base_uri": "https://localhost:8080/"
        }
      },
      "source": [
        "iris =  datasets.load_iris()\n",
        "\n",
        "X = iris.data\n",
        "\n",
        "nomes_das_variaveis = iris.feature_names\n",
        "\n",
        "X[0:10,]"
      ],
      "execution_count": 2,
      "outputs": [
        {
          "output_type": "execute_result",
          "data": {
            "text/plain": [
              "array([[5.1, 3.5, 1.4, 0.2],\n",
              "       [4.9, 3. , 1.4, 0.2],\n",
              "       [4.7, 3.2, 1.3, 0.2],\n",
              "       [4.6, 3.1, 1.5, 0.2],\n",
              "       [5. , 3.6, 1.4, 0.2],\n",
              "       [5.4, 3.9, 1.7, 0.4],\n",
              "       [4.6, 3.4, 1.4, 0.3],\n",
              "       [5. , 3.4, 1.5, 0.2],\n",
              "       [4.4, 2.9, 1.4, 0.2],\n",
              "       [4.9, 3.1, 1.5, 0.1]])"
            ]
          },
          "metadata": {
            "tags": []
          },
          "execution_count": 2
        }
      ]
    },
    {
      "cell_type": "code",
      "metadata": {
        "id": "Auskbe3Qzz9q",
        "outputId": "85894527-cd1b-4822-89ea-4fe8071651e9",
        "colab": {
          "base_uri": "https://localhost:8080/",
          "height": 162
        }
      },
      "source": [
        "fatores = FactorAnalysis().fit(X)\n",
        "\n",
        "pd.DataFrame(fatores.components_, columns=nomes_das_variaveis)"
      ],
      "execution_count": 3,
      "outputs": [
        {
          "output_type": "execute_result",
          "data": {
            "text/html": [
              "<div>\n",
              "<style scoped>\n",
              "    .dataframe tbody tr th:only-of-type {\n",
              "        vertical-align: middle;\n",
              "    }\n",
              "\n",
              "    .dataframe tbody tr th {\n",
              "        vertical-align: top;\n",
              "    }\n",
              "\n",
              "    .dataframe thead th {\n",
              "        text-align: right;\n",
              "    }\n",
              "</style>\n",
              "<table border=\"1\" class=\"dataframe\">\n",
              "  <thead>\n",
              "    <tr style=\"text-align: right;\">\n",
              "      <th></th>\n",
              "      <th>sepal length (cm)</th>\n",
              "      <th>sepal width (cm)</th>\n",
              "      <th>petal length (cm)</th>\n",
              "      <th>petal width (cm)</th>\n",
              "    </tr>\n",
              "  </thead>\n",
              "  <tbody>\n",
              "    <tr>\n",
              "      <th>0</th>\n",
              "      <td>0.706989</td>\n",
              "      <td>-0.158005</td>\n",
              "      <td>1.654236</td>\n",
              "      <td>0.70085</td>\n",
              "    </tr>\n",
              "    <tr>\n",
              "      <th>1</th>\n",
              "      <td>0.115161</td>\n",
              "      <td>0.159635</td>\n",
              "      <td>-0.044321</td>\n",
              "      <td>-0.01403</td>\n",
              "    </tr>\n",
              "    <tr>\n",
              "      <th>2</th>\n",
              "      <td>-0.000000</td>\n",
              "      <td>0.000000</td>\n",
              "      <td>0.000000</td>\n",
              "      <td>0.00000</td>\n",
              "    </tr>\n",
              "    <tr>\n",
              "      <th>3</th>\n",
              "      <td>-0.000000</td>\n",
              "      <td>0.000000</td>\n",
              "      <td>0.000000</td>\n",
              "      <td>-0.00000</td>\n",
              "    </tr>\n",
              "  </tbody>\n",
              "</table>\n",
              "</div>"
            ],
            "text/plain": [
              "   sepal length (cm)  sepal width (cm)  petal length (cm)  petal width (cm)\n",
              "0           0.706989         -0.158005           1.654236           0.70085\n",
              "1           0.115161          0.159635          -0.044321          -0.01403\n",
              "2          -0.000000          0.000000           0.000000           0.00000\n",
              "3          -0.000000          0.000000           0.000000          -0.00000"
            ]
          },
          "metadata": {
            "tags": []
          },
          "execution_count": 3
        }
      ]
    },
    {
      "cell_type": "markdown",
      "metadata": {
        "id": "vqJZfmSi0JSF"
      },
      "source": [
        "---\n",
        "##Análise de componentes principais (PCA)\n",
        "---"
      ]
    },
    {
      "cell_type": "code",
      "metadata": {
        "id": "Qs-32aBLz_fw",
        "outputId": "0a6d2320-0377-43bf-8180-b9989754eb35",
        "colab": {
          "base_uri": "https://localhost:8080/"
        }
      },
      "source": [
        "import pandas as pd\n",
        "import seaborn as sns \n",
        "\n",
        "from matplotlib import rcParams\n",
        "\n",
        "from sklearn import datasets\n",
        "from sklearn.decomposition import PCA\n",
        "\n",
        "\n",
        "%matplotlib inline\n",
        "rcParams['figure.figsize'] =  5, 4\n",
        "sns.set_style('whitegrid')\n",
        "\n",
        "iris = datasets.load_iris()\n",
        "X = iris.data\n",
        "nomes_das_variaveis = iris.feature_names\n",
        "X[0:5,]"
      ],
      "execution_count": 4,
      "outputs": [
        {
          "output_type": "execute_result",
          "data": {
            "text/plain": [
              "array([[5.1, 3.5, 1.4, 0.2],\n",
              "       [4.9, 3. , 1.4, 0.2],\n",
              "       [4.7, 3.2, 1.3, 0.2],\n",
              "       [4.6, 3.1, 1.5, 0.2],\n",
              "       [5. , 3.6, 1.4, 0.2]])"
            ]
          },
          "metadata": {
            "tags": []
          },
          "execution_count": 4
        }
      ]
    },
    {
      "cell_type": "code",
      "metadata": {
        "id": "Ba6VPOqb0c53"
      },
      "source": [
        ""
      ],
      "execution_count": null,
      "outputs": []
    }
  ]
}