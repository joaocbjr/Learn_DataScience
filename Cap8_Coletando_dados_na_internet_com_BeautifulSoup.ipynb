{
  "nbformat": 4,
  "nbformat_minor": 0,
  "metadata": {
    "colab": {
      "name": "Cap8 - Coletando dados na internet com BeautifulSoup.ipynb",
      "provenance": [],
      "authorship_tag": "ABX9TyM7FnGs57fRWa5yZCc8W68W",
      "include_colab_link": true
    },
    "kernelspec": {
      "name": "python3",
      "display_name": "Python 3"
    }
  },
  "cells": [
    {
      "cell_type": "markdown",
      "metadata": {
        "id": "view-in-github",
        "colab_type": "text"
      },
      "source": [
        "<a href=\"https://colab.research.google.com/github/joaocbjr/Learn_DataScience/blob/main/Cap8_Coletando_dados_na_internet_com_BeautifulSoup.ipynb\" target=\"_parent\"><img src=\"https://colab.research.google.com/assets/colab-badge.svg\" alt=\"Open In Colab\"/></a>"
      ]
    },
    {
      "cell_type": "markdown",
      "metadata": {
        "id": "Ff2a-QMeq4Y6"
      },
      "source": [
        "___\n",
        "## Introdução ao BeautifulSoup e a raspagem de dados\n",
        "___"
      ]
    },
    {
      "cell_type": "code",
      "metadata": {
        "id": "KAF1mKI1q2R_"
      },
      "source": [
        "from bs4 import BeautifulSoup"
      ],
      "execution_count": 1,
      "outputs": []
    },
    {
      "cell_type": "markdown",
      "metadata": {
        "id": "btSYOndjr5m-"
      },
      "source": [
        "### O objeto BeautifulSoup"
      ]
    },
    {
      "cell_type": "code",
      "metadata": {
        "id": "U2CAFLGgr7Id"
      },
      "source": [
        "doc_html = '''\n",
        "<html><head><title>Pizza de Dados</title></head>\n",
        "<body>\n",
        "<section id=\"about\">\n",
        "         <div class=\"user-details\">\n",
        "  <p class='title'> Sobre o Pizza de Dados </p>\n",
        "  <p> O Pizza de Dados é uma iniciativa de 3 apaixonados por ciência de dados que viviam discutindo assuntos, links e conselhos de carreira. A vontade de aprender mais e compartilhar conhecimento era comum a todos e a ausência de um canal em português para tratar desses temas, levou à ideia de formar o pizza de dados.</p>\n",
        "\n",
        "  <p> O nome é uma espécie de “homenagem” ao repositório datascience.pizza, que se tornou em pouco tempo uma referência de material de estudos de ciência de dados em português.</p>\n",
        "\n",
        "  <p> Por ser algo feito de forma simples e leve por pessoas que normalmente se enfiam em muitos projetos ao mesmo tempo, o Pizza de Dados tem 3 regras básicas:</p>\n",
        "\n",
        "<ol>\n",
        "    <li>Só vamos fazer isso enquanto estiver divertido para todos;</li>\n",
        "    <li>Não vamos fazer por pressão (de datas, de publicação, de frequência…);</li>\n",
        "    <li>Nem todos os pizzaiolos originais devem estar em um episódio.</li>\n",
        "</ol>\n",
        "\n",
        "  <p> Esperamos que você se divirta, nos dê feedback e aprenda um pouquinho! </p>\n",
        "</div>\n",
        "\n",
        "      </section>\n",
        "    <div class=\"header-links\">\n",
        "        <a class=\"link\" href=\"#about\" data-scroll=\"\">Sobre</a>\n",
        "        <a class=\"link\" href=\"#pizzaiolos\" data-scroll=\"\">Quem somos</a>\n",
        "        <a class=\"link\" target=\"_blank\" href=\"https://medium.com/pizzadedados\">Revista</a>\n",
        "        <a class=\"link\" target=\"_blank\" href=\"https://podcast.pizzadedados.com/\">Episódios</a>\n",
        "        <a class=\"link\" href=\"#vemcomagente\" data-scroll=\"\">Assine</a>\n",
        "        <a class=\"link\" href=\"#vemcomagente\" data-scroll=\"\">Apoie</a>\n",
        "      </div>\n",
        "'''"
      ],
      "execution_count": 2,
      "outputs": []
    },
    {
      "cell_type": "code",
      "metadata": {
        "colab": {
          "base_uri": "https://localhost:8080/"
        },
        "id": "34_RWIM_sU1c",
        "outputId": "cd625b68-5846-456d-bc7c-4b8494a0dd85"
      },
      "source": [
        "sopa = BeautifulSoup(doc_html, 'html.parser')\n",
        "print(sopa)"
      ],
      "execution_count": 3,
      "outputs": [
        {
          "output_type": "stream",
          "text": [
            "\n",
            "<html><head><title>Pizza de Dados</title></head>\n",
            "<body>\n",
            "<section id=\"about\">\n",
            "<div class=\"user-details\">\n",
            "<p class=\"title\"> Sobre o Pizza de Dados </p>\n",
            "<p> O Pizza de Dados é uma iniciativa de 3 apaixonados por ciência de dados que viviam discutindo assuntos, links e conselhos de carreira. A vontade de aprender mais e compartilhar conhecimento era comum a todos e a ausência de um canal em português para tratar desses temas, levou à ideia de formar o pizza de dados.</p>\n",
            "<p> O nome é uma espécie de “homenagem” ao repositório datascience.pizza, que se tornou em pouco tempo uma referência de material de estudos de ciência de dados em português.</p>\n",
            "<p> Por ser algo feito de forma simples e leve por pessoas que normalmente se enfiam em muitos projetos ao mesmo tempo, o Pizza de Dados tem 3 regras básicas:</p>\n",
            "<ol>\n",
            "<li>Só vamos fazer isso enquanto estiver divertido para todos;</li>\n",
            "<li>Não vamos fazer por pressão (de datas, de publicação, de frequência…);</li>\n",
            "<li>Nem todos os pizzaiolos originais devem estar em um episódio.</li>\n",
            "</ol>\n",
            "<p> Esperamos que você se divirta, nos dê feedback e aprenda um pouquinho! </p>\n",
            "</div>\n",
            "</section>\n",
            "<div class=\"header-links\">\n",
            "<a class=\"link\" data-scroll=\"\" href=\"#about\">Sobre</a>\n",
            "<a class=\"link\" data-scroll=\"\" href=\"#pizzaiolos\">Quem somos</a>\n",
            "<a class=\"link\" href=\"https://medium.com/pizzadedados\" target=\"_blank\">Revista</a>\n",
            "<a class=\"link\" href=\"https://podcast.pizzadedados.com/\" target=\"_blank\">Episódios</a>\n",
            "<a class=\"link\" data-scroll=\"\" href=\"#vemcomagente\">Assine</a>\n",
            "<a class=\"link\" data-scroll=\"\" href=\"#vemcomagente\">Apoie</a>\n",
            "</div>\n",
            "</body></html>\n"
          ],
          "name": "stdout"
        }
      ]
    },
    {
      "cell_type": "code",
      "metadata": {
        "colab": {
          "base_uri": "https://localhost:8080/"
        },
        "id": "z8FhfSH1sW7A",
        "outputId": "b965eaf4-b12c-49e0-98e6-a9f4a85c5dc5"
      },
      "source": [
        "print(sopa.prettify()[0:350])"
      ],
      "execution_count": 4,
      "outputs": [
        {
          "output_type": "stream",
          "text": [
            "<html>\n",
            " <head>\n",
            "  <title>\n",
            "   Pizza de Dados\n",
            "  </title>\n",
            " </head>\n",
            " <body>\n",
            "  <section id=\"about\">\n",
            "   <div class=\"user-details\">\n",
            "    <p class=\"title\">\n",
            "     Sobre o Pizza de Dados\n",
            "    </p>\n",
            "    <p>\n",
            "     O Pizza de Dados é uma iniciativa de 3 apaixonados por ciência de dados que viviam discutindo assuntos, links e conselhos de carreira. A vontade de aprend\n"
          ],
          "name": "stdout"
        }
      ]
    },
    {
      "cell_type": "markdown",
      "metadata": {
        "id": "r8evPxmlskTi"
      },
      "source": [
        "### Objetos Tag"
      ]
    },
    {
      "cell_type": "markdown",
      "metadata": {
        "id": "-Wttd8h2smOa"
      },
      "source": [
        "#### Trabalhando com nomes"
      ]
    },
    {
      "cell_type": "code",
      "metadata": {
        "colab": {
          "base_uri": "https://localhost:8080/"
        },
        "id": "sm8SITnksrRK",
        "outputId": "f897c05b-cf1f-4c43-8635-2d049b3060d3"
      },
      "source": [
        "sopa = BeautifulSoup('<b body=\"description\">O primeiro e o mais querido podcast sobre ciência de dados no Brasil</b>',\n",
        "                     'html.parser')\n",
        "\n",
        "tag = sopa.b\n",
        "type(tag)"
      ],
      "execution_count": 6,
      "outputs": [
        {
          "output_type": "execute_result",
          "data": {
            "text/plain": [
              "bs4.element.Tag"
            ]
          },
          "metadata": {
            "tags": []
          },
          "execution_count": 6
        }
      ]
    },
    {
      "cell_type": "code",
      "metadata": {
        "colab": {
          "base_uri": "https://localhost:8080/"
        },
        "id": "Lz4LQMTatB0B",
        "outputId": "0a953702-f26f-4c07-df49-0a108987a479"
      },
      "source": [
        "print(tag)"
      ],
      "execution_count": 7,
      "outputs": [
        {
          "output_type": "stream",
          "text": [
            "<b body=\"description\">O primeiro e o mais querido podcast sobre ciência de dados no Brasil</b>\n"
          ],
          "name": "stdout"
        }
      ]
    },
    {
      "cell_type": "code",
      "metadata": {
        "colab": {
          "base_uri": "https://localhost:8080/",
          "height": 35
        },
        "id": "2PY0IDmotgVn",
        "outputId": "49b3dd1b-2dc2-4c07-d1dd-2473d65d84c9"
      },
      "source": [
        "tag.name"
      ],
      "execution_count": 8,
      "outputs": [
        {
          "output_type": "execute_result",
          "data": {
            "application/vnd.google.colaboratory.intrinsic+json": {
              "type": "string"
            },
            "text/plain": [
              "'b'"
            ]
          },
          "metadata": {
            "tags": []
          },
          "execution_count": 8
        }
      ]
    },
    {
      "cell_type": "code",
      "metadata": {
        "colab": {
          "base_uri": "https://localhost:8080/"
        },
        "id": "fB_k4kXDthEE",
        "outputId": "334f053f-4435-4b56-a026-98a94bb3efd2"
      },
      "source": [
        "tag.name = 'podcast'\n",
        "tag"
      ],
      "execution_count": 9,
      "outputs": [
        {
          "output_type": "execute_result",
          "data": {
            "text/plain": [
              "<podcast body=\"description\">O primeiro e o mais querido podcast sobre ciência de dados no Brasil</podcast>"
            ]
          },
          "metadata": {
            "tags": []
          },
          "execution_count": 9
        }
      ]
    },
    {
      "cell_type": "code",
      "metadata": {
        "colab": {
          "base_uri": "https://localhost:8080/",
          "height": 35
        },
        "id": "ZzGwcqBmtrX3",
        "outputId": "86efe71c-37f0-473f-ad98-c8bb89b9c793"
      },
      "source": [
        "tag.name"
      ],
      "execution_count": 10,
      "outputs": [
        {
          "output_type": "execute_result",
          "data": {
            "application/vnd.google.colaboratory.intrinsic+json": {
              "type": "string"
            },
            "text/plain": [
              "'podcast'"
            ]
          },
          "metadata": {
            "tags": []
          },
          "execution_count": 10
        }
      ]
    },
    {
      "cell_type": "markdown",
      "metadata": {
        "id": "pCruniSbtvfZ"
      },
      "source": [
        "#### Trabalhando com atributos"
      ]
    },
    {
      "cell_type": "code",
      "metadata": {
        "colab": {
          "base_uri": "https://localhost:8080/",
          "height": 35
        },
        "id": "HicUItFrtsI7",
        "outputId": "36cddebb-b65d-42fb-b111-aa580317ee81"
      },
      "source": [
        "tag['body']"
      ],
      "execution_count": 11,
      "outputs": [
        {
          "output_type": "execute_result",
          "data": {
            "application/vnd.google.colaboratory.intrinsic+json": {
              "type": "string"
            },
            "text/plain": [
              "'description'"
            ]
          },
          "metadata": {
            "tags": []
          },
          "execution_count": 11
        }
      ]
    },
    {
      "cell_type": "code",
      "metadata": {
        "colab": {
          "base_uri": "https://localhost:8080/"
        },
        "id": "gAfELnJ7t0Di",
        "outputId": "2926c212-08f1-4f45-9674-32475ca0a4be"
      },
      "source": [
        "tag.attrs"
      ],
      "execution_count": 12,
      "outputs": [
        {
          "output_type": "execute_result",
          "data": {
            "text/plain": [
              "{'body': 'description'}"
            ]
          },
          "metadata": {
            "tags": []
          },
          "execution_count": 12
        }
      ]
    },
    {
      "cell_type": "code",
      "metadata": {
        "colab": {
          "base_uri": "https://localhost:8080/"
        },
        "id": "6J9m2xbLt7Ya",
        "outputId": "8baa4841-f48a-400a-fe1c-30726d285ed8"
      },
      "source": [
        "tag['id'] = 3\n",
        "tag.attrs"
      ],
      "execution_count": 13,
      "outputs": [
        {
          "output_type": "execute_result",
          "data": {
            "text/plain": [
              "{'body': 'description', 'id': 3}"
            ]
          },
          "metadata": {
            "tags": []
          },
          "execution_count": 13
        }
      ]
    },
    {
      "cell_type": "code",
      "metadata": {
        "colab": {
          "base_uri": "https://localhost:8080/"
        },
        "id": "STEC4wWst_NS",
        "outputId": "269845d0-ccb1-4c6e-d3e5-cb2fb37c042c"
      },
      "source": [
        "tag"
      ],
      "execution_count": 14,
      "outputs": [
        {
          "output_type": "execute_result",
          "data": {
            "text/plain": [
              "<podcast body=\"description\" id=\"3\">O primeiro e o mais querido podcast sobre ciência de dados no Brasil</podcast>"
            ]
          },
          "metadata": {
            "tags": []
          },
          "execution_count": 14
        }
      ]
    },
    {
      "cell_type": "code",
      "metadata": {
        "id": "G4Z1oUZZuBjS"
      },
      "source": [
        ""
      ],
      "execution_count": null,
      "outputs": []
    }
  ]
}