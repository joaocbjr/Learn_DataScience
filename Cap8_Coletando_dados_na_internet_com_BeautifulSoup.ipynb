{
  "nbformat": 4,
  "nbformat_minor": 0,
  "metadata": {
    "colab": {
      "name": "Cap8 - Coletando dados na internet com BeautifulSoup.ipynb",
      "provenance": [],
      "authorship_tag": "ABX9TyMO6KAnSbLj1ujdLkJTnYuN",
      "include_colab_link": true
    },
    "kernelspec": {
      "name": "python3",
      "display_name": "Python 3"
    }
  },
  "cells": [
    {
      "cell_type": "markdown",
      "metadata": {
        "id": "view-in-github",
        "colab_type": "text"
      },
      "source": [
        "<a href=\"https://colab.research.google.com/github/joaocbjr/Learn_DataScience/blob/main/Cap8_Coletando_dados_na_internet_com_BeautifulSoup.ipynb\" target=\"_parent\"><img src=\"https://colab.research.google.com/assets/colab-badge.svg\" alt=\"Open In Colab\"/></a>"
      ]
    },
    {
      "cell_type": "markdown",
      "metadata": {
        "id": "Ff2a-QMeq4Y6"
      },
      "source": [
        "___\n",
        "## Introdução ao BeautifulSoup e a raspagem de dados\n",
        "___"
      ]
    },
    {
      "cell_type": "code",
      "metadata": {
        "id": "KAF1mKI1q2R_"
      },
      "source": [
        "from bs4 import BeautifulSoup"
      ],
      "execution_count": null,
      "outputs": []
    },
    {
      "cell_type": "markdown",
      "metadata": {
        "id": "btSYOndjr5m-"
      },
      "source": [
        "### O objeto BeautifulSoup"
      ]
    },
    {
      "cell_type": "markdown",
      "metadata": {
        "id": "08N6lUnxtKFV"
      },
      "source": [
        "*O objeto BeautfulSoup é a representação do documento em que você está raspando dados.*\n",
        "É navegável e tambem passível de busca."
      ]
    },
    {
      "cell_type": "markdown",
      "metadata": {
        "id": "enviSCPlvMAs"
      },
      "source": [
        "*O objeto NavigableString é usad para adcionar texto a uma tag.*\n",
        "Beautiful Soup usa classe NavigableString como um container para conteúdo textual."
      ]
    },
    {
      "cell_type": "code",
      "metadata": {
        "id": "U2CAFLGgr7Id"
      },
      "source": [
        "doc_html = '''\n",
        "<html><head><title>Pizza de Dados</title></head>\n",
        "<body>\n",
        "<section id=\"about\">\n",
        "         <div class=\"user-details\">\n",
        "  <p class='title'> Sobre o Pizza de Dados </p>\n",
        "  <p> O Pizza de Dados é uma iniciativa de 3 apaixonados por ciência de dados que viviam discutindo assuntos, links e conselhos de carreira. A vontade de aprender mais e compartilhar conhecimento era comum a todos e a ausência de um canal em português para tratar desses temas, levou à ideia de formar o pizza de dados.</p>\n",
        "\n",
        "  <p> O nome é uma espécie de “homenagem” ao repositório datascience.pizza, que se tornou em pouco tempo uma referência de material de estudos de ciência de dados em português.</p>\n",
        "\n",
        "  <p> Por ser algo feito de forma simples e leve por pessoas que normalmente se enfiam em muitos projetos ao mesmo tempo, o Pizza de Dados tem 3 regras básicas:</p>\n",
        "\n",
        "<ol>\n",
        "    <li>Só vamos fazer isso enquanto estiver divertido para todos;</li>\n",
        "    <li>Não vamos fazer por pressão (de datas, de publicação, de frequência…);</li>\n",
        "    <li>Nem todos os pizzaiolos originais devem estar em um episódio.</li>\n",
        "</ol>\n",
        "\n",
        "  <p> Esperamos que você se divirta, nos dê feedback e aprenda um pouquinho! </p>\n",
        "</div>\n",
        "\n",
        "      </section>\n",
        "    <div class=\"header-links\">\n",
        "        <a class=\"link\" href=\"#about\" data-scroll=\"\">Sobre</a>\n",
        "        <a class=\"link\" href=\"#pizzaiolos\" data-scroll=\"\">Quem somos</a>\n",
        "        <a class=\"link\" target=\"_blank\" href=\"https://medium.com/pizzadedados\">Revista</a>\n",
        "        <a class=\"link\" target=\"_blank\" href=\"https://podcast.pizzadedados.com/\">Episódios</a>\n",
        "        <a class=\"link\" href=\"#vemcomagente\" data-scroll=\"\">Assine</a>\n",
        "        <a class=\"link\" href=\"#vemcomagente\" data-scroll=\"\">Apoie</a>\n",
        "      </div>\n",
        "'''"
      ],
      "execution_count": null,
      "outputs": []
    },
    {
      "cell_type": "code",
      "metadata": {
        "colab": {
          "base_uri": "https://localhost:8080/"
        },
        "id": "34_RWIM_sU1c",
        "outputId": "9ee59760-fba9-4ad7-b94f-a2c10be50bc0"
      },
      "source": [
        "sopa = BeautifulSoup(doc_html, 'html.parser')\n",
        "print(sopa)"
      ],
      "execution_count": null,
      "outputs": [
        {
          "output_type": "stream",
          "text": [
            "\n",
            "<html><head><title>Pizza de Dados</title></head>\n",
            "<body>\n",
            "<section id=\"about\">\n",
            "<div class=\"user-details\">\n",
            "<p class=\"title\"> Sobre o Pizza de Dados </p>\n",
            "<p> O Pizza de Dados é uma iniciativa de 3 apaixonados por ciência de dados que viviam discutindo assuntos, links e conselhos de carreira. A vontade de aprender mais e compartilhar conhecimento era comum a todos e a ausência de um canal em português para tratar desses temas, levou à ideia de formar o pizza de dados.</p>\n",
            "<p> O nome é uma espécie de “homenagem” ao repositório datascience.pizza, que se tornou em pouco tempo uma referência de material de estudos de ciência de dados em português.</p>\n",
            "<p> Por ser algo feito de forma simples e leve por pessoas que normalmente se enfiam em muitos projetos ao mesmo tempo, o Pizza de Dados tem 3 regras básicas:</p>\n",
            "<ol>\n",
            "<li>Só vamos fazer isso enquanto estiver divertido para todos;</li>\n",
            "<li>Não vamos fazer por pressão (de datas, de publicação, de frequência…);</li>\n",
            "<li>Nem todos os pizzaiolos originais devem estar em um episódio.</li>\n",
            "</ol>\n",
            "<p> Esperamos que você se divirta, nos dê feedback e aprenda um pouquinho! </p>\n",
            "</div>\n",
            "</section>\n",
            "<div class=\"header-links\">\n",
            "<a class=\"link\" data-scroll=\"\" href=\"#about\">Sobre</a>\n",
            "<a class=\"link\" data-scroll=\"\" href=\"#pizzaiolos\">Quem somos</a>\n",
            "<a class=\"link\" href=\"https://medium.com/pizzadedados\" target=\"_blank\">Revista</a>\n",
            "<a class=\"link\" href=\"https://podcast.pizzadedados.com/\" target=\"_blank\">Episódios</a>\n",
            "<a class=\"link\" data-scroll=\"\" href=\"#vemcomagente\">Assine</a>\n",
            "<a class=\"link\" data-scroll=\"\" href=\"#vemcomagente\">Apoie</a>\n",
            "</div>\n",
            "</body></html>\n"
          ],
          "name": "stdout"
        }
      ]
    },
    {
      "cell_type": "code",
      "metadata": {
        "colab": {
          "base_uri": "https://localhost:8080/"
        },
        "id": "z8FhfSH1sW7A",
        "outputId": "d44759a8-6c59-47c1-bbb4-43e904c6e535"
      },
      "source": [
        "print(sopa.prettify()[0:350])"
      ],
      "execution_count": null,
      "outputs": [
        {
          "output_type": "stream",
          "text": [
            "<html>\n",
            " <head>\n",
            "  <title>\n",
            "   Pizza de Dados\n",
            "  </title>\n",
            " </head>\n",
            " <body>\n",
            "  <section id=\"about\">\n",
            "   <div class=\"user-details\">\n",
            "    <p class=\"title\">\n",
            "     Sobre o Pizza de Dados\n",
            "    </p>\n",
            "    <p>\n",
            "     O Pizza de Dados é uma iniciativa de 3 apaixonados por ciência de dados que viviam discutindo assuntos, links e conselhos de carreira. A vontade de aprend\n"
          ],
          "name": "stdout"
        }
      ]
    },
    {
      "cell_type": "markdown",
      "metadata": {
        "id": "r8evPxmlskTi"
      },
      "source": [
        "### Objetos Tag"
      ]
    },
    {
      "cell_type": "markdown",
      "metadata": {
        "id": "Cnuvbmq9uAa7"
      },
      "source": [
        "*O objeto Tag corresponde a elementos de um documento XML ou HTML.*\n",
        "Você pode navegar e referenciar dados usando os atributos de uma tag."
      ]
    },
    {
      "cell_type": "markdown",
      "metadata": {
        "id": "-Wttd8h2smOa"
      },
      "source": [
        "#### Trabalhando com nomes"
      ]
    },
    {
      "cell_type": "code",
      "metadata": {
        "colab": {
          "base_uri": "https://localhost:8080/"
        },
        "id": "sm8SITnksrRK",
        "outputId": "196eb303-0ec2-4243-8e83-649d0b8ba39c"
      },
      "source": [
        "sopa = BeautifulSoup('<b body=\"description\">O primeiro e o mais querido podcast sobre ciência de dados no Brasil</b>',\n",
        "                     'html.parser')\n",
        "\n",
        "tag = sopa.b\n",
        "type(tag)"
      ],
      "execution_count": null,
      "outputs": [
        {
          "output_type": "execute_result",
          "data": {
            "text/plain": [
              "bs4.element.Tag"
            ]
          },
          "metadata": {
            "tags": []
          },
          "execution_count": 6
        }
      ]
    },
    {
      "cell_type": "code",
      "metadata": {
        "colab": {
          "base_uri": "https://localhost:8080/"
        },
        "id": "Lz4LQMTatB0B",
        "outputId": "a93cab3e-e330-46af-9a71-88ce4872ca68"
      },
      "source": [
        "print(tag)"
      ],
      "execution_count": null,
      "outputs": [
        {
          "output_type": "stream",
          "text": [
            "<b body=\"description\">O primeiro e o mais querido podcast sobre ciência de dados no Brasil</b>\n"
          ],
          "name": "stdout"
        }
      ]
    },
    {
      "cell_type": "code",
      "metadata": {
        "colab": {
          "base_uri": "https://localhost:8080/",
          "height": 35
        },
        "id": "2PY0IDmotgVn",
        "outputId": "27329a3c-80a0-47e7-fc0f-91f13a3cff1d"
      },
      "source": [
        "tag.name"
      ],
      "execution_count": null,
      "outputs": [
        {
          "output_type": "execute_result",
          "data": {
            "application/vnd.google.colaboratory.intrinsic+json": {
              "type": "string"
            },
            "text/plain": [
              "'b'"
            ]
          },
          "metadata": {
            "tags": []
          },
          "execution_count": 8
        }
      ]
    },
    {
      "cell_type": "code",
      "metadata": {
        "colab": {
          "base_uri": "https://localhost:8080/"
        },
        "id": "fB_k4kXDthEE",
        "outputId": "09e4183e-8643-4c16-e61f-bfcf19169cb0"
      },
      "source": [
        "tag.name = 'podcast'\n",
        "tag"
      ],
      "execution_count": null,
      "outputs": [
        {
          "output_type": "execute_result",
          "data": {
            "text/plain": [
              "<podcast body=\"description\">O primeiro e o mais querido podcast sobre ciência de dados no Brasil</podcast>"
            ]
          },
          "metadata": {
            "tags": []
          },
          "execution_count": 9
        }
      ]
    },
    {
      "cell_type": "code",
      "metadata": {
        "colab": {
          "base_uri": "https://localhost:8080/",
          "height": 35
        },
        "id": "ZzGwcqBmtrX3",
        "outputId": "fc74e46b-60e7-46f5-bbff-fecacf489bba"
      },
      "source": [
        "tag.name"
      ],
      "execution_count": null,
      "outputs": [
        {
          "output_type": "execute_result",
          "data": {
            "application/vnd.google.colaboratory.intrinsic+json": {
              "type": "string"
            },
            "text/plain": [
              "'podcast'"
            ]
          },
          "metadata": {
            "tags": []
          },
          "execution_count": 10
        }
      ]
    },
    {
      "cell_type": "markdown",
      "metadata": {
        "id": "pCruniSbtvfZ"
      },
      "source": [
        "#### Trabalhando com atributos"
      ]
    },
    {
      "cell_type": "code",
      "metadata": {
        "colab": {
          "base_uri": "https://localhost:8080/",
          "height": 35
        },
        "id": "HicUItFrtsI7",
        "outputId": "7810f31f-b08e-40ba-a2ae-a88eac8a8b22"
      },
      "source": [
        "tag['body']"
      ],
      "execution_count": null,
      "outputs": [
        {
          "output_type": "execute_result",
          "data": {
            "application/vnd.google.colaboratory.intrinsic+json": {
              "type": "string"
            },
            "text/plain": [
              "'description'"
            ]
          },
          "metadata": {
            "tags": []
          },
          "execution_count": 11
        }
      ]
    },
    {
      "cell_type": "code",
      "metadata": {
        "colab": {
          "base_uri": "https://localhost:8080/"
        },
        "id": "gAfELnJ7t0Di",
        "outputId": "bb5d86f0-a37c-458b-9de4-c6c72a42c13a"
      },
      "source": [
        "tag.attrs"
      ],
      "execution_count": null,
      "outputs": [
        {
          "output_type": "execute_result",
          "data": {
            "text/plain": [
              "{'body': 'description'}"
            ]
          },
          "metadata": {
            "tags": []
          },
          "execution_count": 12
        }
      ]
    },
    {
      "cell_type": "code",
      "metadata": {
        "colab": {
          "base_uri": "https://localhost:8080/"
        },
        "id": "6J9m2xbLt7Ya",
        "outputId": "bbe1cbc5-29b1-480f-82c4-0c65f3fc771f"
      },
      "source": [
        "tag['id'] = 3\n",
        "tag.attrs"
      ],
      "execution_count": null,
      "outputs": [
        {
          "output_type": "execute_result",
          "data": {
            "text/plain": [
              "{'body': 'description', 'id': 3}"
            ]
          },
          "metadata": {
            "tags": []
          },
          "execution_count": 13
        }
      ]
    },
    {
      "cell_type": "code",
      "metadata": {
        "id": "STEC4wWst_NS",
        "colab": {
          "base_uri": "https://localhost:8080/"
        },
        "outputId": "fe8e6150-996f-4a79-ee6a-d4eabe574246"
      },
      "source": [
        "tag"
      ],
      "execution_count": null,
      "outputs": [
        {
          "output_type": "execute_result",
          "data": {
            "text/plain": [
              "<podcast body=\"description\" id=\"3\">O primeiro e o mais querido podcast sobre ciência de dados no Brasil</podcast>"
            ]
          },
          "metadata": {
            "tags": []
          },
          "execution_count": 14
        }
      ]
    },
    {
      "cell_type": "code",
      "metadata": {
        "id": "G4Z1oUZZuBjS",
        "colab": {
          "base_uri": "https://localhost:8080/"
        },
        "outputId": "af2409dc-9513-43b1-e087-28f451972eaa"
      },
      "source": [
        "del tag['body']\n",
        "tag"
      ],
      "execution_count": null,
      "outputs": [
        {
          "output_type": "execute_result",
          "data": {
            "text/plain": [
              "<podcast id=\"3\">O primeiro e o mais querido podcast sobre ciência de dados no Brasil</podcast>"
            ]
          },
          "metadata": {
            "tags": []
          },
          "execution_count": 15
        }
      ]
    },
    {
      "cell_type": "code",
      "metadata": {
        "colab": {
          "base_uri": "https://localhost:8080/"
        },
        "id": "8QRIr4hlzWDV",
        "outputId": "9d594c9a-9c29-4e99-d02b-55ba86401435"
      },
      "source": [
        "tag.attrs"
      ],
      "execution_count": null,
      "outputs": [
        {
          "output_type": "execute_result",
          "data": {
            "text/plain": [
              "{'id': 3}"
            ]
          },
          "metadata": {
            "tags": []
          },
          "execution_count": 16
        }
      ]
    },
    {
      "cell_type": "markdown",
      "metadata": {
        "id": "WnQZFvcgzwhn"
      },
      "source": [
        "#### Usando tags"
      ]
    },
    {
      "cell_type": "code",
      "metadata": {
        "colab": {
          "base_uri": "https://localhost:8080/"
        },
        "id": "yrXhiCKRzsKb",
        "outputId": "35fa247a-d9c5-436c-ecb7-bb4ed208a850"
      },
      "source": [
        "sopa = BeautifulSoup(doc_html, 'html.parser')\n",
        "sopa.head"
      ],
      "execution_count": null,
      "outputs": [
        {
          "output_type": "execute_result",
          "data": {
            "text/plain": [
              "<head><title>Pizza de Dados</title></head>"
            ]
          },
          "metadata": {
            "tags": []
          },
          "execution_count": 17
        }
      ]
    },
    {
      "cell_type": "code",
      "metadata": {
        "colab": {
          "base_uri": "https://localhost:8080/"
        },
        "id": "nhgXmjzDz-u2",
        "outputId": "53fa2ecc-ba66-477c-d86e-99343dc6683c"
      },
      "source": [
        "sopa.body"
      ],
      "execution_count": null,
      "outputs": [
        {
          "output_type": "execute_result",
          "data": {
            "text/plain": [
              "<body>\n",
              "<section id=\"about\">\n",
              "<div class=\"user-details\">\n",
              "<p class=\"title\"> Sobre o Pizza de Dados </p>\n",
              "<p> O Pizza de Dados é uma iniciativa de 3 apaixonados por ciência de dados que viviam discutindo assuntos, links e conselhos de carreira. A vontade de aprender mais e compartilhar conhecimento era comum a todos e a ausência de um canal em português para tratar desses temas, levou à ideia de formar o pizza de dados.</p>\n",
              "<p> O nome é uma espécie de “homenagem” ao repositório datascience.pizza, que se tornou em pouco tempo uma referência de material de estudos de ciência de dados em português.</p>\n",
              "<p> Por ser algo feito de forma simples e leve por pessoas que normalmente se enfiam em muitos projetos ao mesmo tempo, o Pizza de Dados tem 3 regras básicas:</p>\n",
              "<ol>\n",
              "<li>Só vamos fazer isso enquanto estiver divertido para todos;</li>\n",
              "<li>Não vamos fazer por pressão (de datas, de publicação, de frequência…);</li>\n",
              "<li>Nem todos os pizzaiolos originais devem estar em um episódio.</li>\n",
              "</ol>\n",
              "<p> Esperamos que você se divirta, nos dê feedback e aprenda um pouquinho! </p>\n",
              "</div>\n",
              "</section>\n",
              "<div class=\"header-links\">\n",
              "<a class=\"link\" data-scroll=\"\" href=\"#about\">Sobre</a>\n",
              "<a class=\"link\" data-scroll=\"\" href=\"#pizzaiolos\">Quem somos</a>\n",
              "<a class=\"link\" href=\"https://medium.com/pizzadedados\" target=\"_blank\">Revista</a>\n",
              "<a class=\"link\" href=\"https://podcast.pizzadedados.com/\" target=\"_blank\">Episódios</a>\n",
              "<a class=\"link\" data-scroll=\"\" href=\"#vemcomagente\">Assine</a>\n",
              "<a class=\"link\" data-scroll=\"\" href=\"#vemcomagente\">Apoie</a>\n",
              "</div>\n",
              "</body>"
            ]
          },
          "metadata": {
            "tags": []
          },
          "execution_count": 18
        }
      ]
    },
    {
      "cell_type": "markdown",
      "metadata": {
        "id": "gl5GPRnQ0KLl"
      },
      "source": [
        "___\n",
        "## Parseando dados\n",
        "___"
      ]
    },
    {
      "cell_type": "code",
      "metadata": {
        "id": "N9WfOzofz_mB"
      },
      "source": [
        "doc_html = '''\n",
        "<html><head><title>Pizza de Dados</title></head>\n",
        "<body>\n",
        "<section id=\"about\">\n",
        "         <div class=\"user-details\">\n",
        "  <p class='title'> Sobre o Pizza de Dados </p>\n",
        "  <p> O Pizza de Dados é uma iniciativa de 3 apaixonados por ciência de dados que viviam discutindo assuntos, links e conselhos de carreira. A vontade de aprender mais e compartilhar conhecimento era comum a todos e a ausência de um canal em português para tratar desses temas, levou à ideia de formar o pizza de dados.</p>\n",
        "\n",
        "  <p> O nome é uma espécie de “homenagem” ao repositório datascience.pizza, que se tornou em pouco tempo uma referência de material de estudos de ciência de dados em português.</p>\n",
        "\n",
        "  <p> Por ser algo feito de forma simples e leve por pessoas que normalmente se enfiam em muitos projetos ao mesmo tempo, o Pizza de Dados tem 3 regras básicas:</p>\n",
        "\n",
        "<ol>\n",
        "    <li>Só vamos fazer isso enquanto estiver divertido para todos;</li>\n",
        "    <li>Não vamos fazer por pressão (de datas, de publicação, de frequência…);</li>\n",
        "    <li>Nem todos os pizzaiolos originais devem estar em um episódio.</li>\n",
        "</ol>\n",
        "\n",
        "  <p> Esperamos que você se divirta, nos dê feedback e aprenda um pouquinho! </p>\n",
        "</div>\n",
        "\n",
        "      </section>\n",
        "    <div class=\"header-links\">\n",
        "        <a class=\"link\" href=\"#about\" id=\"link 1\">Sobre</a>\n",
        "        <a class=\"link\" href=\"#pizzaiolos\" id=\"link 2\">Quem somos</a>\n",
        "        <a class=\"link\" target=\"_blank\" href=\"https://medium.com/pizzadedados\" id=\"link 3\">Revista</a>\n",
        "        <a class=\"link\" target=\"_blank\" href=\"https://podcast.pizzadedados.com/\" id=\"link 4\">Episódios</a>\n",
        "        <a class=\"link\" href=\"#vemcomagente\" id=\"link 5\">Assine</a>\n",
        "        <a class=\"link\" href=\"#vemcomagente\" id=\"link 6\">Apoie</a>\n",
        "      </div>\n",
        "'''"
      ],
      "execution_count": 1,
      "outputs": []
    },
    {
      "cell_type": "code",
      "metadata": {
        "id": "m-g9-9SG0e27"
      },
      "source": [
        "from bs4 import BeautifulSoup\n",
        "\n",
        "import re"
      ],
      "execution_count": 2,
      "outputs": []
    },
    {
      "cell_type": "code",
      "metadata": {
        "colab": {
          "base_uri": "https://localhost:8080/"
        },
        "id": "X5d-_Nfg0f0P",
        "outputId": "22beea1c-ea09-4bb7-e244-0436a420dd14"
      },
      "source": [
        "sopa = BeautifulSoup(doc_html, 'html.parser')\n",
        "type(sopa)"
      ],
      "execution_count": 3,
      "outputs": [
        {
          "output_type": "execute_result",
          "data": {
            "text/plain": [
              "bs4.BeautifulSoup"
            ]
          },
          "metadata": {
            "tags": []
          },
          "execution_count": 3
        }
      ]
    },
    {
      "cell_type": "markdown",
      "metadata": {
        "id": "iZQ8PlZf0nOb"
      },
      "source": [
        "### Pegando dados de uma árvore"
      ]
    },
    {
      "cell_type": "code",
      "metadata": {
        "colab": {
          "base_uri": "https://localhost:8080/"
        },
        "id": "pZA9bip50our",
        "outputId": "6237833a-3052-40f3-9583-1360c2b6a4d5"
      },
      "source": [
        "apenas_texto = sopa.get_text()\n",
        "print(apenas_texto)"
      ],
      "execution_count": 4,
      "outputs": [
        {
          "output_type": "stream",
          "text": [
            "\n",
            "Pizza de Dados\n",
            "\n",
            "\n",
            "\n",
            " Sobre o Pizza de Dados \n",
            " O Pizza de Dados é uma iniciativa de 3 apaixonados por ciência de dados que viviam discutindo assuntos, links e conselhos de carreira. A vontade de aprender mais e compartilhar conhecimento era comum a todos e a ausência de um canal em português para tratar desses temas, levou à ideia de formar o pizza de dados.\n",
            " O nome é uma espécie de “homenagem” ao repositório datascience.pizza, que se tornou em pouco tempo uma referência de material de estudos de ciência de dados em português.\n",
            " Por ser algo feito de forma simples e leve por pessoas que normalmente se enfiam em muitos projetos ao mesmo tempo, o Pizza de Dados tem 3 regras básicas:\n",
            "\n",
            "Só vamos fazer isso enquanto estiver divertido para todos;\n",
            "Não vamos fazer por pressão (de datas, de publicação, de frequência…);\n",
            "Nem todos os pizzaiolos originais devem estar em um episódio.\n",
            "\n",
            " Esperamos que você se divirta, nos dê feedback e aprenda um pouquinho! \n",
            "\n",
            "\n",
            "\n",
            "Sobre\n",
            "Quem somos\n",
            "Revista\n",
            "Episódios\n",
            "Assine\n",
            "Apoie\n",
            "\n",
            "\n"
          ],
          "name": "stdout"
        }
      ]
    },
    {
      "cell_type": "markdown",
      "metadata": {
        "id": "uO0WcSxa01OC"
      },
      "source": [
        "### Buscando e reavendo dados de uma árvore\n",
        "\n",
        "#### Reavendo tags por meio de filtros"
      ]
    },
    {
      "cell_type": "code",
      "metadata": {
        "colab": {
          "base_uri": "https://localhost:8080/"
        },
        "id": "zN3mVfr20s8-",
        "outputId": "a599a309-879e-47ef-a7f6-cc7be59ec8fc"
      },
      "source": [
        "sopa.find_all(id=\"link 4\")"
      ],
      "execution_count": 5,
      "outputs": [
        {
          "output_type": "execute_result",
          "data": {
            "text/plain": [
              "[<a class=\"link\" href=\"https://podcast.pizzadedados.com/\" id=\"link 4\" target=\"_blank\">Episódios</a>]"
            ]
          },
          "metadata": {
            "tags": []
          },
          "execution_count": 5
        }
      ]
    },
    {
      "cell_type": "markdown",
      "metadata": {
        "id": "YmIvdh1j0-Ui"
      },
      "source": [
        "#### Reavendo tags por meio de filtros usando listas"
      ]
    },
    {
      "cell_type": "code",
      "metadata": {
        "colab": {
          "base_uri": "https://localhost:8080/"
        },
        "id": "1WdW_l-m05a-",
        "outputId": "b431fa0d-8b84-47aa-f582-b7150b612ded"
      },
      "source": [
        "sopa.find_all(['ol', 'p'])"
      ],
      "execution_count": 6,
      "outputs": [
        {
          "output_type": "execute_result",
          "data": {
            "text/plain": [
              "[<p class=\"title\"> Sobre o Pizza de Dados </p>,\n",
              " <p> O Pizza de Dados é uma iniciativa de 3 apaixonados por ciência de dados que viviam discutindo assuntos, links e conselhos de carreira. A vontade de aprender mais e compartilhar conhecimento era comum a todos e a ausência de um canal em português para tratar desses temas, levou à ideia de formar o pizza de dados.</p>,\n",
              " <p> O nome é uma espécie de “homenagem” ao repositório datascience.pizza, que se tornou em pouco tempo uma referência de material de estudos de ciência de dados em português.</p>,\n",
              " <p> Por ser algo feito de forma simples e leve por pessoas que normalmente se enfiam em muitos projetos ao mesmo tempo, o Pizza de Dados tem 3 regras básicas:</p>,\n",
              " <ol>\n",
              " <li>Só vamos fazer isso enquanto estiver divertido para todos;</li>\n",
              " <li>Não vamos fazer por pressão (de datas, de publicação, de frequência…);</li>\n",
              " <li>Nem todos os pizzaiolos originais devem estar em um episódio.</li>\n",
              " </ol>,\n",
              " <p> Esperamos que você se divirta, nos dê feedback e aprenda um pouquinho! </p>]"
            ]
          },
          "metadata": {
            "tags": []
          },
          "execution_count": 6
        }
      ]
    },
    {
      "cell_type": "markdown",
      "metadata": {
        "id": "Fmf0-PKs1KrK"
      },
      "source": [
        "#### Reavendo tags usando regex\n"
      ]
    },
    {
      "cell_type": "code",
      "metadata": {
        "colab": {
          "base_uri": "https://localhost:8080/"
        },
        "id": "hjn7pUFk1HKF",
        "outputId": "3b338331-efda-4e8f-aad2-e6692efad71c"
      },
      "source": [
        "l = re.compile('l')\n",
        "for tag in sopa.find_all(l):\n",
        "    print(tag.name)"
      ],
      "execution_count": 7,
      "outputs": [
        {
          "output_type": "stream",
          "text": [
            "html\n",
            "title\n",
            "ol\n",
            "li\n",
            "li\n",
            "li\n"
          ],
          "name": "stdout"
        }
      ]
    },
    {
      "cell_type": "markdown",
      "metadata": {
        "id": "EH3GNQKymUgN"
      },
      "source": [
        "#### Reavendo tags usando valores boleanos"
      ]
    },
    {
      "cell_type": "code",
      "metadata": {
        "id": "e4CzcSZ61OqN",
        "colab": {
          "base_uri": "https://localhost:8080/"
        },
        "outputId": "35f210e1-e1e4-4c2b-e80a-321b505c0252"
      },
      "source": [
        "for tag in sopa.find_all(True):\n",
        "    print(tag.name)"
      ],
      "execution_count": 8,
      "outputs": [
        {
          "output_type": "stream",
          "text": [
            "html\n",
            "head\n",
            "title\n",
            "body\n",
            "section\n",
            "div\n",
            "p\n",
            "p\n",
            "p\n",
            "p\n",
            "ol\n",
            "li\n",
            "li\n",
            "li\n",
            "p\n",
            "div\n",
            "a\n",
            "a\n",
            "a\n",
            "a\n",
            "a\n",
            "a\n"
          ],
          "name": "stdout"
        }
      ]
    },
    {
      "cell_type": "markdown",
      "metadata": {
        "id": "6f6VI0h6mtsa"
      },
      "source": [
        "#### Reavendo tags usando strings"
      ]
    },
    {
      "cell_type": "code",
      "metadata": {
        "colab": {
          "base_uri": "https://localhost:8080/"
        },
        "id": "5kbHO6Bsmv9e",
        "outputId": "52bf93bf-72d7-400c-f3d0-ceb37c3ebe89"
      },
      "source": [
        "for link in sopa.find_all('a'):\n",
        "    print(link.get('href'))"
      ],
      "execution_count": 9,
      "outputs": [
        {
          "output_type": "stream",
          "text": [
            "#about\n",
            "#pizzaiolos\n",
            "https://medium.com/pizzadedados\n",
            "https://podcast.pizzadedados.com/\n",
            "#vemcomagente\n",
            "#vemcomagente\n"
          ],
          "name": "stdout"
        }
      ]
    },
    {
      "cell_type": "markdown",
      "metadata": {
        "id": "flK-ItCkm83J"
      },
      "source": [
        "#### Reavendo tags usando regex"
      ]
    },
    {
      "cell_type": "code",
      "metadata": {
        "colab": {
          "base_uri": "https://localhost:8080/"
        },
        "id": "lhIBE15Em2tt",
        "outputId": "ae6d47a1-6344-4680-82f2-0bab39267844"
      },
      "source": [
        "sopa.find_all(string=re.compile(\"ciência\"))"
      ],
      "execution_count": 10,
      "outputs": [
        {
          "output_type": "execute_result",
          "data": {
            "text/plain": [
              "[' O Pizza de Dados é uma iniciativa de 3 apaixonados por ciência de dados que viviam discutindo assuntos, links e conselhos de carreira. A vontade de aprender mais e compartilhar conhecimento era comum a todos e a ausência de um canal em português para tratar desses temas, levou à ideia de formar o pizza de dados.',\n",
              " ' O nome é uma espécie de “homenagem” ao repositório datascience.pizza, que se tornou em pouco tempo uma referência de material de estudos de ciência de dados em português.']"
            ]
          },
          "metadata": {
            "tags": []
          },
          "execution_count": 10
        }
      ]
    },
    {
      "cell_type": "markdown",
      "metadata": {
        "id": "3gnycvm6yAdU"
      },
      "source": [
        "___\n",
        "## Raspagem de dados na prática\n",
        "___"
      ]
    },
    {
      "cell_type": "code",
      "metadata": {
        "id": "DooOqy8kyJaW"
      },
      "source": [
        "import re\n",
        "\n",
        "from bs4 import BeautifulSoup\n",
        "from requests import get"
      ],
      "execution_count": 11,
      "outputs": []
    },
    {
      "cell_type": "code",
      "metadata": {
        "colab": {
          "base_uri": "https://localhost:8080/"
        },
        "id": "LpFieQLZyNDz",
        "outputId": "3ca36e00-6880-48f0-caf9-f8058d414201"
      },
      "source": [
        "r = get('https://pizzadedados.com/')\n",
        "\n",
        "sopa = BeautifulSoup(r.content.decode('utf-8'), \"html.parser\")\n",
        "type(sopa)"
      ],
      "execution_count": 12,
      "outputs": [
        {
          "output_type": "execute_result",
          "data": {
            "text/plain": [
              "bs4.BeautifulSoup"
            ]
          },
          "metadata": {
            "tags": []
          },
          "execution_count": 12
        }
      ]
    },
    {
      "cell_type": "markdown",
      "metadata": {
        "id": "GJ7qCy-gyRU5"
      },
      "source": [
        "### Raspando dados"
      ]
    },
    {
      "cell_type": "code",
      "metadata": {
        "colab": {
          "base_uri": "https://localhost:8080/"
        },
        "id": "o9ZjEmlRySGe",
        "outputId": "1ada736a-68b3-4a87-a428-60d6e53ce66b"
      },
      "source": [
        "print(sopa.prettify()[:100])"
      ],
      "execution_count": 16,
      "outputs": [
        {
          "output_type": "stream",
          "text": [
            "<!DOCTYPE html>\n",
            "<html lang=\"pt-br\">\n",
            " <head>\n",
            "  <meta charset=\"utf-8\"/>\n",
            "  <meta content=\"IE=edge\" http\n"
          ],
          "name": "stdout"
        }
      ]
    },
    {
      "cell_type": "code",
      "metadata": {
        "colab": {
          "base_uri": "https://localhost:8080/"
        },
        "id": "JJVzKJlYykmI",
        "outputId": "ceabd4b7-d9cb-4fe8-b86e-6ebbe13bc190"
      },
      "source": [
        "for link in sopa.find_all('a'):\n",
        "    print(link.get('href'))"
      ],
      "execution_count": 17,
      "outputs": [
        {
          "output_type": "stream",
          "text": [
            "/cdn-cgi/l/email-protection#1c6c7566667d7879787d78736f5c7b717d7570327f7371\n",
            "https://twitter.com/pizzadedados\n",
            "https://fb.com/pizzadedados\n",
            "https://youtube.com/c/pizzadedados\n",
            "https://www.instagram.com/pizzadedados\n",
            "https://github.com/pizzadedados\n",
            "#about\n",
            "#pizzaiolos\n",
            "https://medium.com/pizzadedados\n",
            "https://podcast.pizzadedados.com/\n",
            "#vemcomagente\n",
            "#vemcomagente\n",
            "/en\n",
            "#about\n",
            "https://guia.datascience.pizza/\n",
            "https://leportella.com\n",
            "https://jtemporal.com\n",
            "https://gusrabbit.com\n",
            "https://itunes.apple.com/us/podcast/pizza-de-dados/id1323137071\n",
            "https://open.spotify.com/show/5k0Ei0MSg5BuiHshr43aSg\n",
            "https://feeds.feedburner.com/PizzaDeDados\n",
            "https://apoia.se/pizzadedados\n",
            "https://databootcamp.com.br\n",
            "https://databootcamp.com.br\n",
            "https://github.com/nrandecker\n"
          ],
          "name": "stdout"
        }
      ]
    },
    {
      "cell_type": "code",
      "metadata": {
        "colab": {
          "base_uri": "https://localhost:8080/"
        },
        "id": "nPB9BRqyyvif",
        "outputId": "2a97d3af-b4c6-4420-f96e-94dbb9dd466d"
      },
      "source": [
        "parametros_busca = {'href': re.compile(\"^http\")}\n",
        "for link in sopa.find_all('a', attrs=parametros_busca):\n",
        "    print(link)"
      ],
      "execution_count": 18,
      "outputs": [
        {
          "output_type": "stream",
          "text": [
            "<a aria-label=\"Twitter\" href=\"https://twitter.com/pizzadedados\" target=\"_blank\"><i aria-hidden=\"true\" class=\"icon fa fa-twitter\"></i></a>\n",
            "<a aria-label=\"Facebook\" href=\"https://fb.com/pizzadedados\" target=\"_blank\"><i aria-hidden=\"true\" class=\"icon fa fa-facebook-square\"></i></a>\n",
            "<a aria-label=\"YouTube\" href=\"https://youtube.com/c/pizzadedados\" target=\"_blank\"><i aria-hidden=\"true\" class=\"icon fa fa-youtube-play\"></i></a>\n",
            "<a aria-label=\"Instagram\" href=\"https://www.instagram.com/pizzadedados\" target=\"_blank\"><i aria-hidden=\"true\" class=\"icon fa fa-instagram\"></i></a>\n",
            "<a aria-label=\"Github\" href=\"https://github.com/pizzadedados\" target=\"_blank\"><i aria-hidden=\"true\" class=\"icon fa fa-github-alt\"></i></a>\n",
            "<a class=\"link\" href=\"https://medium.com/pizzadedados\" target=\"_blank\">Revista</a>\n",
            "<a class=\"link\" href=\"https://podcast.pizzadedados.com/\" target=\"_blank\">Episódios</a>\n",
            "<a href=\"https://guia.datascience.pizza/\">datascience.pizza</a>\n",
            "<a class=\"project-link\" href=\"https://leportella.com\">Site</a>\n",
            "<a class=\"project-link\" href=\"https://jtemporal.com\">Site</a>\n",
            "<a class=\"project-link\" href=\"https://gusrabbit.com\">Site</a>\n",
            "<a class=\"project-link\" href=\"https://itunes.apple.com/us/podcast/pizza-de-dados/id1323137071\">\n",
            "<i class=\"icon fa fa-podcast\"></i>  iTunes\r\n",
            "        </a>\n",
            "<a class=\"project-link\" href=\"https://open.spotify.com/show/5k0Ei0MSg5BuiHshr43aSg\">\n",
            "<i class=\"icon fa fa-spotify\"></i>  Spotify\r\n",
            "        </a>\n",
            "<a class=\"project-link\" href=\"https://feeds.feedburner.com/PizzaDeDados\">\n",
            "<i class=\"icon fa fa-rss\"></i>  RSS\r\n",
            "        </a>\n",
            "<a class=\"project-link\" href=\"https://apoia.se/pizzadedados\">Para a campanha</a>\n",
            "<a href=\"https://databootcamp.com.br\">Data Bootcamp</a>\n",
            "<a href=\"https://databootcamp.com.br\"><img src=\"https://databootcamp.com.br/static/img/logo.png\" style=\"background: #1f2845;\"/></a>\n",
            "<a href=\"https://github.com/nrandecker\">Nathan Randecker</a>\n"
          ],
          "name": "stdout"
        }
      ]
    },
    {
      "cell_type": "code",
      "metadata": {
        "colab": {
          "base_uri": "https://localhost:8080/"
        },
        "id": "dk8aYNwPyy5r",
        "outputId": "aaa95627-f084-4c51-cc83-ce63fbf83192"
      },
      "source": [
        "file = open('parsed_data.txt', 'w')\n",
        "for link in sopa.findAll('a', attrs=parametros_busca):\n",
        "    sopa_link = str(link.get('href'))\n",
        "    print(sopa_link)\n",
        "    file.write(sopa_link)\n",
        "    file.write('\\n')\n",
        "file.flush()\n",
        "file.close()"
      ],
      "execution_count": 19,
      "outputs": [
        {
          "output_type": "stream",
          "text": [
            "https://twitter.com/pizzadedados\n",
            "https://fb.com/pizzadedados\n",
            "https://youtube.com/c/pizzadedados\n",
            "https://www.instagram.com/pizzadedados\n",
            "https://github.com/pizzadedados\n",
            "https://medium.com/pizzadedados\n",
            "https://podcast.pizzadedados.com/\n",
            "https://guia.datascience.pizza/\n",
            "https://leportella.com\n",
            "https://jtemporal.com\n",
            "https://gusrabbit.com\n",
            "https://itunes.apple.com/us/podcast/pizza-de-dados/id1323137071\n",
            "https://open.spotify.com/show/5k0Ei0MSg5BuiHshr43aSg\n",
            "https://feeds.feedburner.com/PizzaDeDados\n",
            "https://apoia.se/pizzadedados\n",
            "https://databootcamp.com.br\n",
            "https://databootcamp.com.br\n",
            "https://github.com/nrandecker\n"
          ],
          "name": "stdout"
        }
      ]
    },
    {
      "cell_type": "code",
      "metadata": {
        "colab": {
          "base_uri": "https://localhost:8080/"
        },
        "id": "RWjxZjZZ17HY",
        "outputId": "da6f0f19-cefd-4eb8-cd2d-b928496993b8"
      },
      "source": [
        "ls"
      ],
      "execution_count": 20,
      "outputs": [
        {
          "output_type": "stream",
          "text": [
            "parsed_data.txt  \u001b[0m\u001b[01;34msample_data\u001b[0m/\n"
          ],
          "name": "stdout"
        }
      ]
    },
    {
      "cell_type": "code",
      "metadata": {
        "id": "SWDpBrYw2RvO"
      },
      "source": [
        ""
      ],
      "execution_count": null,
      "outputs": []
    }
  ]
}