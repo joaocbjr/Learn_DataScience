{
  "nbformat": 4,
  "nbformat_minor": 0,
  "metadata": {
    "colab": {
      "name": "Cap1 - Manipulação de dados: Básico",
      "provenance": [],
      "authorship_tag": "ABX9TyMHz+hnRVGr9vuDAMOp7EPC",
      "include_colab_link": true
    },
    "kernelspec": {
      "name": "python3",
      "display_name": "Python 3"
    }
  },
  "cells": [
    {
      "cell_type": "markdown",
      "metadata": {
        "id": "view-in-github",
        "colab_type": "text"
      },
      "source": [
        "<a href=\"https://colab.research.google.com/github/joaocbjr/Learn_DataScience/blob/main/Cap1_Manipula%C3%A7%C3%A3o_de_dados_B%C3%A1sico.ipynb\" target=\"_parent\"><img src=\"https://colab.research.google.com/assets/colab-badge.svg\" alt=\"Open In Colab\"/></a>"
      ]
    },
    {
      "cell_type": "markdown",
      "metadata": {
        "id": "QGA8VCquYXe0"
      },
      "source": [
        "___\n",
        "##Selecionando dados\n",
        "___\n",
        "Importando bibliotecas e classes"
      ]
    },
    {
      "cell_type": "code",
      "metadata": {
        "id": "1AZiGXzIIzPn"
      },
      "source": [
        "import numpy as np\n",
        "import pandas as pd\n",
        "\n",
        "from pandas import Series, DataFrame"
      ],
      "execution_count": 1,
      "outputs": []
    },
    {
      "cell_type": "markdown",
      "metadata": {
        "id": "rhPGcr8OZLTW"
      },
      "source": [
        "Criar dados"
      ]
    },
    {
      "cell_type": "code",
      "metadata": {
        "id": "SHfewLLxJuDX",
        "outputId": "90d279b3-98a1-41a0-9109-b26de8fa1cf8",
        "colab": {
          "base_uri": "https://localhost:8080/"
        }
      },
      "source": [
        "# np.arange(valor)\n",
        "'''Método para gerar valores em um intervalo que retorna um array unidimensional'''\n",
        "\n",
        "dados = np.arange(100)\n",
        "dados"
      ],
      "execution_count": null,
      "outputs": [
        {
          "output_type": "execute_result",
          "data": {
            "text/plain": [
              "array([ 0,  1,  2,  3,  4,  5,  6,  7,  8,  9, 10, 11, 12, 13, 14, 15, 16,\n",
              "       17, 18, 19, 20, 21, 22, 23, 24, 25, 26, 27, 28, 29, 30, 31, 32, 33,\n",
              "       34, 35, 36, 37, 38, 39, 40, 41, 42, 43, 44, 45, 46, 47, 48, 49, 50,\n",
              "       51, 52, 53, 54, 55, 56, 57, 58, 59, 60, 61, 62, 63, 64, 65, 66, 67,\n",
              "       68, 69, 70, 71, 72, 73, 74, 75, 76, 77, 78, 79, 80, 81, 82, 83, 84,\n",
              "       85, 86, 87, 88, 89, 90, 91, 92, 93, 94, 95, 96, 97, 98, 99])"
            ]
          },
          "metadata": {
            "tags": []
          },
          "execution_count": 3
        }
      ]
    },
    {
      "cell_type": "code",
      "metadata": {
        "id": "4Z4yXydqKs6q",
        "outputId": "6ba7cac5-8fec-4f3b-d51b-a05e32a9d1b6",
        "colab": {
          "base_uri": "https://localhost:8080/"
        }
      },
      "source": [
        "# np.reshape()\n",
        "'''Método para remodelar o formato de um array. Se nós temos um array\n",
        " unidimensional com 8 itens podemos regorganizalo em um conjunto de arrays\n",
        " de dois itens cada. Pensem em transforma um array em uma matriz.'''\n",
        "\n",
        "np.arange(100).reshape((10, 10))"
      ],
      "execution_count": null,
      "outputs": [
        {
          "output_type": "execute_result",
          "data": {
            "text/plain": [
              "array([[ 0,  1,  2,  3,  4,  5,  6,  7,  8,  9],\n",
              "       [10, 11, 12, 13, 14, 15, 16, 17, 18, 19],\n",
              "       [20, 21, 22, 23, 24, 25, 26, 27, 28, 29],\n",
              "       [30, 31, 32, 33, 34, 35, 36, 37, 38, 39],\n",
              "       [40, 41, 42, 43, 44, 45, 46, 47, 48, 49],\n",
              "       [50, 51, 52, 53, 54, 55, 56, 57, 58, 59],\n",
              "       [60, 61, 62, 63, 64, 65, 66, 67, 68, 69],\n",
              "       [70, 71, 72, 73, 74, 75, 76, 77, 78, 79],\n",
              "       [80, 81, 82, 83, 84, 85, 86, 87, 88, 89],\n",
              "       [90, 91, 92, 93, 94, 95, 96, 97, 98, 99]])"
            ]
          },
          "metadata": {
            "tags": []
          },
          "execution_count": 9
        }
      ]
    },
    {
      "cell_type": "markdown",
      "metadata": {
        "id": "oHRnZKH3ZeOs"
      },
      "source": [
        "Selecionar e buscar dados"
      ]
    },
    {
      "cell_type": "code",
      "metadata": {
        "id": "a6S1aLK2MxDT",
        "outputId": "cdb40783-ab1e-4926-ff32-680983c434b8",
        "colab": {
          "base_uri": "https://localhost:8080/"
        }
      },
      "source": [
        "# indice\n",
        "'''Quando você escreve um par de colchetes com um índice dentro\n",
        " deles, o Python entende que ele precisa selecionar e buscar todas\n",
        " as entradas com aquele índice.'''\n",
        "\n",
        "indice = ['lin 1', 'lin 2', 'lin 3', 'lin 4', 'lin 5',\n",
        "           'lin 6', 'lin 7', 'lin 8', 'lin 9', 'lin 10',\n",
        "           'lin 11', 'lin 12', 'lin 13', 'lin 14', 'lin 15',\n",
        "           'lin 16', 'lin 17', 'lin 18', 'lin 19', 'lin 20',\n",
        "           'lin 21', 'lin 22', 'lin 23', 'lin 24', 'lin 25']\n",
        "serie = Series(np.arange(25), index=indice)\n",
        "serie"
      ],
      "execution_count": 9,
      "outputs": [
        {
          "output_type": "execute_result",
          "data": {
            "text/plain": [
              "lin 1      0\n",
              "lin 2      1\n",
              "lin 3      2\n",
              "lin 4      3\n",
              "lin 5      4\n",
              "lin 6      5\n",
              "lin 7      6\n",
              "lin 8      7\n",
              "lin 9      8\n",
              "lin 10     9\n",
              "lin 11    10\n",
              "lin 12    11\n",
              "lin 13    12\n",
              "lin 14    13\n",
              "lin 15    14\n",
              "lin 16    15\n",
              "lin 17    16\n",
              "lin 18    17\n",
              "lin 19    18\n",
              "lin 20    19\n",
              "lin 21    20\n",
              "lin 22    21\n",
              "lin 23    22\n",
              "lin 24    23\n",
              "lin 25    24\n",
              "dtype: int64"
            ]
          },
          "metadata": {
            "tags": []
          },
          "execution_count": 9
        }
      ]
    },
    {
      "cell_type": "code",
      "metadata": {
        "id": "7vbCxrvMP5Fk",
        "outputId": "0f8d62a1-85c3-4846-d12f-1c15a4b04898",
        "colab": {
          "base_uri": "https://localhost:8080/"
        }
      },
      "source": [
        "serie['lin 8']"
      ],
      "execution_count": null,
      "outputs": [
        {
          "output_type": "execute_result",
          "data": {
            "text/plain": [
              "7"
            ]
          },
          "metadata": {
            "tags": []
          },
          "execution_count": 16
        }
      ]
    },
    {
      "cell_type": "code",
      "metadata": {
        "id": "AxRg2ZaFQCP_",
        "outputId": "425b5f42-6021-45fa-d746-bd60632779f6",
        "colab": {
          "base_uri": "https://localhost:8080/",
          "height": 534
        }
      },
      "source": [
        "np.random.seed(100)\n",
        "indice = ['lin 1', 'lin 2', 'lin 3', 'lin 4', 'lin 5',\n",
        "           'lin 6', 'lin 7', 'lin 8', 'lin 9', 'lin 10',]\n",
        "coluna = ['col 1', 'col 2', 'col 3', 'col 4', 'col 5',\n",
        "           'col 6', 'col 7', 'col 8', 'col 9', 'col 10',]\n",
        "df = DataFrame(np.random.rand(100).reshape((10,10)),\n",
        "               index=indice,\n",
        "               columns=coluna)\n",
        "df    "
      ],
      "execution_count": 5,
      "outputs": [
        {
          "output_type": "execute_result",
          "data": {
            "text/html": [
              "<div>\n",
              "<style scoped>\n",
              "    .dataframe tbody tr th:only-of-type {\n",
              "        vertical-align: middle;\n",
              "    }\n",
              "\n",
              "    .dataframe tbody tr th {\n",
              "        vertical-align: top;\n",
              "    }\n",
              "\n",
              "    .dataframe thead th {\n",
              "        text-align: right;\n",
              "    }\n",
              "</style>\n",
              "<table border=\"1\" class=\"dataframe\">\n",
              "  <thead>\n",
              "    <tr style=\"text-align: right;\">\n",
              "      <th></th>\n",
              "      <th>col 1</th>\n",
              "      <th>col 2</th>\n",
              "      <th>col 3</th>\n",
              "      <th>col 4</th>\n",
              "      <th>col 5</th>\n",
              "      <th>col 6</th>\n",
              "      <th>col 7</th>\n",
              "      <th>col 8</th>\n",
              "      <th>col 9</th>\n",
              "      <th>col 10</th>\n",
              "    </tr>\n",
              "  </thead>\n",
              "  <tbody>\n",
              "    <tr>\n",
              "      <th>lin 1</th>\n",
              "      <td>0.543405</td>\n",
              "      <td>0.278369</td>\n",
              "      <td>0.424518</td>\n",
              "      <td>0.844776</td>\n",
              "      <td>0.004719</td>\n",
              "      <td>0.121569</td>\n",
              "      <td>0.670749</td>\n",
              "      <td>0.825853</td>\n",
              "      <td>0.136707</td>\n",
              "      <td>0.575093</td>\n",
              "    </tr>\n",
              "    <tr>\n",
              "      <th>lin 2</th>\n",
              "      <td>0.891322</td>\n",
              "      <td>0.209202</td>\n",
              "      <td>0.185328</td>\n",
              "      <td>0.108377</td>\n",
              "      <td>0.219697</td>\n",
              "      <td>0.978624</td>\n",
              "      <td>0.811683</td>\n",
              "      <td>0.171941</td>\n",
              "      <td>0.816225</td>\n",
              "      <td>0.274074</td>\n",
              "    </tr>\n",
              "    <tr>\n",
              "      <th>lin 3</th>\n",
              "      <td>0.431704</td>\n",
              "      <td>0.940030</td>\n",
              "      <td>0.817649</td>\n",
              "      <td>0.336112</td>\n",
              "      <td>0.175410</td>\n",
              "      <td>0.372832</td>\n",
              "      <td>0.005689</td>\n",
              "      <td>0.252426</td>\n",
              "      <td>0.795663</td>\n",
              "      <td>0.015255</td>\n",
              "    </tr>\n",
              "    <tr>\n",
              "      <th>lin 4</th>\n",
              "      <td>0.598843</td>\n",
              "      <td>0.603805</td>\n",
              "      <td>0.105148</td>\n",
              "      <td>0.381943</td>\n",
              "      <td>0.036476</td>\n",
              "      <td>0.890412</td>\n",
              "      <td>0.980921</td>\n",
              "      <td>0.059942</td>\n",
              "      <td>0.890546</td>\n",
              "      <td>0.576901</td>\n",
              "    </tr>\n",
              "    <tr>\n",
              "      <th>lin 5</th>\n",
              "      <td>0.742480</td>\n",
              "      <td>0.630184</td>\n",
              "      <td>0.581842</td>\n",
              "      <td>0.020439</td>\n",
              "      <td>0.210027</td>\n",
              "      <td>0.544685</td>\n",
              "      <td>0.769115</td>\n",
              "      <td>0.250695</td>\n",
              "      <td>0.285896</td>\n",
              "      <td>0.852395</td>\n",
              "    </tr>\n",
              "    <tr>\n",
              "      <th>lin 6</th>\n",
              "      <td>0.975006</td>\n",
              "      <td>0.884853</td>\n",
              "      <td>0.359508</td>\n",
              "      <td>0.598859</td>\n",
              "      <td>0.354796</td>\n",
              "      <td>0.340190</td>\n",
              "      <td>0.178081</td>\n",
              "      <td>0.237694</td>\n",
              "      <td>0.044862</td>\n",
              "      <td>0.505431</td>\n",
              "    </tr>\n",
              "    <tr>\n",
              "      <th>lin 7</th>\n",
              "      <td>0.376252</td>\n",
              "      <td>0.592805</td>\n",
              "      <td>0.629942</td>\n",
              "      <td>0.142600</td>\n",
              "      <td>0.933841</td>\n",
              "      <td>0.946380</td>\n",
              "      <td>0.602297</td>\n",
              "      <td>0.387766</td>\n",
              "      <td>0.363188</td>\n",
              "      <td>0.204345</td>\n",
              "    </tr>\n",
              "    <tr>\n",
              "      <th>lin 8</th>\n",
              "      <td>0.276765</td>\n",
              "      <td>0.246536</td>\n",
              "      <td>0.173608</td>\n",
              "      <td>0.966610</td>\n",
              "      <td>0.957013</td>\n",
              "      <td>0.597974</td>\n",
              "      <td>0.731301</td>\n",
              "      <td>0.340385</td>\n",
              "      <td>0.092056</td>\n",
              "      <td>0.463498</td>\n",
              "    </tr>\n",
              "    <tr>\n",
              "      <th>lin 9</th>\n",
              "      <td>0.508699</td>\n",
              "      <td>0.088460</td>\n",
              "      <td>0.528035</td>\n",
              "      <td>0.992158</td>\n",
              "      <td>0.395036</td>\n",
              "      <td>0.335596</td>\n",
              "      <td>0.805451</td>\n",
              "      <td>0.754349</td>\n",
              "      <td>0.313066</td>\n",
              "      <td>0.634037</td>\n",
              "    </tr>\n",
              "    <tr>\n",
              "      <th>lin 10</th>\n",
              "      <td>0.540405</td>\n",
              "      <td>0.296794</td>\n",
              "      <td>0.110788</td>\n",
              "      <td>0.312640</td>\n",
              "      <td>0.456979</td>\n",
              "      <td>0.658940</td>\n",
              "      <td>0.254258</td>\n",
              "      <td>0.641101</td>\n",
              "      <td>0.200124</td>\n",
              "      <td>0.657625</td>\n",
              "    </tr>\n",
              "  </tbody>\n",
              "</table>\n",
              "</div>"
            ],
            "text/plain": [
              "           col 1     col 2     col 3  ...     col 8     col 9    col 10\n",
              "lin 1   0.543405  0.278369  0.424518  ...  0.825853  0.136707  0.575093\n",
              "lin 2   0.891322  0.209202  0.185328  ...  0.171941  0.816225  0.274074\n",
              "lin 3   0.431704  0.940030  0.817649  ...  0.252426  0.795663  0.015255\n",
              "lin 4   0.598843  0.603805  0.105148  ...  0.059942  0.890546  0.576901\n",
              "lin 5   0.742480  0.630184  0.581842  ...  0.250695  0.285896  0.852395\n",
              "lin 6   0.975006  0.884853  0.359508  ...  0.237694  0.044862  0.505431\n",
              "lin 7   0.376252  0.592805  0.629942  ...  0.387766  0.363188  0.204345\n",
              "lin 8   0.276765  0.246536  0.173608  ...  0.340385  0.092056  0.463498\n",
              "lin 9   0.508699  0.088460  0.528035  ...  0.754349  0.313066  0.634037\n",
              "lin 10  0.540405  0.296794  0.110788  ...  0.641101  0.200124  0.657625\n",
              "\n",
              "[10 rows x 10 columns]"
            ]
          },
          "metadata": {
            "tags": []
          },
          "execution_count": 5
        }
      ]
    },
    {
      "cell_type": "code",
      "metadata": {
        "id": "YCTtoyYBSKbd",
        "outputId": "ba656d3f-a3a5-43b7-dae1-9b3c15e3b475",
        "colab": {
          "base_uri": "https://localhost:8080/",
          "height": 359
        }
      },
      "source": [
        "# nome_do_objeto.loc[linhas, colunas]\n",
        "'''Quando você usa o indexador especial .loc[], e passa um conjunto\n",
        " de linhas e colunas, o Python entende que ele precisa selecionar e\n",
        " buscar apenas aquelas linhas e colunas.'''\n",
        "\n",
        "df.loc[['lin 1', 'lin 2', 'lin 3', 'lin 4', 'lin 5',\n",
        "         'lin 6', 'lin 7', 'lin 8', 'lin 9', 'lin 10'], \n",
        "         ['col 6', 'col 7', 'col 8', 'col 9', 'col 10']]"
      ],
      "execution_count": null,
      "outputs": [
        {
          "output_type": "execute_result",
          "data": {
            "text/html": [
              "<div>\n",
              "<style scoped>\n",
              "    .dataframe tbody tr th:only-of-type {\n",
              "        vertical-align: middle;\n",
              "    }\n",
              "\n",
              "    .dataframe tbody tr th {\n",
              "        vertical-align: top;\n",
              "    }\n",
              "\n",
              "    .dataframe thead th {\n",
              "        text-align: right;\n",
              "    }\n",
              "</style>\n",
              "<table border=\"1\" class=\"dataframe\">\n",
              "  <thead>\n",
              "    <tr style=\"text-align: right;\">\n",
              "      <th></th>\n",
              "      <th>col 6</th>\n",
              "      <th>col 7</th>\n",
              "      <th>col 8</th>\n",
              "      <th>col 9</th>\n",
              "      <th>col 10</th>\n",
              "    </tr>\n",
              "  </thead>\n",
              "  <tbody>\n",
              "    <tr>\n",
              "      <th>lin 1</th>\n",
              "      <td>0.121569</td>\n",
              "      <td>0.670749</td>\n",
              "      <td>0.825853</td>\n",
              "      <td>0.136707</td>\n",
              "      <td>0.575093</td>\n",
              "    </tr>\n",
              "    <tr>\n",
              "      <th>lin 2</th>\n",
              "      <td>0.978624</td>\n",
              "      <td>0.811683</td>\n",
              "      <td>0.171941</td>\n",
              "      <td>0.816225</td>\n",
              "      <td>0.274074</td>\n",
              "    </tr>\n",
              "    <tr>\n",
              "      <th>lin 3</th>\n",
              "      <td>0.372832</td>\n",
              "      <td>0.005689</td>\n",
              "      <td>0.252426</td>\n",
              "      <td>0.795663</td>\n",
              "      <td>0.015255</td>\n",
              "    </tr>\n",
              "    <tr>\n",
              "      <th>lin 4</th>\n",
              "      <td>0.890412</td>\n",
              "      <td>0.980921</td>\n",
              "      <td>0.059942</td>\n",
              "      <td>0.890546</td>\n",
              "      <td>0.576901</td>\n",
              "    </tr>\n",
              "    <tr>\n",
              "      <th>lin 5</th>\n",
              "      <td>0.544685</td>\n",
              "      <td>0.769115</td>\n",
              "      <td>0.250695</td>\n",
              "      <td>0.285896</td>\n",
              "      <td>0.852395</td>\n",
              "    </tr>\n",
              "    <tr>\n",
              "      <th>lin 6</th>\n",
              "      <td>0.340190</td>\n",
              "      <td>0.178081</td>\n",
              "      <td>0.237694</td>\n",
              "      <td>0.044862</td>\n",
              "      <td>0.505431</td>\n",
              "    </tr>\n",
              "    <tr>\n",
              "      <th>lin 7</th>\n",
              "      <td>0.946380</td>\n",
              "      <td>0.602297</td>\n",
              "      <td>0.387766</td>\n",
              "      <td>0.363188</td>\n",
              "      <td>0.204345</td>\n",
              "    </tr>\n",
              "    <tr>\n",
              "      <th>lin 8</th>\n",
              "      <td>0.597974</td>\n",
              "      <td>0.731301</td>\n",
              "      <td>0.340385</td>\n",
              "      <td>0.092056</td>\n",
              "      <td>0.463498</td>\n",
              "    </tr>\n",
              "    <tr>\n",
              "      <th>lin 9</th>\n",
              "      <td>0.335596</td>\n",
              "      <td>0.805451</td>\n",
              "      <td>0.754349</td>\n",
              "      <td>0.313066</td>\n",
              "      <td>0.634037</td>\n",
              "    </tr>\n",
              "    <tr>\n",
              "      <th>lin 10</th>\n",
              "      <td>0.658940</td>\n",
              "      <td>0.254258</td>\n",
              "      <td>0.641101</td>\n",
              "      <td>0.200124</td>\n",
              "      <td>0.657625</td>\n",
              "    </tr>\n",
              "  </tbody>\n",
              "</table>\n",
              "</div>"
            ],
            "text/plain": [
              "           col 6     col 7     col 8     col 9    col 10\n",
              "lin 1   0.121569  0.670749  0.825853  0.136707  0.575093\n",
              "lin 2   0.978624  0.811683  0.171941  0.816225  0.274074\n",
              "lin 3   0.372832  0.005689  0.252426  0.795663  0.015255\n",
              "lin 4   0.890412  0.980921  0.059942  0.890546  0.576901\n",
              "lin 5   0.544685  0.769115  0.250695  0.285896  0.852395\n",
              "lin 6   0.340190  0.178081  0.237694  0.044862  0.505431\n",
              "lin 7   0.946380  0.602297  0.387766  0.363188  0.204345\n",
              "lin 8   0.597974  0.731301  0.340385  0.092056  0.463498\n",
              "lin 9   0.335596  0.805451  0.754349  0.313066  0.634037\n",
              "lin 10  0.658940  0.254258  0.641101  0.200124  0.657625"
            ]
          },
          "metadata": {
            "tags": []
          },
          "execution_count": 20
        }
      ]
    },
    {
      "cell_type": "markdown",
      "metadata": {
        "id": "oVY10qyOZv3U"
      },
      "source": [
        "Fatiando dados"
      ]
    },
    {
      "cell_type": "code",
      "metadata": {
        "id": "qUD1sjQDTx0A",
        "outputId": "e4998707-82b0-488d-b481-edf8df45453a",
        "colab": {
          "base_uri": "https://localhost:8080/"
        }
      },
      "source": [
        "# ['índice inicial':'índice final']\n",
        "'''Fatiar dados permite que voce selecione e busque todos os registros\n",
        " começando pelo índice inicial até o índice final e todos os registros entre\n",
        " esses dois.'''\n",
        "\n",
        "serie['lin 3':'lin 15']"
      ],
      "execution_count": 10,
      "outputs": [
        {
          "output_type": "execute_result",
          "data": {
            "text/plain": [
              "lin 3      2\n",
              "lin 4      3\n",
              "lin 5      4\n",
              "lin 6      5\n",
              "lin 7      6\n",
              "lin 8      7\n",
              "lin 9      8\n",
              "lin 10     9\n",
              "lin 11    10\n",
              "lin 12    11\n",
              "lin 13    12\n",
              "lin 14    13\n",
              "lin 15    14\n",
              "dtype: int64"
            ]
          },
          "metadata": {
            "tags": []
          },
          "execution_count": 10
        }
      ]
    },
    {
      "cell_type": "markdown",
      "metadata": {
        "id": "1sA2jmU3aAaT"
      },
      "source": [
        "___\n",
        "## Filtrando dados\n",
        "___"
      ]
    },
    {
      "cell_type": "code",
      "metadata": {
        "id": "9zQWU2NbaMfL",
        "outputId": "10a37954-8248-438f-b919-bb29e640454f",
        "colab": {
          "base_uri": "https://localhost:8080/",
          "height": 534
        }
      },
      "source": [
        "df"
      ],
      "execution_count": 6,
      "outputs": [
        {
          "output_type": "execute_result",
          "data": {
            "text/html": [
              "<div>\n",
              "<style scoped>\n",
              "    .dataframe tbody tr th:only-of-type {\n",
              "        vertical-align: middle;\n",
              "    }\n",
              "\n",
              "    .dataframe tbody tr th {\n",
              "        vertical-align: top;\n",
              "    }\n",
              "\n",
              "    .dataframe thead th {\n",
              "        text-align: right;\n",
              "    }\n",
              "</style>\n",
              "<table border=\"1\" class=\"dataframe\">\n",
              "  <thead>\n",
              "    <tr style=\"text-align: right;\">\n",
              "      <th></th>\n",
              "      <th>col 1</th>\n",
              "      <th>col 2</th>\n",
              "      <th>col 3</th>\n",
              "      <th>col 4</th>\n",
              "      <th>col 5</th>\n",
              "      <th>col 6</th>\n",
              "      <th>col 7</th>\n",
              "      <th>col 8</th>\n",
              "      <th>col 9</th>\n",
              "      <th>col 10</th>\n",
              "    </tr>\n",
              "  </thead>\n",
              "  <tbody>\n",
              "    <tr>\n",
              "      <th>lin 1</th>\n",
              "      <td>0.543405</td>\n",
              "      <td>0.278369</td>\n",
              "      <td>0.424518</td>\n",
              "      <td>0.844776</td>\n",
              "      <td>0.004719</td>\n",
              "      <td>0.121569</td>\n",
              "      <td>0.670749</td>\n",
              "      <td>0.825853</td>\n",
              "      <td>0.136707</td>\n",
              "      <td>0.575093</td>\n",
              "    </tr>\n",
              "    <tr>\n",
              "      <th>lin 2</th>\n",
              "      <td>0.891322</td>\n",
              "      <td>0.209202</td>\n",
              "      <td>0.185328</td>\n",
              "      <td>0.108377</td>\n",
              "      <td>0.219697</td>\n",
              "      <td>0.978624</td>\n",
              "      <td>0.811683</td>\n",
              "      <td>0.171941</td>\n",
              "      <td>0.816225</td>\n",
              "      <td>0.274074</td>\n",
              "    </tr>\n",
              "    <tr>\n",
              "      <th>lin 3</th>\n",
              "      <td>0.431704</td>\n",
              "      <td>0.940030</td>\n",
              "      <td>0.817649</td>\n",
              "      <td>0.336112</td>\n",
              "      <td>0.175410</td>\n",
              "      <td>0.372832</td>\n",
              "      <td>0.005689</td>\n",
              "      <td>0.252426</td>\n",
              "      <td>0.795663</td>\n",
              "      <td>0.015255</td>\n",
              "    </tr>\n",
              "    <tr>\n",
              "      <th>lin 4</th>\n",
              "      <td>0.598843</td>\n",
              "      <td>0.603805</td>\n",
              "      <td>0.105148</td>\n",
              "      <td>0.381943</td>\n",
              "      <td>0.036476</td>\n",
              "      <td>0.890412</td>\n",
              "      <td>0.980921</td>\n",
              "      <td>0.059942</td>\n",
              "      <td>0.890546</td>\n",
              "      <td>0.576901</td>\n",
              "    </tr>\n",
              "    <tr>\n",
              "      <th>lin 5</th>\n",
              "      <td>0.742480</td>\n",
              "      <td>0.630184</td>\n",
              "      <td>0.581842</td>\n",
              "      <td>0.020439</td>\n",
              "      <td>0.210027</td>\n",
              "      <td>0.544685</td>\n",
              "      <td>0.769115</td>\n",
              "      <td>0.250695</td>\n",
              "      <td>0.285896</td>\n",
              "      <td>0.852395</td>\n",
              "    </tr>\n",
              "    <tr>\n",
              "      <th>lin 6</th>\n",
              "      <td>0.975006</td>\n",
              "      <td>0.884853</td>\n",
              "      <td>0.359508</td>\n",
              "      <td>0.598859</td>\n",
              "      <td>0.354796</td>\n",
              "      <td>0.340190</td>\n",
              "      <td>0.178081</td>\n",
              "      <td>0.237694</td>\n",
              "      <td>0.044862</td>\n",
              "      <td>0.505431</td>\n",
              "    </tr>\n",
              "    <tr>\n",
              "      <th>lin 7</th>\n",
              "      <td>0.376252</td>\n",
              "      <td>0.592805</td>\n",
              "      <td>0.629942</td>\n",
              "      <td>0.142600</td>\n",
              "      <td>0.933841</td>\n",
              "      <td>0.946380</td>\n",
              "      <td>0.602297</td>\n",
              "      <td>0.387766</td>\n",
              "      <td>0.363188</td>\n",
              "      <td>0.204345</td>\n",
              "    </tr>\n",
              "    <tr>\n",
              "      <th>lin 8</th>\n",
              "      <td>0.276765</td>\n",
              "      <td>0.246536</td>\n",
              "      <td>0.173608</td>\n",
              "      <td>0.966610</td>\n",
              "      <td>0.957013</td>\n",
              "      <td>0.597974</td>\n",
              "      <td>0.731301</td>\n",
              "      <td>0.340385</td>\n",
              "      <td>0.092056</td>\n",
              "      <td>0.463498</td>\n",
              "    </tr>\n",
              "    <tr>\n",
              "      <th>lin 9</th>\n",
              "      <td>0.508699</td>\n",
              "      <td>0.088460</td>\n",
              "      <td>0.528035</td>\n",
              "      <td>0.992158</td>\n",
              "      <td>0.395036</td>\n",
              "      <td>0.335596</td>\n",
              "      <td>0.805451</td>\n",
              "      <td>0.754349</td>\n",
              "      <td>0.313066</td>\n",
              "      <td>0.634037</td>\n",
              "    </tr>\n",
              "    <tr>\n",
              "      <th>lin 10</th>\n",
              "      <td>0.540405</td>\n",
              "      <td>0.296794</td>\n",
              "      <td>0.110788</td>\n",
              "      <td>0.312640</td>\n",
              "      <td>0.456979</td>\n",
              "      <td>0.658940</td>\n",
              "      <td>0.254258</td>\n",
              "      <td>0.641101</td>\n",
              "      <td>0.200124</td>\n",
              "      <td>0.657625</td>\n",
              "    </tr>\n",
              "  </tbody>\n",
              "</table>\n",
              "</div>"
            ],
            "text/plain": [
              "           col 1     col 2     col 3  ...     col 8     col 9    col 10\n",
              "lin 1   0.543405  0.278369  0.424518  ...  0.825853  0.136707  0.575093\n",
              "lin 2   0.891322  0.209202  0.185328  ...  0.171941  0.816225  0.274074\n",
              "lin 3   0.431704  0.940030  0.817649  ...  0.252426  0.795663  0.015255\n",
              "lin 4   0.598843  0.603805  0.105148  ...  0.059942  0.890546  0.576901\n",
              "lin 5   0.742480  0.630184  0.581842  ...  0.250695  0.285896  0.852395\n",
              "lin 6   0.975006  0.884853  0.359508  ...  0.237694  0.044862  0.505431\n",
              "lin 7   0.376252  0.592805  0.629942  ...  0.387766  0.363188  0.204345\n",
              "lin 8   0.276765  0.246536  0.173608  ...  0.340385  0.092056  0.463498\n",
              "lin 9   0.508699  0.088460  0.528035  ...  0.754349  0.313066  0.634037\n",
              "lin 10  0.540405  0.296794  0.110788  ...  0.641101  0.200124  0.657625\n",
              "\n",
              "[10 rows x 10 columns]"
            ]
          },
          "metadata": {
            "tags": []
          },
          "execution_count": 6
        }
      ]
    },
    {
      "cell_type": "markdown",
      "metadata": {
        "id": "6JIlIMkOaXBZ"
      },
      "source": [
        "Comparando com um valor"
      ]
    },
    {
      "cell_type": "code",
      "metadata": {
        "id": "VbzI3a_Ob6w1",
        "outputId": "5a4bdab0-f5f3-4cba-df10-94e243b2f311",
        "colab": {
          "base_uri": "https://localhost:8080/",
          "height": 347
        }
      },
      "source": [
        "# nome_do_objeto < valor\n",
        "'''Você pode usar operadores de comparação (maior que e menor que) para\n",
        "  obter True / False para todos os registros para indicar a comparação\n",
        "  entre cada elemento e o valor de interesse.'''\n",
        "\n",
        "df < .8"
      ],
      "execution_count": null,
      "outputs": [
        {
          "output_type": "execute_result",
          "data": {
            "text/html": [
              "<div>\n",
              "<style scoped>\n",
              "    .dataframe tbody tr th:only-of-type {\n",
              "        vertical-align: middle;\n",
              "    }\n",
              "\n",
              "    .dataframe tbody tr th {\n",
              "        vertical-align: top;\n",
              "    }\n",
              "\n",
              "    .dataframe thead th {\n",
              "        text-align: right;\n",
              "    }\n",
              "</style>\n",
              "<table border=\"1\" class=\"dataframe\">\n",
              "  <thead>\n",
              "    <tr style=\"text-align: right;\">\n",
              "      <th></th>\n",
              "      <th>col 1</th>\n",
              "      <th>col 2</th>\n",
              "      <th>col 3</th>\n",
              "      <th>col 4</th>\n",
              "      <th>col 5</th>\n",
              "      <th>col 6</th>\n",
              "      <th>col 7</th>\n",
              "      <th>col 8</th>\n",
              "      <th>col 9</th>\n",
              "      <th>col 10</th>\n",
              "    </tr>\n",
              "  </thead>\n",
              "  <tbody>\n",
              "    <tr>\n",
              "      <th>lin 1</th>\n",
              "      <td>True</td>\n",
              "      <td>True</td>\n",
              "      <td>True</td>\n",
              "      <td>False</td>\n",
              "      <td>True</td>\n",
              "      <td>True</td>\n",
              "      <td>True</td>\n",
              "      <td>False</td>\n",
              "      <td>True</td>\n",
              "      <td>True</td>\n",
              "    </tr>\n",
              "    <tr>\n",
              "      <th>lin 2</th>\n",
              "      <td>False</td>\n",
              "      <td>True</td>\n",
              "      <td>True</td>\n",
              "      <td>True</td>\n",
              "      <td>True</td>\n",
              "      <td>False</td>\n",
              "      <td>False</td>\n",
              "      <td>True</td>\n",
              "      <td>False</td>\n",
              "      <td>True</td>\n",
              "    </tr>\n",
              "    <tr>\n",
              "      <th>lin 3</th>\n",
              "      <td>True</td>\n",
              "      <td>False</td>\n",
              "      <td>False</td>\n",
              "      <td>True</td>\n",
              "      <td>True</td>\n",
              "      <td>True</td>\n",
              "      <td>True</td>\n",
              "      <td>True</td>\n",
              "      <td>True</td>\n",
              "      <td>True</td>\n",
              "    </tr>\n",
              "    <tr>\n",
              "      <th>lin 4</th>\n",
              "      <td>True</td>\n",
              "      <td>True</td>\n",
              "      <td>True</td>\n",
              "      <td>True</td>\n",
              "      <td>True</td>\n",
              "      <td>False</td>\n",
              "      <td>False</td>\n",
              "      <td>True</td>\n",
              "      <td>False</td>\n",
              "      <td>True</td>\n",
              "    </tr>\n",
              "    <tr>\n",
              "      <th>lin 5</th>\n",
              "      <td>True</td>\n",
              "      <td>True</td>\n",
              "      <td>True</td>\n",
              "      <td>True</td>\n",
              "      <td>True</td>\n",
              "      <td>True</td>\n",
              "      <td>True</td>\n",
              "      <td>True</td>\n",
              "      <td>True</td>\n",
              "      <td>False</td>\n",
              "    </tr>\n",
              "    <tr>\n",
              "      <th>lin 6</th>\n",
              "      <td>False</td>\n",
              "      <td>False</td>\n",
              "      <td>True</td>\n",
              "      <td>True</td>\n",
              "      <td>True</td>\n",
              "      <td>True</td>\n",
              "      <td>True</td>\n",
              "      <td>True</td>\n",
              "      <td>True</td>\n",
              "      <td>True</td>\n",
              "    </tr>\n",
              "    <tr>\n",
              "      <th>lin 7</th>\n",
              "      <td>True</td>\n",
              "      <td>True</td>\n",
              "      <td>True</td>\n",
              "      <td>True</td>\n",
              "      <td>False</td>\n",
              "      <td>False</td>\n",
              "      <td>True</td>\n",
              "      <td>True</td>\n",
              "      <td>True</td>\n",
              "      <td>True</td>\n",
              "    </tr>\n",
              "    <tr>\n",
              "      <th>lin 8</th>\n",
              "      <td>True</td>\n",
              "      <td>True</td>\n",
              "      <td>True</td>\n",
              "      <td>False</td>\n",
              "      <td>False</td>\n",
              "      <td>True</td>\n",
              "      <td>True</td>\n",
              "      <td>True</td>\n",
              "      <td>True</td>\n",
              "      <td>True</td>\n",
              "    </tr>\n",
              "    <tr>\n",
              "      <th>lin 9</th>\n",
              "      <td>True</td>\n",
              "      <td>True</td>\n",
              "      <td>True</td>\n",
              "      <td>False</td>\n",
              "      <td>True</td>\n",
              "      <td>True</td>\n",
              "      <td>False</td>\n",
              "      <td>True</td>\n",
              "      <td>True</td>\n",
              "      <td>True</td>\n",
              "    </tr>\n",
              "    <tr>\n",
              "      <th>lin 10</th>\n",
              "      <td>True</td>\n",
              "      <td>True</td>\n",
              "      <td>True</td>\n",
              "      <td>True</td>\n",
              "      <td>True</td>\n",
              "      <td>True</td>\n",
              "      <td>True</td>\n",
              "      <td>True</td>\n",
              "      <td>True</td>\n",
              "      <td>True</td>\n",
              "    </tr>\n",
              "  </tbody>\n",
              "</table>\n",
              "</div>"
            ],
            "text/plain": [
              "        col 1  col 2  col 3  col 4  col 5  col 6  col 7  col 8  col 9  col 10\n",
              "lin 1    True   True   True  False   True   True   True  False   True    True\n",
              "lin 2   False   True   True   True   True  False  False   True  False    True\n",
              "lin 3    True  False  False   True   True   True   True   True   True    True\n",
              "lin 4    True   True   True   True   True  False  False   True  False    True\n",
              "lin 5    True   True   True   True   True   True   True   True   True   False\n",
              "lin 6   False  False   True   True   True   True   True   True   True    True\n",
              "lin 7    True   True   True   True  False  False   True   True   True    True\n",
              "lin 8    True   True   True  False  False   True   True   True   True    True\n",
              "lin 9    True   True   True  False   True   True  False   True   True    True\n",
              "lin 10   True   True   True   True   True   True   True   True   True    True"
            ]
          },
          "metadata": {
            "tags": []
          },
          "execution_count": 25
        }
      ]
    },
    {
      "cell_type": "markdown",
      "metadata": {
        "id": "hLH0O9FlcXij"
      },
      "source": [
        "Usando valor escalar para filtrar"
      ]
    },
    {
      "cell_type": "code",
      "metadata": {
        "id": "pfn1T-H0cfWT",
        "outputId": "b3b5b10f-6d39-4901-e342-5f7d2e74e582",
        "colab": {
          "base_uri": "https://localhost:8080/"
        }
      },
      "source": [
        "# nome_do_objetonome_do_objeto > valor\n",
        "'''Você também pode usar operadores de comparação e valores escalares \n",
        "  para filtrar apenas aqueles registros que satisfazem a comparação.'''\n",
        "\n",
        "series_obj = serie\n",
        "filtro = series_obj < 8\n",
        "series_obj[filtro]"
      ],
      "execution_count": 11,
      "outputs": [
        {
          "output_type": "execute_result",
          "data": {
            "text/plain": [
              "lin 1    0\n",
              "lin 2    1\n",
              "lin 3    2\n",
              "lin 4    3\n",
              "lin 5    4\n",
              "lin 6    5\n",
              "lin 7    6\n",
              "lin 8    7\n",
              "dtype: int64"
            ]
          },
          "metadata": {
            "tags": []
          },
          "execution_count": 11
        }
      ]
    },
    {
      "cell_type": "markdown",
      "metadata": {
        "id": "Ipy2wP97edHn"
      },
      "source": [
        "Atualizando valores"
      ]
    },
    {
      "cell_type": "code",
      "metadata": {
        "id": "MJRLTk_HegxM",
        "outputId": "81f97382-af72-4ad1-f7af-be26e77724b5",
        "colab": {
          "base_uri": "https://localhost:8080/"
        }
      },
      "source": [
        "# ['índice', 'índice', 'índice'] = valor\n",
        "'''Você pode atualizar todos os valores de um conjunto de índices.'''\n",
        "\n",
        "series_obj['lin 1', 'lin 5', 'lin 8'] = 1000\n",
        "series_obj"
      ],
      "execution_count": 12,
      "outputs": [
        {
          "output_type": "execute_result",
          "data": {
            "text/plain": [
              "lin 1     1000\n",
              "lin 2        1\n",
              "lin 3        2\n",
              "lin 4        3\n",
              "lin 5     1000\n",
              "lin 6        5\n",
              "lin 7        6\n",
              "lin 8     1000\n",
              "lin 9        8\n",
              "lin 10       9\n",
              "lin 11      10\n",
              "lin 12      11\n",
              "lin 13      12\n",
              "lin 14      13\n",
              "lin 15      14\n",
              "lin 16      15\n",
              "lin 17      16\n",
              "lin 18      17\n",
              "lin 19      18\n",
              "lin 20      19\n",
              "lin 21      20\n",
              "lin 22      21\n",
              "lin 23      22\n",
              "lin 24      23\n",
              "lin 25      24\n",
              "dtype: int64"
            ]
          },
          "metadata": {
            "tags": []
          },
          "execution_count": 12
        }
      ]
    },
    {
      "cell_type": "markdown",
      "metadata": {
        "id": "Ypi5lF_oarx4"
      },
      "source": [
        "___\n",
        "## Encontrando e preenchendo valores em branco\n",
        "___"
      ]
    },
    {
      "cell_type": "markdown",
      "metadata": {
        "id": "iHVYOteUbSwN"
      },
      "source": [
        "Encontrando os valores em branco"
      ]
    },
    {
      "cell_type": "code",
      "metadata": {
        "id": "8r2d8oRXazOR",
        "outputId": "d1f3284d-8cd4-4eea-a6e8-8ca4a147682b",
        "colab": {
          "base_uri": "https://localhost:8080/"
        }
      },
      "source": [
        "'''O NumPy tem embutido nele um objeto chamado np.nan que serve para identificar\n",
        "  valores em branco'''\n",
        "\n",
        "branco = np.nan\n",
        "\n",
        "serie = Series(['linha 1', 'linha 2', branco, 'linha 4', 'linha 5', 'linha 6',\n",
        "                branco, 'linha 8'])\n",
        "serie"
      ],
      "execution_count": 13,
      "outputs": [
        {
          "output_type": "execute_result",
          "data": {
            "text/plain": [
              "0    linha 1\n",
              "1    linha 2\n",
              "2        NaN\n",
              "3    linha 4\n",
              "4    linha 5\n",
              "5    linha 6\n",
              "6        NaN\n",
              "7    linha 8\n",
              "dtype: object"
            ]
          },
          "metadata": {
            "tags": []
          },
          "execution_count": 13
        }
      ]
    },
    {
      "cell_type": "code",
      "metadata": {
        "id": "1yWmPMFscFhr",
        "outputId": "e2a6e7b8-6841-42d4-9156-021834b59b7a",
        "colab": {
          "base_uri": "https://localhost:8080/"
        }
      },
      "source": [
        "# nome_do_objeto.isnull()\n",
        "'''O método .isnull() retornar uma valores booleanos (True ou Falso) se um item \n",
        "  dentro de um objeto Pandas é nulo/vazio.'''\n",
        "\n",
        "serie.isnull()"
      ],
      "execution_count": 15,
      "outputs": [
        {
          "output_type": "execute_result",
          "data": {
            "text/plain": [
              "0    False\n",
              "1    False\n",
              "2     True\n",
              "3    False\n",
              "4    False\n",
              "5    False\n",
              "6     True\n",
              "7    False\n",
              "dtype: bool"
            ]
          },
          "metadata": {
            "tags": []
          },
          "execution_count": 15
        }
      ]
    },
    {
      "cell_type": "markdown",
      "metadata": {
        "id": "woG6r5gqcuEQ"
      },
      "source": [
        "Preenchendo valores em branco"
      ]
    },
    {
      "cell_type": "code",
      "metadata": {
        "id": "Rotxnnm8ceId",
        "outputId": "1579a23f-0af1-4697-bffe-c2aced3490fa",
        "colab": {
          "base_uri": "https://localhost:8080/",
          "height": 347
        }
      },
      "source": [
        "np.random.seed(50)\n",
        "df = DataFrame(np.random.randn(50).reshape(10,5))\n",
        "df.loc[3:5, 0] = branco\n",
        "df.loc[1:4, 4] = branco\n",
        "df"
      ],
      "execution_count": 29,
      "outputs": [
        {
          "output_type": "execute_result",
          "data": {
            "text/html": [
              "<div>\n",
              "<style scoped>\n",
              "    .dataframe tbody tr th:only-of-type {\n",
              "        vertical-align: middle;\n",
              "    }\n",
              "\n",
              "    .dataframe tbody tr th {\n",
              "        vertical-align: top;\n",
              "    }\n",
              "\n",
              "    .dataframe thead th {\n",
              "        text-align: right;\n",
              "    }\n",
              "</style>\n",
              "<table border=\"1\" class=\"dataframe\">\n",
              "  <thead>\n",
              "    <tr style=\"text-align: right;\">\n",
              "      <th></th>\n",
              "      <th>0</th>\n",
              "      <th>1</th>\n",
              "      <th>2</th>\n",
              "      <th>3</th>\n",
              "      <th>4</th>\n",
              "    </tr>\n",
              "  </thead>\n",
              "  <tbody>\n",
              "    <tr>\n",
              "      <th>0</th>\n",
              "      <td>-1.560352</td>\n",
              "      <td>-0.030978</td>\n",
              "      <td>-0.620928</td>\n",
              "      <td>-1.464580</td>\n",
              "      <td>1.411946</td>\n",
              "    </tr>\n",
              "    <tr>\n",
              "      <th>1</th>\n",
              "      <td>-0.476732</td>\n",
              "      <td>-0.780469</td>\n",
              "      <td>1.070268</td>\n",
              "      <td>-1.282293</td>\n",
              "      <td>NaN</td>\n",
              "    </tr>\n",
              "    <tr>\n",
              "      <th>2</th>\n",
              "      <td>0.126338</td>\n",
              "      <td>0.862194</td>\n",
              "      <td>0.696737</td>\n",
              "      <td>-0.334565</td>\n",
              "      <td>NaN</td>\n",
              "    </tr>\n",
              "    <tr>\n",
              "      <th>3</th>\n",
              "      <td>NaN</td>\n",
              "      <td>3.314075</td>\n",
              "      <td>0.987770</td>\n",
              "      <td>0.123866</td>\n",
              "      <td>NaN</td>\n",
              "    </tr>\n",
              "    <tr>\n",
              "      <th>4</th>\n",
              "      <td>NaN</td>\n",
              "      <td>0.148116</td>\n",
              "      <td>-0.412234</td>\n",
              "      <td>-0.160715</td>\n",
              "      <td>NaN</td>\n",
              "    </tr>\n",
              "    <tr>\n",
              "      <th>5</th>\n",
              "      <td>NaN</td>\n",
              "      <td>-0.281262</td>\n",
              "      <td>1.710907</td>\n",
              "      <td>-0.149767</td>\n",
              "      <td>0.690307</td>\n",
              "    </tr>\n",
              "    <tr>\n",
              "      <th>6</th>\n",
              "      <td>1.095210</td>\n",
              "      <td>1.338409</td>\n",
              "      <td>-1.368982</td>\n",
              "      <td>0.486428</td>\n",
              "      <td>0.753522</td>\n",
              "    </tr>\n",
              "    <tr>\n",
              "      <th>7</th>\n",
              "      <td>0.363465</td>\n",
              "      <td>-0.314710</td>\n",
              "      <td>1.373281</td>\n",
              "      <td>-0.624417</td>\n",
              "      <td>0.375754</td>\n",
              "    </tr>\n",
              "    <tr>\n",
              "      <th>8</th>\n",
              "      <td>-0.200416</td>\n",
              "      <td>0.743038</td>\n",
              "      <td>0.857362</td>\n",
              "      <td>-1.506189</td>\n",
              "      <td>-1.666352</td>\n",
              "    </tr>\n",
              "    <tr>\n",
              "      <th>9</th>\n",
              "      <td>-0.218995</td>\n",
              "      <td>-0.358858</td>\n",
              "      <td>0.378528</td>\n",
              "      <td>0.684215</td>\n",
              "      <td>-1.167856</td>\n",
              "    </tr>\n",
              "  </tbody>\n",
              "</table>\n",
              "</div>"
            ],
            "text/plain": [
              "          0         1         2         3         4\n",
              "0 -1.560352 -0.030978 -0.620928 -1.464580  1.411946\n",
              "1 -0.476732 -0.780469  1.070268 -1.282293       NaN\n",
              "2  0.126338  0.862194  0.696737 -0.334565       NaN\n",
              "3       NaN  3.314075  0.987770  0.123866       NaN\n",
              "4       NaN  0.148116 -0.412234 -0.160715       NaN\n",
              "5       NaN -0.281262  1.710907 -0.149767  0.690307\n",
              "6  1.095210  1.338409 -1.368982  0.486428  0.753522\n",
              "7  0.363465 -0.314710  1.373281 -0.624417  0.375754\n",
              "8 -0.200416  0.743038  0.857362 -1.506189 -1.666352\n",
              "9 -0.218995 -0.358858  0.378528  0.684215 -1.167856"
            ]
          },
          "metadata": {
            "tags": []
          },
          "execution_count": 29
        }
      ]
    },
    {
      "cell_type": "code",
      "metadata": {
        "id": "hVctlh2QeZ59",
        "outputId": "94057d17-8a7f-4667-8cf9-a7f10910a495",
        "colab": {
          "base_uri": "https://localhost:8080/",
          "height": 347
        }
      },
      "source": [
        "# nome_do_objeto.fillna(valor)\n",
        "'''O método .fillna() encontra os valores nulos do nosso objeto e preenche \n",
        "  esses valores com o novo valor que você passar.'''\n",
        "\n",
        "df_preenchido = df.fillna(0)\n",
        "df_preenchido"
      ],
      "execution_count": 30,
      "outputs": [
        {
          "output_type": "execute_result",
          "data": {
            "text/html": [
              "<div>\n",
              "<style scoped>\n",
              "    .dataframe tbody tr th:only-of-type {\n",
              "        vertical-align: middle;\n",
              "    }\n",
              "\n",
              "    .dataframe tbody tr th {\n",
              "        vertical-align: top;\n",
              "    }\n",
              "\n",
              "    .dataframe thead th {\n",
              "        text-align: right;\n",
              "    }\n",
              "</style>\n",
              "<table border=\"1\" class=\"dataframe\">\n",
              "  <thead>\n",
              "    <tr style=\"text-align: right;\">\n",
              "      <th></th>\n",
              "      <th>0</th>\n",
              "      <th>1</th>\n",
              "      <th>2</th>\n",
              "      <th>3</th>\n",
              "      <th>4</th>\n",
              "    </tr>\n",
              "  </thead>\n",
              "  <tbody>\n",
              "    <tr>\n",
              "      <th>0</th>\n",
              "      <td>-1.560352</td>\n",
              "      <td>-0.030978</td>\n",
              "      <td>-0.620928</td>\n",
              "      <td>-1.464580</td>\n",
              "      <td>1.411946</td>\n",
              "    </tr>\n",
              "    <tr>\n",
              "      <th>1</th>\n",
              "      <td>-0.476732</td>\n",
              "      <td>-0.780469</td>\n",
              "      <td>1.070268</td>\n",
              "      <td>-1.282293</td>\n",
              "      <td>0.000000</td>\n",
              "    </tr>\n",
              "    <tr>\n",
              "      <th>2</th>\n",
              "      <td>0.126338</td>\n",
              "      <td>0.862194</td>\n",
              "      <td>0.696737</td>\n",
              "      <td>-0.334565</td>\n",
              "      <td>0.000000</td>\n",
              "    </tr>\n",
              "    <tr>\n",
              "      <th>3</th>\n",
              "      <td>0.000000</td>\n",
              "      <td>3.314075</td>\n",
              "      <td>0.987770</td>\n",
              "      <td>0.123866</td>\n",
              "      <td>0.000000</td>\n",
              "    </tr>\n",
              "    <tr>\n",
              "      <th>4</th>\n",
              "      <td>0.000000</td>\n",
              "      <td>0.148116</td>\n",
              "      <td>-0.412234</td>\n",
              "      <td>-0.160715</td>\n",
              "      <td>0.000000</td>\n",
              "    </tr>\n",
              "    <tr>\n",
              "      <th>5</th>\n",
              "      <td>0.000000</td>\n",
              "      <td>-0.281262</td>\n",
              "      <td>1.710907</td>\n",
              "      <td>-0.149767</td>\n",
              "      <td>0.690307</td>\n",
              "    </tr>\n",
              "    <tr>\n",
              "      <th>6</th>\n",
              "      <td>1.095210</td>\n",
              "      <td>1.338409</td>\n",
              "      <td>-1.368982</td>\n",
              "      <td>0.486428</td>\n",
              "      <td>0.753522</td>\n",
              "    </tr>\n",
              "    <tr>\n",
              "      <th>7</th>\n",
              "      <td>0.363465</td>\n",
              "      <td>-0.314710</td>\n",
              "      <td>1.373281</td>\n",
              "      <td>-0.624417</td>\n",
              "      <td>0.375754</td>\n",
              "    </tr>\n",
              "    <tr>\n",
              "      <th>8</th>\n",
              "      <td>-0.200416</td>\n",
              "      <td>0.743038</td>\n",
              "      <td>0.857362</td>\n",
              "      <td>-1.506189</td>\n",
              "      <td>-1.666352</td>\n",
              "    </tr>\n",
              "    <tr>\n",
              "      <th>9</th>\n",
              "      <td>-0.218995</td>\n",
              "      <td>-0.358858</td>\n",
              "      <td>0.378528</td>\n",
              "      <td>0.684215</td>\n",
              "      <td>-1.167856</td>\n",
              "    </tr>\n",
              "  </tbody>\n",
              "</table>\n",
              "</div>"
            ],
            "text/plain": [
              "          0         1         2         3         4\n",
              "0 -1.560352 -0.030978 -0.620928 -1.464580  1.411946\n",
              "1 -0.476732 -0.780469  1.070268 -1.282293  0.000000\n",
              "2  0.126338  0.862194  0.696737 -0.334565  0.000000\n",
              "3  0.000000  3.314075  0.987770  0.123866  0.000000\n",
              "4  0.000000  0.148116 -0.412234 -0.160715  0.000000\n",
              "5  0.000000 -0.281262  1.710907 -0.149767  0.690307\n",
              "6  1.095210  1.338409 -1.368982  0.486428  0.753522\n",
              "7  0.363465 -0.314710  1.373281 -0.624417  0.375754\n",
              "8 -0.200416  0.743038  0.857362 -1.506189 -1.666352\n",
              "9 -0.218995 -0.358858  0.378528  0.684215 -1.167856"
            ]
          },
          "metadata": {
            "tags": []
          },
          "execution_count": 30
        }
      ]
    },
    {
      "cell_type": "code",
      "metadata": {
        "id": "8PDqszXGlKns",
        "outputId": "cbe00d1b-535c-4279-d593-123aafe8a7b8",
        "colab": {
          "base_uri": "https://localhost:8080/",
          "height": 347
        }
      },
      "source": [
        "# nome_do_objeto.fillna(dicionário)\n",
        "'''Você também pode passar um dicionário para o método .fillna(). \n",
        "  Usando um dicionário o método entende que cada chave do dicionário corresponde \n",
        "  a uma coluna e o seu par o valor a ser substituido na respectiva coluna.'''\n",
        "\n",
        "dicio = {0: 0.1, 4: 1.25}\n",
        "df_preenchido = df.fillna(dicio)\n",
        "df_preenchido"
      ],
      "execution_count": 33,
      "outputs": [
        {
          "output_type": "execute_result",
          "data": {
            "text/html": [
              "<div>\n",
              "<style scoped>\n",
              "    .dataframe tbody tr th:only-of-type {\n",
              "        vertical-align: middle;\n",
              "    }\n",
              "\n",
              "    .dataframe tbody tr th {\n",
              "        vertical-align: top;\n",
              "    }\n",
              "\n",
              "    .dataframe thead th {\n",
              "        text-align: right;\n",
              "    }\n",
              "</style>\n",
              "<table border=\"1\" class=\"dataframe\">\n",
              "  <thead>\n",
              "    <tr style=\"text-align: right;\">\n",
              "      <th></th>\n",
              "      <th>0</th>\n",
              "      <th>1</th>\n",
              "      <th>2</th>\n",
              "      <th>3</th>\n",
              "      <th>4</th>\n",
              "    </tr>\n",
              "  </thead>\n",
              "  <tbody>\n",
              "    <tr>\n",
              "      <th>0</th>\n",
              "      <td>-1.560352</td>\n",
              "      <td>-0.030978</td>\n",
              "      <td>-0.620928</td>\n",
              "      <td>-1.464580</td>\n",
              "      <td>1.411946</td>\n",
              "    </tr>\n",
              "    <tr>\n",
              "      <th>1</th>\n",
              "      <td>-0.476732</td>\n",
              "      <td>-0.780469</td>\n",
              "      <td>1.070268</td>\n",
              "      <td>-1.282293</td>\n",
              "      <td>1.250000</td>\n",
              "    </tr>\n",
              "    <tr>\n",
              "      <th>2</th>\n",
              "      <td>0.126338</td>\n",
              "      <td>0.862194</td>\n",
              "      <td>0.696737</td>\n",
              "      <td>-0.334565</td>\n",
              "      <td>1.250000</td>\n",
              "    </tr>\n",
              "    <tr>\n",
              "      <th>3</th>\n",
              "      <td>0.100000</td>\n",
              "      <td>3.314075</td>\n",
              "      <td>0.987770</td>\n",
              "      <td>0.123866</td>\n",
              "      <td>1.250000</td>\n",
              "    </tr>\n",
              "    <tr>\n",
              "      <th>4</th>\n",
              "      <td>0.100000</td>\n",
              "      <td>0.148116</td>\n",
              "      <td>-0.412234</td>\n",
              "      <td>-0.160715</td>\n",
              "      <td>1.250000</td>\n",
              "    </tr>\n",
              "    <tr>\n",
              "      <th>5</th>\n",
              "      <td>0.100000</td>\n",
              "      <td>-0.281262</td>\n",
              "      <td>1.710907</td>\n",
              "      <td>-0.149767</td>\n",
              "      <td>0.690307</td>\n",
              "    </tr>\n",
              "    <tr>\n",
              "      <th>6</th>\n",
              "      <td>1.095210</td>\n",
              "      <td>1.338409</td>\n",
              "      <td>-1.368982</td>\n",
              "      <td>0.486428</td>\n",
              "      <td>0.753522</td>\n",
              "    </tr>\n",
              "    <tr>\n",
              "      <th>7</th>\n",
              "      <td>0.363465</td>\n",
              "      <td>-0.314710</td>\n",
              "      <td>1.373281</td>\n",
              "      <td>-0.624417</td>\n",
              "      <td>0.375754</td>\n",
              "    </tr>\n",
              "    <tr>\n",
              "      <th>8</th>\n",
              "      <td>-0.200416</td>\n",
              "      <td>0.743038</td>\n",
              "      <td>0.857362</td>\n",
              "      <td>-1.506189</td>\n",
              "      <td>-1.666352</td>\n",
              "    </tr>\n",
              "    <tr>\n",
              "      <th>9</th>\n",
              "      <td>-0.218995</td>\n",
              "      <td>-0.358858</td>\n",
              "      <td>0.378528</td>\n",
              "      <td>0.684215</td>\n",
              "      <td>-1.167856</td>\n",
              "    </tr>\n",
              "  </tbody>\n",
              "</table>\n",
              "</div>"
            ],
            "text/plain": [
              "          0         1         2         3         4\n",
              "0 -1.560352 -0.030978 -0.620928 -1.464580  1.411946\n",
              "1 -0.476732 -0.780469  1.070268 -1.282293  1.250000\n",
              "2  0.126338  0.862194  0.696737 -0.334565  1.250000\n",
              "3  0.100000  3.314075  0.987770  0.123866  1.250000\n",
              "4  0.100000  0.148116 -0.412234 -0.160715  1.250000\n",
              "5  0.100000 -0.281262  1.710907 -0.149767  0.690307\n",
              "6  1.095210  1.338409 -1.368982  0.486428  0.753522\n",
              "7  0.363465 -0.314710  1.373281 -0.624417  0.375754\n",
              "8 -0.200416  0.743038  0.857362 -1.506189 -1.666352\n",
              "9 -0.218995 -0.358858  0.378528  0.684215 -1.167856"
            ]
          },
          "metadata": {
            "tags": []
          },
          "execution_count": 33
        }
      ]
    },
    {
      "cell_type": "markdown",
      "metadata": {
        "id": "R-f20oxzrszK"
      },
      "source": [
        "___\n",
        "### Contando e removendo valores em branco\n",
        "___"
      ]
    },
    {
      "cell_type": "code",
      "metadata": {
        "id": "Bu_19VX2sf9o",
        "outputId": "840f94b5-450d-453e-e9e7-6559929a4b0d",
        "colab": {
          "base_uri": "https://localhost:8080/",
          "height": 347
        }
      },
      "source": [
        "df"
      ],
      "execution_count": 35,
      "outputs": [
        {
          "output_type": "execute_result",
          "data": {
            "text/html": [
              "<div>\n",
              "<style scoped>\n",
              "    .dataframe tbody tr th:only-of-type {\n",
              "        vertical-align: middle;\n",
              "    }\n",
              "\n",
              "    .dataframe tbody tr th {\n",
              "        vertical-align: top;\n",
              "    }\n",
              "\n",
              "    .dataframe thead th {\n",
              "        text-align: right;\n",
              "    }\n",
              "</style>\n",
              "<table border=\"1\" class=\"dataframe\">\n",
              "  <thead>\n",
              "    <tr style=\"text-align: right;\">\n",
              "      <th></th>\n",
              "      <th>0</th>\n",
              "      <th>1</th>\n",
              "      <th>2</th>\n",
              "      <th>3</th>\n",
              "      <th>4</th>\n",
              "    </tr>\n",
              "  </thead>\n",
              "  <tbody>\n",
              "    <tr>\n",
              "      <th>0</th>\n",
              "      <td>-1.560352</td>\n",
              "      <td>-0.030978</td>\n",
              "      <td>-0.620928</td>\n",
              "      <td>-1.464580</td>\n",
              "      <td>1.411946</td>\n",
              "    </tr>\n",
              "    <tr>\n",
              "      <th>1</th>\n",
              "      <td>-0.476732</td>\n",
              "      <td>-0.780469</td>\n",
              "      <td>1.070268</td>\n",
              "      <td>-1.282293</td>\n",
              "      <td>NaN</td>\n",
              "    </tr>\n",
              "    <tr>\n",
              "      <th>2</th>\n",
              "      <td>0.126338</td>\n",
              "      <td>0.862194</td>\n",
              "      <td>0.696737</td>\n",
              "      <td>-0.334565</td>\n",
              "      <td>NaN</td>\n",
              "    </tr>\n",
              "    <tr>\n",
              "      <th>3</th>\n",
              "      <td>NaN</td>\n",
              "      <td>3.314075</td>\n",
              "      <td>0.987770</td>\n",
              "      <td>0.123866</td>\n",
              "      <td>NaN</td>\n",
              "    </tr>\n",
              "    <tr>\n",
              "      <th>4</th>\n",
              "      <td>NaN</td>\n",
              "      <td>0.148116</td>\n",
              "      <td>-0.412234</td>\n",
              "      <td>-0.160715</td>\n",
              "      <td>NaN</td>\n",
              "    </tr>\n",
              "    <tr>\n",
              "      <th>5</th>\n",
              "      <td>NaN</td>\n",
              "      <td>-0.281262</td>\n",
              "      <td>1.710907</td>\n",
              "      <td>-0.149767</td>\n",
              "      <td>0.690307</td>\n",
              "    </tr>\n",
              "    <tr>\n",
              "      <th>6</th>\n",
              "      <td>1.095210</td>\n",
              "      <td>1.338409</td>\n",
              "      <td>-1.368982</td>\n",
              "      <td>0.486428</td>\n",
              "      <td>0.753522</td>\n",
              "    </tr>\n",
              "    <tr>\n",
              "      <th>7</th>\n",
              "      <td>0.363465</td>\n",
              "      <td>-0.314710</td>\n",
              "      <td>1.373281</td>\n",
              "      <td>-0.624417</td>\n",
              "      <td>0.375754</td>\n",
              "    </tr>\n",
              "    <tr>\n",
              "      <th>8</th>\n",
              "      <td>-0.200416</td>\n",
              "      <td>0.743038</td>\n",
              "      <td>0.857362</td>\n",
              "      <td>-1.506189</td>\n",
              "      <td>-1.666352</td>\n",
              "    </tr>\n",
              "    <tr>\n",
              "      <th>9</th>\n",
              "      <td>-0.218995</td>\n",
              "      <td>-0.358858</td>\n",
              "      <td>0.378528</td>\n",
              "      <td>0.684215</td>\n",
              "      <td>-1.167856</td>\n",
              "    </tr>\n",
              "  </tbody>\n",
              "</table>\n",
              "</div>"
            ],
            "text/plain": [
              "          0         1         2         3         4\n",
              "0 -1.560352 -0.030978 -0.620928 -1.464580  1.411946\n",
              "1 -0.476732 -0.780469  1.070268 -1.282293       NaN\n",
              "2  0.126338  0.862194  0.696737 -0.334565       NaN\n",
              "3       NaN  3.314075  0.987770  0.123866       NaN\n",
              "4       NaN  0.148116 -0.412234 -0.160715       NaN\n",
              "5       NaN -0.281262  1.710907 -0.149767  0.690307\n",
              "6  1.095210  1.338409 -1.368982  0.486428  0.753522\n",
              "7  0.363465 -0.314710  1.373281 -0.624417  0.375754\n",
              "8 -0.200416  0.743038  0.857362 -1.506189 -1.666352\n",
              "9 -0.218995 -0.358858  0.378528  0.684215 -1.167856"
            ]
          },
          "metadata": {
            "tags": []
          },
          "execution_count": 35
        }
      ]
    },
    {
      "cell_type": "markdown",
      "metadata": {
        "id": "y6zfQoGbsGcL"
      },
      "source": [
        "Contando valores em branco"
      ]
    },
    {
      "cell_type": "code",
      "metadata": {
        "id": "MfLB7l1VrjpF",
        "outputId": "88a98204-fb22-4e14-a45e-c0e28e298638",
        "colab": {
          "base_uri": "https://localhost:8080/"
        }
      },
      "source": [
        "# nome_do_objeto.isnull().sum()\n",
        "'''Para calcular a quantidade de valores nulos que o nosso DataFrame tem por \n",
        "  coluna podemos usar o método .isnull(), e então usar o método .sum() a partir \n",
        "  da matriz de valores Booleanos.'''\n",
        "\n",
        "df.isnull().sum()"
      ],
      "execution_count": 36,
      "outputs": [
        {
          "output_type": "execute_result",
          "data": {
            "text/plain": [
              "0    3\n",
              "1    0\n",
              "2    0\n",
              "3    0\n",
              "4    4\n",
              "dtype: int64"
            ]
          },
          "metadata": {
            "tags": []
          },
          "execution_count": 36
        }
      ]
    },
    {
      "cell_type": "markdown",
      "metadata": {
        "id": "n70kR2hLsxlP"
      },
      "source": [
        "Removendo valore sem branco"
      ]
    },
    {
      "cell_type": "code",
      "metadata": {
        "id": "6HakZOLTs0iP",
        "outputId": "715999a6-7440-4157-e985-d7048091d813",
        "colab": {
          "base_uri": "https://localhost:8080/",
          "height": 347
        }
      },
      "source": [
        "# nome_do_objeto.dropna()\n",
        "'''Para identificar e remover as linhas que contém qualquer valor nulo, usamos o\n",
        "  método .dropna().'''\n",
        "\n",
        "'''NOTA: Se você quiser remover as colunas que apresentam valores nulos, basta \n",
        "  passar axis=1 como argumento para o método para que ele considere colunas ao \n",
        "  invés de linhas.'''\n",
        "\n",
        "df_limpo = df.dropna(axis=1)\n",
        "df_limpo  "
      ],
      "execution_count": 37,
      "outputs": [
        {
          "output_type": "execute_result",
          "data": {
            "text/html": [
              "<div>\n",
              "<style scoped>\n",
              "    .dataframe tbody tr th:only-of-type {\n",
              "        vertical-align: middle;\n",
              "    }\n",
              "\n",
              "    .dataframe tbody tr th {\n",
              "        vertical-align: top;\n",
              "    }\n",
              "\n",
              "    .dataframe thead th {\n",
              "        text-align: right;\n",
              "    }\n",
              "</style>\n",
              "<table border=\"1\" class=\"dataframe\">\n",
              "  <thead>\n",
              "    <tr style=\"text-align: right;\">\n",
              "      <th></th>\n",
              "      <th>1</th>\n",
              "      <th>2</th>\n",
              "      <th>3</th>\n",
              "    </tr>\n",
              "  </thead>\n",
              "  <tbody>\n",
              "    <tr>\n",
              "      <th>0</th>\n",
              "      <td>-0.030978</td>\n",
              "      <td>-0.620928</td>\n",
              "      <td>-1.464580</td>\n",
              "    </tr>\n",
              "    <tr>\n",
              "      <th>1</th>\n",
              "      <td>-0.780469</td>\n",
              "      <td>1.070268</td>\n",
              "      <td>-1.282293</td>\n",
              "    </tr>\n",
              "    <tr>\n",
              "      <th>2</th>\n",
              "      <td>0.862194</td>\n",
              "      <td>0.696737</td>\n",
              "      <td>-0.334565</td>\n",
              "    </tr>\n",
              "    <tr>\n",
              "      <th>3</th>\n",
              "      <td>3.314075</td>\n",
              "      <td>0.987770</td>\n",
              "      <td>0.123866</td>\n",
              "    </tr>\n",
              "    <tr>\n",
              "      <th>4</th>\n",
              "      <td>0.148116</td>\n",
              "      <td>-0.412234</td>\n",
              "      <td>-0.160715</td>\n",
              "    </tr>\n",
              "    <tr>\n",
              "      <th>5</th>\n",
              "      <td>-0.281262</td>\n",
              "      <td>1.710907</td>\n",
              "      <td>-0.149767</td>\n",
              "    </tr>\n",
              "    <tr>\n",
              "      <th>6</th>\n",
              "      <td>1.338409</td>\n",
              "      <td>-1.368982</td>\n",
              "      <td>0.486428</td>\n",
              "    </tr>\n",
              "    <tr>\n",
              "      <th>7</th>\n",
              "      <td>-0.314710</td>\n",
              "      <td>1.373281</td>\n",
              "      <td>-0.624417</td>\n",
              "    </tr>\n",
              "    <tr>\n",
              "      <th>8</th>\n",
              "      <td>0.743038</td>\n",
              "      <td>0.857362</td>\n",
              "      <td>-1.506189</td>\n",
              "    </tr>\n",
              "    <tr>\n",
              "      <th>9</th>\n",
              "      <td>-0.358858</td>\n",
              "      <td>0.378528</td>\n",
              "      <td>0.684215</td>\n",
              "    </tr>\n",
              "  </tbody>\n",
              "</table>\n",
              "</div>"
            ],
            "text/plain": [
              "          1         2         3\n",
              "0 -0.030978 -0.620928 -1.464580\n",
              "1 -0.780469  1.070268 -1.282293\n",
              "2  0.862194  0.696737 -0.334565\n",
              "3  3.314075  0.987770  0.123866\n",
              "4  0.148116 -0.412234 -0.160715\n",
              "5 -0.281262  1.710907 -0.149767\n",
              "6  1.338409 -1.368982  0.486428\n",
              "7 -0.314710  1.373281 -0.624417\n",
              "8  0.743038  0.857362 -1.506189\n",
              "9 -0.358858  0.378528  0.684215"
            ]
          },
          "metadata": {
            "tags": []
          },
          "execution_count": 37
        }
      ]
    },
    {
      "cell_type": "code",
      "metadata": {
        "id": "rbwHO806tn9c",
        "outputId": "1f622da0-426c-4fec-814b-c295bd2079e3",
        "colab": {
          "base_uri": "https://localhost:8080/"
        }
      },
      "source": [
        "df_limpo.isnull().sum()"
      ],
      "execution_count": 39,
      "outputs": [
        {
          "output_type": "execute_result",
          "data": {
            "text/plain": [
              "1    0\n",
              "2    0\n",
              "3    0\n",
              "dtype: int64"
            ]
          },
          "metadata": {
            "tags": []
          },
          "execution_count": 39
        }
      ]
    }
  ]
}