{
  "nbformat": 4,
  "nbformat_minor": 0,
  "metadata": {
    "colab": {
      "name": "in LEARNING.ipynb",
      "provenance": [],
      "collapsed_sections": [],
      "toc_visible": true,
      "authorship_tag": "ABX9TyPPBEvdSQGpBkOirogC3jt/",
      "include_colab_link": true
    },
    "kernelspec": {
      "name": "python3",
      "display_name": "Python 3"
    }
  },
  "cells": [
    {
      "cell_type": "markdown",
      "metadata": {
        "id": "view-in-github",
        "colab_type": "text"
      },
      "source": [
        "<a href=\"https://colab.research.google.com/github/joaocbjr/Learn_DataScience/blob/main/in_LEARNING.ipynb\" target=\"_parent\"><img src=\"https://colab.research.google.com/assets/colab-badge.svg\" alt=\"Open In Colab\"/></a>"
      ]
    },
    {
      "cell_type": "code",
      "metadata": {
        "id": "u7itqpFZngXr"
      },
      "source": [
        "import numpy as np\n",
        "import pandas as pd\n",
        "\n",
        "from pandas import Series, DataFrame"
      ],
      "execution_count": null,
      "outputs": []
    },
    {
      "cell_type": "markdown",
      "metadata": {
        "id": "cI-Pm5JhHBC-"
      },
      "source": [
        "# np.arange(valor)"
      ]
    },
    {
      "cell_type": "code",
      "metadata": {
        "id": "wLT9qLUsn_eX"
      },
      "source": [
        "dados = np.arange(8)"
      ],
      "execution_count": 19,
      "outputs": []
    },
    {
      "cell_type": "code",
      "metadata": {
        "id": "o1uBGBOookzu",
        "outputId": "29d38cfa-fa18-489f-9d28-a8cca7db78dd",
        "colab": {
          "base_uri": "https://localhost:8080/"
        }
      },
      "source": [
        "dados"
      ],
      "execution_count": 20,
      "outputs": [
        {
          "output_type": "execute_result",
          "data": {
            "text/plain": [
              "array([0, 1, 2, 3, 4, 5, 6, 7])"
            ]
          },
          "metadata": {
            "tags": []
          },
          "execution_count": 20
        }
      ]
    },
    {
      "cell_type": "markdown",
      "metadata": {
        "id": "pTqoUpFhHggc"
      },
      "source": [
        "# np.reshape ((linhas, colunas))"
      ]
    },
    {
      "cell_type": "code",
      "metadata": {
        "id": "mv_nIX3A0wLq",
        "outputId": "231dc3f0-f5e7-4f74-c319-ad2c0d240bf2",
        "colab": {
          "base_uri": "https://localhost:8080/"
        }
      },
      "source": [
        "dados.reshape((4,2))"
      ],
      "execution_count": 21,
      "outputs": [
        {
          "output_type": "execute_result",
          "data": {
            "text/plain": [
              "array([[0, 1],\n",
              "       [2, 3],\n",
              "       [4, 5],\n",
              "       [6, 7]])"
            ]
          },
          "metadata": {
            "tags": []
          },
          "execution_count": 21
        }
      ]
    },
    {
      "cell_type": "code",
      "metadata": {
        "id": "SVUWQff11YWO"
      },
      "source": [
        "''' Selecionar e buscar dados '''\n",
        "\n",
        "indice = ['linha 1', 'linha 2', 'linha 3', 'linha 4',\n",
        "          'linha 5', 'linha 6', 'linha 7', 'linha 8']\n",
        "serie = Series(dados, index=indice)"
      ],
      "execution_count": 22,
      "outputs": []
    },
    {
      "cell_type": "code",
      "metadata": {
        "id": "8NIDclAh2rja",
        "outputId": "09764e49-38cd-4fd0-e5a5-aeb649576e1c",
        "colab": {
          "base_uri": "https://localhost:8080/"
        }
      },
      "source": [
        "serie"
      ],
      "execution_count": 23,
      "outputs": [
        {
          "output_type": "execute_result",
          "data": {
            "text/plain": [
              "linha 1    0\n",
              "linha 2    1\n",
              "linha 3    2\n",
              "linha 4    3\n",
              "linha 5    4\n",
              "linha 6    5\n",
              "linha 7    6\n",
              "linha 8    7\n",
              "dtype: int64"
            ]
          },
          "metadata": {
            "tags": []
          },
          "execution_count": 23
        }
      ]
    },
    {
      "cell_type": "code",
      "metadata": {
        "id": "YkeEyPoO2zJh",
        "outputId": "452fafe0-9b1b-4569-f749-e95b6cbb2031",
        "colab": {
          "base_uri": "https://localhost:8080/"
        }
      },
      "source": [
        "serie['linha 7']"
      ],
      "execution_count": 26,
      "outputs": [
        {
          "output_type": "execute_result",
          "data": {
            "text/plain": [
              "6"
            ]
          },
          "metadata": {
            "tags": []
          },
          "execution_count": 26
        }
      ]
    },
    {
      "cell_type": "code",
      "metadata": {
        "id": "zjutito6KmTO",
        "outputId": "7687ad2b-3898-4a3f-888a-f054c012f3b1",
        "colab": {
          "base_uri": "https://localhost:8080/",
          "height": 235
        }
      },
      "source": [
        "np.random.seed(25)\n",
        "indice = ['linha 1', 'linha 2', 'linha 3', 'linha 4', 'linha 5', 'linha 6']\n",
        "colunas = ['coluna 1', 'coluna 2', 'coluna 3', 'coluna 4', 'coluna 5', 'coluna 6']\n",
        "df = DataFrame(np.random.rand(36).reshape((6,6)), \n",
        "               index=indice, \n",
        "               columns=colunas)\n",
        "df"
      ],
      "execution_count": 39,
      "outputs": [
        {
          "output_type": "execute_result",
          "data": {
            "text/html": [
              "<div>\n",
              "<style scoped>\n",
              "    .dataframe tbody tr th:only-of-type {\n",
              "        vertical-align: middle;\n",
              "    }\n",
              "\n",
              "    .dataframe tbody tr th {\n",
              "        vertical-align: top;\n",
              "    }\n",
              "\n",
              "    .dataframe thead th {\n",
              "        text-align: right;\n",
              "    }\n",
              "</style>\n",
              "<table border=\"1\" class=\"dataframe\">\n",
              "  <thead>\n",
              "    <tr style=\"text-align: right;\">\n",
              "      <th></th>\n",
              "      <th>coluna 1</th>\n",
              "      <th>coluna 2</th>\n",
              "      <th>coluna 3</th>\n",
              "      <th>coluna 4</th>\n",
              "      <th>coluna 5</th>\n",
              "      <th>coluna 6</th>\n",
              "    </tr>\n",
              "  </thead>\n",
              "  <tbody>\n",
              "    <tr>\n",
              "      <th>linha 1</th>\n",
              "      <td>0.870124</td>\n",
              "      <td>0.582277</td>\n",
              "      <td>0.278839</td>\n",
              "      <td>0.185911</td>\n",
              "      <td>0.411100</td>\n",
              "      <td>0.117376</td>\n",
              "    </tr>\n",
              "    <tr>\n",
              "      <th>linha 2</th>\n",
              "      <td>0.684969</td>\n",
              "      <td>0.437611</td>\n",
              "      <td>0.556229</td>\n",
              "      <td>0.367080</td>\n",
              "      <td>0.402366</td>\n",
              "      <td>0.113041</td>\n",
              "    </tr>\n",
              "    <tr>\n",
              "      <th>linha 3</th>\n",
              "      <td>0.447031</td>\n",
              "      <td>0.585445</td>\n",
              "      <td>0.161985</td>\n",
              "      <td>0.520719</td>\n",
              "      <td>0.326051</td>\n",
              "      <td>0.699186</td>\n",
              "    </tr>\n",
              "    <tr>\n",
              "      <th>linha 4</th>\n",
              "      <td>0.366395</td>\n",
              "      <td>0.836375</td>\n",
              "      <td>0.481343</td>\n",
              "      <td>0.516502</td>\n",
              "      <td>0.383048</td>\n",
              "      <td>0.997541</td>\n",
              "    </tr>\n",
              "    <tr>\n",
              "      <th>linha 5</th>\n",
              "      <td>0.514244</td>\n",
              "      <td>0.559053</td>\n",
              "      <td>0.034450</td>\n",
              "      <td>0.719930</td>\n",
              "      <td>0.421004</td>\n",
              "      <td>0.436935</td>\n",
              "    </tr>\n",
              "    <tr>\n",
              "      <th>linha 6</th>\n",
              "      <td>0.281701</td>\n",
              "      <td>0.900274</td>\n",
              "      <td>0.669612</td>\n",
              "      <td>0.456069</td>\n",
              "      <td>0.289804</td>\n",
              "      <td>0.525819</td>\n",
              "    </tr>\n",
              "  </tbody>\n",
              "</table>\n",
              "</div>"
            ],
            "text/plain": [
              "         coluna 1  coluna 2  coluna 3  coluna 4  coluna 5  coluna 6\n",
              "linha 1  0.870124  0.582277  0.278839  0.185911  0.411100  0.117376\n",
              "linha 2  0.684969  0.437611  0.556229  0.367080  0.402366  0.113041\n",
              "linha 3  0.447031  0.585445  0.161985  0.520719  0.326051  0.699186\n",
              "linha 4  0.366395  0.836375  0.481343  0.516502  0.383048  0.997541\n",
              "linha 5  0.514244  0.559053  0.034450  0.719930  0.421004  0.436935\n",
              "linha 6  0.281701  0.900274  0.669612  0.456069  0.289804  0.525819"
            ]
          },
          "metadata": {
            "tags": []
          },
          "execution_count": 39
        }
      ]
    },
    {
      "cell_type": "code",
      "metadata": {
        "id": "Zp1SgREDPZzS",
        "outputId": "de79ea30-d5f1-46fe-e9be-c9f3c4ec1051",
        "colab": {
          "base_uri": "https://localhost:8080/",
          "height": 111
        }
      },
      "source": [
        "''' nome_do_objeto.loc[[linha], [colunas]] '''\n",
        "\n",
        "df.loc[['linha 2', 'linha 4'], ['coluna 3', 'coluna 5']]"
      ],
      "execution_count": 42,
      "outputs": [
        {
          "output_type": "execute_result",
          "data": {
            "text/html": [
              "<div>\n",
              "<style scoped>\n",
              "    .dataframe tbody tr th:only-of-type {\n",
              "        vertical-align: middle;\n",
              "    }\n",
              "\n",
              "    .dataframe tbody tr th {\n",
              "        vertical-align: top;\n",
              "    }\n",
              "\n",
              "    .dataframe thead th {\n",
              "        text-align: right;\n",
              "    }\n",
              "</style>\n",
              "<table border=\"1\" class=\"dataframe\">\n",
              "  <thead>\n",
              "    <tr style=\"text-align: right;\">\n",
              "      <th></th>\n",
              "      <th>coluna 3</th>\n",
              "      <th>coluna 5</th>\n",
              "    </tr>\n",
              "  </thead>\n",
              "  <tbody>\n",
              "    <tr>\n",
              "      <th>linha 2</th>\n",
              "      <td>0.556229</td>\n",
              "      <td>0.402366</td>\n",
              "    </tr>\n",
              "    <tr>\n",
              "      <th>linha 4</th>\n",
              "      <td>0.481343</td>\n",
              "      <td>0.383048</td>\n",
              "    </tr>\n",
              "  </tbody>\n",
              "</table>\n",
              "</div>"
            ],
            "text/plain": [
              "         coluna 3  coluna 5\n",
              "linha 2  0.556229  0.402366\n",
              "linha 4  0.481343  0.383048"
            ]
          },
          "metadata": {
            "tags": []
          },
          "execution_count": 42
        }
      ]
    },
    {
      "cell_type": "markdown",
      "metadata": {
        "id": "HcW8QwH2QXdn"
      },
      "source": [
        "# Fatiando dados"
      ]
    },
    {
      "cell_type": "markdown",
      "metadata": {
        "id": "5aDQ_rwjQlAW"
      },
      "source": [
        "['[índice inicial]':'índice final']"
      ]
    },
    {
      "cell_type": "code",
      "metadata": {
        "id": "3UXSLe8HQVd6"
      },
      "source": [
        ""
      ],
      "execution_count": null,
      "outputs": []
    }
  ]
}