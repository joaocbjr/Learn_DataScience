{
  "nbformat": 4,
  "nbformat_minor": 0,
  "metadata": {
    "colab": {
      "name": "Cap 3 - Matemática e Estatística Básicas.ipynb",
      "provenance": [],
      "authorship_tag": "ABX9TyPUE5bgYY2fyL90ncS7YXCL",
      "include_colab_link": true
    },
    "kernelspec": {
      "name": "python3",
      "display_name": "Python 3"
    }
  },
  "cells": [
    {
      "cell_type": "markdown",
      "metadata": {
        "id": "view-in-github",
        "colab_type": "text"
      },
      "source": [
        "<a href=\"https://colab.research.google.com/github/joaocbjr/Learn_DataScience/blob/main/Cap_3_Matem%C3%A1tica_e_Estat%C3%ADstica_B%C3%A1sicas.ipynb\" target=\"_parent\"><img src=\"https://colab.research.google.com/assets/colab-badge.svg\" alt=\"Open In Colab\"/></a>"
      ]
    },
    {
      "cell_type": "markdown",
      "metadata": {
        "id": "HzXkHEcmVk3d"
      },
      "source": [
        "___\n",
        "##Arrays e NumPy\n",
        "___"
      ]
    },
    {
      "cell_type": "code",
      "metadata": {
        "id": "-g8SoYhCUxUI"
      },
      "source": [
        "import numpy as np\n",
        "from numpy.random import randn"
      ],
      "execution_count": null,
      "outputs": []
    },
    {
      "cell_type": "code",
      "metadata": {
        "id": "tfXDbfKgV5T6"
      },
      "source": [
        "np.set_printoptions(precision=2)"
      ],
      "execution_count": null,
      "outputs": []
    },
    {
      "cell_type": "markdown",
      "metadata": {
        "id": "Z6bJgpMLWMfo"
      },
      "source": [
        "###Criando arrays"
      ]
    },
    {
      "cell_type": "markdown",
      "metadata": {
        "id": "1zVFhcr5WSuY"
      },
      "source": [
        "Criando arrays usando listas"
      ]
    },
    {
      "cell_type": "code",
      "metadata": {
        "id": "CkuaOL7wWDvF",
        "outputId": "1284f688-a527-4ac3-b815-ad62aa1d6da8",
        "colab": {
          "base_uri": "https://localhost:8080/"
        }
      },
      "source": [
        "a = np.array([1,2,3,4,5,6])\n",
        "a"
      ],
      "execution_count": null,
      "outputs": [
        {
          "output_type": "execute_result",
          "data": {
            "text/plain": [
              "array([1, 2, 3, 4, 5, 6])"
            ]
          },
          "metadata": {
            "tags": []
          },
          "execution_count": 4
        }
      ]
    },
    {
      "cell_type": "markdown",
      "metadata": {
        "id": "dS1_GwxSW2FW"
      },
      "source": [
        "Criando arrays por atribuição"
      ]
    },
    {
      "cell_type": "code",
      "metadata": {
        "id": "rU1PoY1RWs_j",
        "outputId": "8a4d8c7b-69fb-49bf-eb58-0f77afb375e2",
        "colab": {
          "base_uri": "https://localhost:8080/"
        }
      },
      "source": [
        "np.random.seed(30)\n",
        "b = randn(6)\n",
        "b"
      ],
      "execution_count": null,
      "outputs": [
        {
          "output_type": "execute_result",
          "data": {
            "text/plain": [
              "array([-1.26,  1.53, -0.97,  0.47, -0.1 ,  0.3 ])"
            ]
          },
          "metadata": {
            "tags": []
          },
          "execution_count": 8
        }
      ]
    },
    {
      "cell_type": "code",
      "metadata": {
        "id": "-AEMwl4GXRkA",
        "outputId": "c0b24f1f-2a14-4df9-dc28-30adba478fdd",
        "colab": {
          "base_uri": "https://localhost:8080/"
        }
      },
      "source": [
        "c = np.arange(1,51)\n",
        "c"
      ],
      "execution_count": null,
      "outputs": [
        {
          "output_type": "execute_result",
          "data": {
            "text/plain": [
              "array([ 1,  2,  3,  4,  5,  6,  7,  8,  9, 10, 11, 12, 13, 14, 15, 16, 17,\n",
              "       18, 19, 20, 21, 22, 23, 24, 25, 26, 27, 28, 29, 30, 31, 32, 33, 34,\n",
              "       35, 36, 37, 38, 39, 40, 41, 42, 43, 44, 45, 46, 47, 48, 49, 50])"
            ]
          },
          "metadata": {
            "tags": []
          },
          "execution_count": 13
        }
      ]
    },
    {
      "cell_type": "markdown",
      "metadata": {
        "id": "3G4wuF1TYTwq"
      },
      "source": [
        "###Fazendo operações aritméticas com arrays"
      ]
    },
    {
      "cell_type": "code",
      "metadata": {
        "id": "ioXYqw9rXrvP",
        "outputId": "332cd32f-15b3-4071-f7a1-c474e1a8b3f1",
        "colab": {
          "base_uri": "https://localhost:8080/"
        }
      },
      "source": [
        "a * 10"
      ],
      "execution_count": null,
      "outputs": [
        {
          "output_type": "execute_result",
          "data": {
            "text/plain": [
              "array([10, 20, 30, 40, 50, 60])"
            ]
          },
          "metadata": {
            "tags": []
          },
          "execution_count": 14
        }
      ]
    },
    {
      "cell_type": "code",
      "metadata": {
        "id": "jcypm3Q5Yjh1",
        "outputId": "b51aa55a-38ed-49fe-faad-6b231e6959db",
        "colab": {
          "base_uri": "https://localhost:8080/"
        }
      },
      "source": [
        "b + a"
      ],
      "execution_count": null,
      "outputs": [
        {
          "output_type": "execute_result",
          "data": {
            "text/plain": [
              "array([-0.26,  3.53,  2.03,  4.47,  4.9 ,  6.3 ])"
            ]
          },
          "metadata": {
            "tags": []
          },
          "execution_count": 15
        }
      ]
    },
    {
      "cell_type": "markdown",
      "metadata": {
        "id": "nSCVwpUPZtMF"
      },
      "source": [
        "___\n",
        "##Matrizes e NumPy\n",
        "___"
      ]
    },
    {
      "cell_type": "code",
      "metadata": {
        "id": "qGzK8H-jaXn9"
      },
      "source": [
        "import numpy as np\n",
        "from numpy.random import randn"
      ],
      "execution_count": null,
      "outputs": []
    },
    {
      "cell_type": "code",
      "metadata": {
        "id": "Hoxd21zGacPY"
      },
      "source": [
        "np.set_printoptions(precision=2)"
      ],
      "execution_count": null,
      "outputs": []
    },
    {
      "cell_type": "markdown",
      "metadata": {
        "id": "icGDaYRuaiO7"
      },
      "source": [
        "Multiplicando matrizes e arrays"
      ]
    },
    {
      "cell_type": "code",
      "metadata": {
        "id": "2QvMzTkxahJ-",
        "outputId": "e48f2987-69ac-4701-9447-3b3598407ba1",
        "colab": {
          "base_uri": "https://localhost:8080/"
        }
      },
      "source": [
        "a = np.arange(3)\n",
        "a"
      ],
      "execution_count": null,
      "outputs": [
        {
          "output_type": "execute_result",
          "data": {
            "text/plain": [
              "array([0, 1, 2])"
            ]
          },
          "metadata": {
            "tags": []
          },
          "execution_count": 19
        }
      ]
    },
    {
      "cell_type": "code",
      "metadata": {
        "id": "QdhYc6Xsavvm",
        "outputId": "be60f979-3978-44c4-adb1-e34cb27e1821",
        "colab": {
          "base_uri": "https://localhost:8080/"
        }
      },
      "source": [
        "aa = np.array([[2.,4.,6.], [1.,3.,5.], [10.,20.,30.]])\n",
        "aa"
      ],
      "execution_count": null,
      "outputs": [
        {
          "output_type": "execute_result",
          "data": {
            "text/plain": [
              "array([[ 2.,  4.,  6.],\n",
              "       [ 1.,  3.,  5.],\n",
              "       [10., 20., 30.]])"
            ]
          },
          "metadata": {
            "tags": []
          },
          "execution_count": 20
        }
      ]
    },
    {
      "cell_type": "code",
      "metadata": {
        "id": "0oNwBMA7b8a8",
        "outputId": "ce219f06-8b77-42a4-a485-8c2761a2a566",
        "colab": {
          "base_uri": "https://localhost:8080/"
        }
      },
      "source": [
        "a * aa"
      ],
      "execution_count": null,
      "outputs": [
        {
          "output_type": "execute_result",
          "data": {
            "text/plain": [
              "array([[ 0.,  4., 12.],\n",
              "       [ 0.,  3., 10.],\n",
              "       [ 0., 20., 60.]])"
            ]
          },
          "metadata": {
            "tags": []
          },
          "execution_count": 21
        }
      ]
    },
    {
      "cell_type": "markdown",
      "metadata": {
        "id": "Gta8K8WPcR_e"
      },
      "source": [
        "Multiplicando matrizes e Produto escalar"
      ]
    },
    {
      "cell_type": "code",
      "metadata": {
        "id": "Bo3b19PdcUZv",
        "outputId": "d1ffecda-6b1a-470f-cfcd-a170e312acdc",
        "colab": {
          "base_uri": "https://localhost:8080/"
        }
      },
      "source": [
        "bb = np.arange(9).reshape((3,3))\n",
        "bb"
      ],
      "execution_count": null,
      "outputs": [
        {
          "output_type": "execute_result",
          "data": {
            "text/plain": [
              "array([[0, 1, 2],\n",
              "       [3, 4, 5],\n",
              "       [6, 7, 8]])"
            ]
          },
          "metadata": {
            "tags": []
          },
          "execution_count": 22
        }
      ]
    },
    {
      "cell_type": "code",
      "metadata": {
        "id": "KCm3WGbYceXF",
        "outputId": "ce59cb98-02ff-44cf-f9ca-c88e82137ee2",
        "colab": {
          "base_uri": "https://localhost:8080/"
        }
      },
      "source": [
        "aa * bb"
      ],
      "execution_count": null,
      "outputs": [
        {
          "output_type": "execute_result",
          "data": {
            "text/plain": [
              "array([[  0.,   4.,  12.],\n",
              "       [  3.,  12.,  25.],\n",
              "       [ 60., 140., 240.]])"
            ]
          },
          "metadata": {
            "tags": []
          },
          "execution_count": 23
        }
      ]
    },
    {
      "cell_type": "code",
      "metadata": {
        "id": "gGBiqghjcjjp",
        "outputId": "47178ec2-a696-4594-882d-6a760bd62005",
        "colab": {
          "base_uri": "https://localhost:8080/"
        }
      },
      "source": [
        "# np.dot(primeira_matriz, segunda_matriz)\n",
        "'''Para executar a multiplicação de matrizes usamos o método do NumPy np.dot() \n",
        "  passando para ele, as duas matrizes que queremos multiplicar.'''\n",
        "\n",
        "np.dot(aa,bb)"
      ],
      "execution_count": null,
      "outputs": [
        {
          "output_type": "execute_result",
          "data": {
            "text/plain": [
              "array([[ 48.,  60.,  72.],\n",
              "       [ 39.,  48.,  57.],\n",
              "       [240., 300., 360.]])"
            ]
          },
          "metadata": {
            "tags": []
          },
          "execution_count": 24
        }
      ]
    },
    {
      "cell_type": "code",
      "metadata": {
        "id": "q7ZwVkfDdN_e",
        "outputId": "d31764df-bd6a-4184-f061-c374823ceb68",
        "colab": {
          "base_uri": "https://localhost:8080/"
        }
      },
      "source": [
        "b = a * 3\n",
        "b"
      ],
      "execution_count": null,
      "outputs": [
        {
          "output_type": "execute_result",
          "data": {
            "text/plain": [
              "array([0, 3, 6])"
            ]
          },
          "metadata": {
            "tags": []
          },
          "execution_count": 25
        }
      ]
    },
    {
      "cell_type": "code",
      "metadata": {
        "id": "HjGD98kbdSyG",
        "outputId": "e3d1e375-42a0-4d69-89ce-7de93778786b",
        "colab": {
          "base_uri": "https://localhost:8080/"
        }
      },
      "source": [
        "np.dot(a, b)"
      ],
      "execution_count": null,
      "outputs": [
        {
          "output_type": "execute_result",
          "data": {
            "text/plain": [
              "15"
            ]
          },
          "metadata": {
            "tags": []
          },
          "execution_count": 26
        }
      ]
    },
    {
      "cell_type": "markdown",
      "metadata": {
        "id": "oBdoKKIRgIGS"
      },
      "source": [
        "___\n",
        "##Investigando valores numéricos\n",
        "___"
      ]
    },
    {
      "cell_type": "code",
      "metadata": {
        "id": "tTqurWkTgMSG"
      },
      "source": [
        "import pandas as pd"
      ],
      "execution_count": null,
      "outputs": []
    },
    {
      "cell_type": "code",
      "metadata": {
        "id": "-Dr8FjPugO_-",
        "outputId": "4820a3c6-98c4-44e1-a10e-7fce0ec00080",
        "colab": {
          "base_uri": "https://localhost:8080/",
          "height": 247
        }
      },
      "source": [
        "caminho = '/content/mtcars.csv'\n",
        "\n",
        "carros = pd.read_csv(caminho)\n",
        "carros.columns = ['nomes','mpg','cyl','disp', 'hp', 'drat', 'wt', 'qsec', 'vs', \n",
        "                  'am', 'qtd_marchas', 'carb']\n",
        "\n",
        "carros.head()"
      ],
      "execution_count": null,
      "outputs": [
        {
          "output_type": "execute_result",
          "data": {
            "text/html": [
              "<div>\n",
              "<style scoped>\n",
              "    .dataframe tbody tr th:only-of-type {\n",
              "        vertical-align: middle;\n",
              "    }\n",
              "\n",
              "    .dataframe tbody tr th {\n",
              "        vertical-align: top;\n",
              "    }\n",
              "\n",
              "    .dataframe thead th {\n",
              "        text-align: right;\n",
              "    }\n",
              "</style>\n",
              "<table border=\"1\" class=\"dataframe\">\n",
              "  <thead>\n",
              "    <tr style=\"text-align: right;\">\n",
              "      <th></th>\n",
              "      <th>nomes</th>\n",
              "      <th>mpg</th>\n",
              "      <th>cyl</th>\n",
              "      <th>disp</th>\n",
              "      <th>hp</th>\n",
              "      <th>drat</th>\n",
              "      <th>wt</th>\n",
              "      <th>qsec</th>\n",
              "      <th>vs</th>\n",
              "      <th>am</th>\n",
              "      <th>qtd_marchas</th>\n",
              "      <th>carb</th>\n",
              "    </tr>\n",
              "  </thead>\n",
              "  <tbody>\n",
              "    <tr>\n",
              "      <th>0</th>\n",
              "      <td>Mazda RX4</td>\n",
              "      <td>21.0</td>\n",
              "      <td>6</td>\n",
              "      <td>160.0</td>\n",
              "      <td>110</td>\n",
              "      <td>3.90</td>\n",
              "      <td>2.620</td>\n",
              "      <td>16.46</td>\n",
              "      <td>0</td>\n",
              "      <td>1</td>\n",
              "      <td>4</td>\n",
              "      <td>4</td>\n",
              "    </tr>\n",
              "    <tr>\n",
              "      <th>1</th>\n",
              "      <td>Mazda RX4 Wag</td>\n",
              "      <td>21.0</td>\n",
              "      <td>6</td>\n",
              "      <td>160.0</td>\n",
              "      <td>110</td>\n",
              "      <td>3.90</td>\n",
              "      <td>2.875</td>\n",
              "      <td>17.02</td>\n",
              "      <td>0</td>\n",
              "      <td>1</td>\n",
              "      <td>4</td>\n",
              "      <td>4</td>\n",
              "    </tr>\n",
              "    <tr>\n",
              "      <th>2</th>\n",
              "      <td>Datsun 710</td>\n",
              "      <td>22.8</td>\n",
              "      <td>4</td>\n",
              "      <td>108.0</td>\n",
              "      <td>93</td>\n",
              "      <td>3.85</td>\n",
              "      <td>2.320</td>\n",
              "      <td>18.61</td>\n",
              "      <td>1</td>\n",
              "      <td>1</td>\n",
              "      <td>4</td>\n",
              "      <td>1</td>\n",
              "    </tr>\n",
              "    <tr>\n",
              "      <th>3</th>\n",
              "      <td>Hornet 4 Drive</td>\n",
              "      <td>21.4</td>\n",
              "      <td>6</td>\n",
              "      <td>258.0</td>\n",
              "      <td>110</td>\n",
              "      <td>3.08</td>\n",
              "      <td>3.215</td>\n",
              "      <td>19.44</td>\n",
              "      <td>1</td>\n",
              "      <td>0</td>\n",
              "      <td>3</td>\n",
              "      <td>1</td>\n",
              "    </tr>\n",
              "    <tr>\n",
              "      <th>4</th>\n",
              "      <td>Hornet Sportabout</td>\n",
              "      <td>18.7</td>\n",
              "      <td>8</td>\n",
              "      <td>360.0</td>\n",
              "      <td>175</td>\n",
              "      <td>3.15</td>\n",
              "      <td>3.440</td>\n",
              "      <td>17.02</td>\n",
              "      <td>0</td>\n",
              "      <td>0</td>\n",
              "      <td>3</td>\n",
              "      <td>2</td>\n",
              "    </tr>\n",
              "  </tbody>\n",
              "</table>\n",
              "</div>"
            ],
            "text/plain": [
              "               nomes   mpg  cyl   disp   hp  ...   qsec  vs  am  qtd_marchas  carb\n",
              "0          Mazda RX4  21.0    6  160.0  110  ...  16.46   0   1            4     4\n",
              "1      Mazda RX4 Wag  21.0    6  160.0  110  ...  17.02   0   1            4     4\n",
              "2         Datsun 710  22.8    4  108.0   93  ...  18.61   1   1            4     1\n",
              "3     Hornet 4 Drive  21.4    6  258.0  110  ...  19.44   1   0            3     1\n",
              "4  Hornet Sportabout  18.7    8  360.0  175  ...  17.02   0   0            3     2\n",
              "\n",
              "[5 rows x 12 columns]"
            ]
          },
          "metadata": {
            "tags": []
          },
          "execution_count": 28
        }
      ]
    },
    {
      "cell_type": "markdown",
      "metadata": {
        "id": "hE9qvvFuhDUv"
      },
      "source": [
        "Somatório"
      ]
    },
    {
      "cell_type": "code",
      "metadata": {
        "id": "9ldtV9QlgrZ8",
        "outputId": "1f268831-43fa-4d15-835c-b00cf5e23104",
        "colab": {
          "base_uri": "https://localhost:8080/"
        }
      },
      "source": [
        "carros.sum()"
      ],
      "execution_count": null,
      "outputs": [
        {
          "output_type": "execute_result",
          "data": {
            "text/plain": [
              "nomes          Mazda RX4Mazda RX4 WagDatsun 710Hornet 4 Drive...\n",
              "mpg                                                        642.9\n",
              "cyl                                                          198\n",
              "disp                                                      7383.1\n",
              "hp                                                          4694\n",
              "drat                                                      115.09\n",
              "wt                                                       102.952\n",
              "qsec                                                      571.16\n",
              "vs                                                            14\n",
              "am                                                            13\n",
              "qtd_marchas                                                  118\n",
              "carb                                                          90\n",
              "dtype: object"
            ]
          },
          "metadata": {
            "tags": []
          },
          "execution_count": 29
        }
      ]
    },
    {
      "cell_type": "code",
      "metadata": {
        "id": "0ddhEoLuhM7a",
        "outputId": "2d9b46f6-98cb-4f75-e0a0-09ee13892465",
        "colab": {
          "base_uri": "https://localhost:8080/"
        }
      },
      "source": [
        "carros.sum(axis=1)"
      ],
      "execution_count": null,
      "outputs": [
        {
          "output_type": "execute_result",
          "data": {
            "text/plain": [
              "0     328.980\n",
              "1     329.795\n",
              "2     259.580\n",
              "3     426.135\n",
              "4     590.310\n",
              "5     385.540\n",
              "6     656.920\n",
              "7     270.980\n",
              "8     299.570\n",
              "9     350.460\n",
              "10    349.660\n",
              "11    510.740\n",
              "12    511.500\n",
              "13    509.850\n",
              "14    728.560\n",
              "15    726.644\n",
              "16    725.695\n",
              "17    213.850\n",
              "18    195.165\n",
              "19    206.955\n",
              "20    273.775\n",
              "21    519.650\n",
              "22    506.085\n",
              "23    646.280\n",
              "24    631.175\n",
              "25    208.215\n",
              "26    272.570\n",
              "27    273.683\n",
              "28    670.690\n",
              "29    379.590\n",
              "30    694.710\n",
              "31    288.890\n",
              "dtype: float64"
            ]
          },
          "metadata": {
            "tags": []
          },
          "execution_count": 30
        }
      ]
    },
    {
      "cell_type": "markdown",
      "metadata": {
        "id": "hMAn-XMthhCO"
      },
      "source": [
        "Mediana"
      ]
    },
    {
      "cell_type": "code",
      "metadata": {
        "id": "sB1B35wShdjy",
        "outputId": "5916ec6d-1ad4-41d8-e446-40f2d3d85db4",
        "colab": {
          "base_uri": "https://localhost:8080/"
        }
      },
      "source": [
        "carros.median()"
      ],
      "execution_count": null,
      "outputs": [
        {
          "output_type": "execute_result",
          "data": {
            "text/plain": [
              "mpg             19.200\n",
              "cyl              6.000\n",
              "disp           196.300\n",
              "hp             123.000\n",
              "drat             3.695\n",
              "wt               3.325\n",
              "qsec            17.710\n",
              "vs               0.000\n",
              "am               0.000\n",
              "qtd_marchas      4.000\n",
              "carb             2.000\n",
              "dtype: float64"
            ]
          },
          "metadata": {
            "tags": []
          },
          "execution_count": 31
        }
      ]
    },
    {
      "cell_type": "markdown",
      "metadata": {
        "id": "DaDBLtGMhuUt"
      },
      "source": [
        "Média"
      ]
    },
    {
      "cell_type": "code",
      "metadata": {
        "id": "etcVKC_OhpeJ",
        "outputId": "38948c43-4d26-4a4b-e7d5-fd93048770a1",
        "colab": {
          "base_uri": "https://localhost:8080/"
        }
      },
      "source": [
        "carros.mean()"
      ],
      "execution_count": null,
      "outputs": [
        {
          "output_type": "execute_result",
          "data": {
            "text/plain": [
              "mpg             20.090625\n",
              "cyl              6.187500\n",
              "disp           230.721875\n",
              "hp             146.687500\n",
              "drat             3.596563\n",
              "wt               3.217250\n",
              "qsec            17.848750\n",
              "vs               0.437500\n",
              "am               0.406250\n",
              "qtd_marchas      3.687500\n",
              "carb             2.812500\n",
              "dtype: float64"
            ]
          },
          "metadata": {
            "tags": []
          },
          "execution_count": 32
        }
      ]
    },
    {
      "cell_type": "markdown",
      "metadata": {
        "id": "1qeCi7EDiKG8"
      },
      "source": [
        "Máximo"
      ]
    },
    {
      "cell_type": "code",
      "metadata": {
        "id": "6tpHFlN4h7OQ",
        "outputId": "90cdc25d-9f25-483f-cbf0-e21fc6d8d2a9",
        "colab": {
          "base_uri": "https://localhost:8080/"
        }
      },
      "source": [
        "carros.max()"
      ],
      "execution_count": null,
      "outputs": [
        {
          "output_type": "execute_result",
          "data": {
            "text/plain": [
              "nomes          Volvo 142E\n",
              "mpg                  33.9\n",
              "cyl                     8\n",
              "disp                  472\n",
              "hp                    335\n",
              "drat                 4.93\n",
              "wt                  5.424\n",
              "qsec                 22.9\n",
              "vs                      1\n",
              "am                      1\n",
              "qtd_marchas             5\n",
              "carb                    8\n",
              "dtype: object"
            ]
          },
          "metadata": {
            "tags": []
          },
          "execution_count": 33
        }
      ]
    },
    {
      "cell_type": "code",
      "metadata": {
        "id": "jevdhHDViP5I",
        "outputId": "70135bc3-1484-4f56-d1ba-39552a9ecf83",
        "colab": {
          "base_uri": "https://localhost:8080/"
        }
      },
      "source": [
        "mpg = carros.mpg\n",
        "mpg.idxmax()"
      ],
      "execution_count": null,
      "outputs": [
        {
          "output_type": "execute_result",
          "data": {
            "text/plain": [
              "19"
            ]
          },
          "metadata": {
            "tags": []
          },
          "execution_count": 35
        }
      ]
    },
    {
      "cell_type": "markdown",
      "metadata": {
        "id": "8arlW6p7iuv6"
      },
      "source": [
        "___\n",
        "## Investigando a disperção de uma variável\n",
        "___"
      ]
    },
    {
      "cell_type": "code",
      "metadata": {
        "id": "pCKd4oOqi-CM"
      },
      "source": [
        "import pandas as pd"
      ],
      "execution_count": null,
      "outputs": []
    },
    {
      "cell_type": "code",
      "metadata": {
        "id": "gSH3r1JEjN6-",
        "outputId": "57f11da6-44de-4580-8067-0236a189e52c",
        "colab": {
          "base_uri": "https://localhost:8080/",
          "height": 255
        }
      },
      "source": [
        "caminho = '/content/mtcars.csv'\n",
        "\n",
        "carros = pd.read_csv(caminho)\n",
        "carros.columns = ['nomes','mpg','cyl','disp', 'hp', 'drat', 'wt', 'qsec', \n",
        "                  'vs', 'am', 'qtd_marchas', 'carb']\n",
        "carros.head()"
      ],
      "execution_count": null,
      "outputs": [
        {
          "output_type": "execute_result",
          "data": {
            "text/html": [
              "<div>\n",
              "<style scoped>\n",
              "    .dataframe tbody tr th:only-of-type {\n",
              "        vertical-align: middle;\n",
              "    }\n",
              "\n",
              "    .dataframe tbody tr th {\n",
              "        vertical-align: top;\n",
              "    }\n",
              "\n",
              "    .dataframe thead th {\n",
              "        text-align: right;\n",
              "    }\n",
              "</style>\n",
              "<table border=\"1\" class=\"dataframe\">\n",
              "  <thead>\n",
              "    <tr style=\"text-align: right;\">\n",
              "      <th></th>\n",
              "      <th>nomes</th>\n",
              "      <th>mpg</th>\n",
              "      <th>cyl</th>\n",
              "      <th>disp</th>\n",
              "      <th>hp</th>\n",
              "      <th>drat</th>\n",
              "      <th>wt</th>\n",
              "      <th>qsec</th>\n",
              "      <th>vs</th>\n",
              "      <th>am</th>\n",
              "      <th>qtd_marchas</th>\n",
              "      <th>carb</th>\n",
              "    </tr>\n",
              "  </thead>\n",
              "  <tbody>\n",
              "    <tr>\n",
              "      <th>0</th>\n",
              "      <td>Mazda RX4</td>\n",
              "      <td>21.0</td>\n",
              "      <td>6</td>\n",
              "      <td>160.0</td>\n",
              "      <td>110</td>\n",
              "      <td>3.90</td>\n",
              "      <td>2.620</td>\n",
              "      <td>16.46</td>\n",
              "      <td>0</td>\n",
              "      <td>1</td>\n",
              "      <td>4</td>\n",
              "      <td>4</td>\n",
              "    </tr>\n",
              "    <tr>\n",
              "      <th>1</th>\n",
              "      <td>Mazda RX4 Wag</td>\n",
              "      <td>21.0</td>\n",
              "      <td>6</td>\n",
              "      <td>160.0</td>\n",
              "      <td>110</td>\n",
              "      <td>3.90</td>\n",
              "      <td>2.875</td>\n",
              "      <td>17.02</td>\n",
              "      <td>0</td>\n",
              "      <td>1</td>\n",
              "      <td>4</td>\n",
              "      <td>4</td>\n",
              "    </tr>\n",
              "    <tr>\n",
              "      <th>2</th>\n",
              "      <td>Datsun 710</td>\n",
              "      <td>22.8</td>\n",
              "      <td>4</td>\n",
              "      <td>108.0</td>\n",
              "      <td>93</td>\n",
              "      <td>3.85</td>\n",
              "      <td>2.320</td>\n",
              "      <td>18.61</td>\n",
              "      <td>1</td>\n",
              "      <td>1</td>\n",
              "      <td>4</td>\n",
              "      <td>1</td>\n",
              "    </tr>\n",
              "    <tr>\n",
              "      <th>3</th>\n",
              "      <td>Hornet 4 Drive</td>\n",
              "      <td>21.4</td>\n",
              "      <td>6</td>\n",
              "      <td>258.0</td>\n",
              "      <td>110</td>\n",
              "      <td>3.08</td>\n",
              "      <td>3.215</td>\n",
              "      <td>19.44</td>\n",
              "      <td>1</td>\n",
              "      <td>0</td>\n",
              "      <td>3</td>\n",
              "      <td>1</td>\n",
              "    </tr>\n",
              "    <tr>\n",
              "      <th>4</th>\n",
              "      <td>Hornet Sportabout</td>\n",
              "      <td>18.7</td>\n",
              "      <td>8</td>\n",
              "      <td>360.0</td>\n",
              "      <td>175</td>\n",
              "      <td>3.15</td>\n",
              "      <td>3.440</td>\n",
              "      <td>17.02</td>\n",
              "      <td>0</td>\n",
              "      <td>0</td>\n",
              "      <td>3</td>\n",
              "      <td>2</td>\n",
              "    </tr>\n",
              "  </tbody>\n",
              "</table>\n",
              "</div>"
            ],
            "text/plain": [
              "               nomes   mpg  cyl   disp   hp  ...   qsec  vs  am  qtd_marchas  carb\n",
              "0          Mazda RX4  21.0    6  160.0  110  ...  16.46   0   1            4     4\n",
              "1      Mazda RX4 Wag  21.0    6  160.0  110  ...  17.02   0   1            4     4\n",
              "2         Datsun 710  22.8    4  108.0   93  ...  18.61   1   1            4     1\n",
              "3     Hornet 4 Drive  21.4    6  258.0  110  ...  19.44   1   0            3     1\n",
              "4  Hornet Sportabout  18.7    8  360.0  175  ...  17.02   0   0            3     2\n",
              "\n",
              "[5 rows x 12 columns]"
            ]
          },
          "metadata": {
            "tags": []
          },
          "execution_count": 37
        }
      ]
    },
    {
      "cell_type": "markdown",
      "metadata": {
        "id": "y-b6poosjmxA"
      },
      "source": [
        "Desvio padrão"
      ]
    },
    {
      "cell_type": "code",
      "metadata": {
        "id": "izcl1lGNja3U",
        "outputId": "22fc5c40-0ed7-4e56-8b22-d84422f8229b",
        "colab": {
          "base_uri": "https://localhost:8080/"
        }
      },
      "source": [
        "carros.std()"
      ],
      "execution_count": null,
      "outputs": [
        {
          "output_type": "execute_result",
          "data": {
            "text/plain": [
              "mpg              6.026948\n",
              "cyl              1.785922\n",
              "disp           123.938694\n",
              "hp              68.562868\n",
              "drat             0.534679\n",
              "wt               0.978457\n",
              "qsec             1.786943\n",
              "vs               0.504016\n",
              "am               0.498991\n",
              "qtd_marchas      0.737804\n",
              "carb             1.615200\n",
              "dtype: float64"
            ]
          },
          "metadata": {
            "tags": []
          },
          "execution_count": 38
        }
      ]
    },
    {
      "cell_type": "markdown",
      "metadata": {
        "id": "IgBBryJbmVGn"
      },
      "source": [
        "Variância"
      ]
    },
    {
      "cell_type": "code",
      "metadata": {
        "id": "xCmekDZYjzQS",
        "outputId": "49e5775e-1a61-4c9c-d5e8-6abcb0938746",
        "colab": {
          "base_uri": "https://localhost:8080/"
        }
      },
      "source": [
        "carros.var()"
      ],
      "execution_count": null,
      "outputs": [
        {
          "output_type": "execute_result",
          "data": {
            "text/plain": [
              "mpg               36.324103\n",
              "cyl                3.189516\n",
              "disp           15360.799829\n",
              "hp              4700.866935\n",
              "drat               0.285881\n",
              "wt                 0.957379\n",
              "qsec               3.193166\n",
              "vs                 0.254032\n",
              "am                 0.248992\n",
              "qtd_marchas        0.544355\n",
              "carb               2.608871\n",
              "dtype: float64"
            ]
          },
          "metadata": {
            "tags": []
          },
          "execution_count": 40
        }
      ]
    },
    {
      "cell_type": "markdown",
      "metadata": {
        "id": "IS7Fu6EenA29"
      },
      "source": [
        "Contagem de valores"
      ]
    },
    {
      "cell_type": "code",
      "metadata": {
        "id": "-f8kdMWmmknC",
        "outputId": "982e3eb8-5402-4afd-cd73-751c71fc332a",
        "colab": {
          "base_uri": "https://localhost:8080/"
        }
      },
      "source": [
        "# nome_do_objeto.value_counts()\n",
        "'''O método .value_counts() conta todos os valores em um array ou objeto\n",
        "  do tipo Series.'''\n",
        "\n",
        "marchas = carros.qtd_marchas\n",
        "marchas.value_counts()"
      ],
      "execution_count": null,
      "outputs": [
        {
          "output_type": "execute_result",
          "data": {
            "text/plain": [
              "3    15\n",
              "4    12\n",
              "5     5\n",
              "Name: qtd_marchas, dtype: int64"
            ]
          },
          "metadata": {
            "tags": []
          },
          "execution_count": 41
        }
      ]
    },
    {
      "cell_type": "markdown",
      "metadata": {
        "id": "LQ_r1r4LnUes"
      },
      "source": [
        "Descritivo estatístico"
      ]
    },
    {
      "cell_type": "code",
      "metadata": {
        "id": "0ZDwFUsumdQD",
        "outputId": "79034e4a-caba-46da-a00b-f2362d898639",
        "colab": {
          "base_uri": "https://localhost:8080/",
          "height": 317
        }
      },
      "source": [
        "carros.describe()"
      ],
      "execution_count": null,
      "outputs": [
        {
          "output_type": "execute_result",
          "data": {
            "text/html": [
              "<div>\n",
              "<style scoped>\n",
              "    .dataframe tbody tr th:only-of-type {\n",
              "        vertical-align: middle;\n",
              "    }\n",
              "\n",
              "    .dataframe tbody tr th {\n",
              "        vertical-align: top;\n",
              "    }\n",
              "\n",
              "    .dataframe thead th {\n",
              "        text-align: right;\n",
              "    }\n",
              "</style>\n",
              "<table border=\"1\" class=\"dataframe\">\n",
              "  <thead>\n",
              "    <tr style=\"text-align: right;\">\n",
              "      <th></th>\n",
              "      <th>mpg</th>\n",
              "      <th>cyl</th>\n",
              "      <th>disp</th>\n",
              "      <th>hp</th>\n",
              "      <th>drat</th>\n",
              "      <th>wt</th>\n",
              "      <th>qsec</th>\n",
              "      <th>vs</th>\n",
              "      <th>am</th>\n",
              "      <th>qtd_marchas</th>\n",
              "      <th>carb</th>\n",
              "    </tr>\n",
              "  </thead>\n",
              "  <tbody>\n",
              "    <tr>\n",
              "      <th>count</th>\n",
              "      <td>32.000000</td>\n",
              "      <td>32.000000</td>\n",
              "      <td>32.000000</td>\n",
              "      <td>32.000000</td>\n",
              "      <td>32.000000</td>\n",
              "      <td>32.000000</td>\n",
              "      <td>32.000000</td>\n",
              "      <td>32.000000</td>\n",
              "      <td>32.000000</td>\n",
              "      <td>32.000000</td>\n",
              "      <td>32.0000</td>\n",
              "    </tr>\n",
              "    <tr>\n",
              "      <th>mean</th>\n",
              "      <td>20.090625</td>\n",
              "      <td>6.187500</td>\n",
              "      <td>230.721875</td>\n",
              "      <td>146.687500</td>\n",
              "      <td>3.596563</td>\n",
              "      <td>3.217250</td>\n",
              "      <td>17.848750</td>\n",
              "      <td>0.437500</td>\n",
              "      <td>0.406250</td>\n",
              "      <td>3.687500</td>\n",
              "      <td>2.8125</td>\n",
              "    </tr>\n",
              "    <tr>\n",
              "      <th>std</th>\n",
              "      <td>6.026948</td>\n",
              "      <td>1.785922</td>\n",
              "      <td>123.938694</td>\n",
              "      <td>68.562868</td>\n",
              "      <td>0.534679</td>\n",
              "      <td>0.978457</td>\n",
              "      <td>1.786943</td>\n",
              "      <td>0.504016</td>\n",
              "      <td>0.498991</td>\n",
              "      <td>0.737804</td>\n",
              "      <td>1.6152</td>\n",
              "    </tr>\n",
              "    <tr>\n",
              "      <th>min</th>\n",
              "      <td>10.400000</td>\n",
              "      <td>4.000000</td>\n",
              "      <td>71.100000</td>\n",
              "      <td>52.000000</td>\n",
              "      <td>2.760000</td>\n",
              "      <td>1.513000</td>\n",
              "      <td>14.500000</td>\n",
              "      <td>0.000000</td>\n",
              "      <td>0.000000</td>\n",
              "      <td>3.000000</td>\n",
              "      <td>1.0000</td>\n",
              "    </tr>\n",
              "    <tr>\n",
              "      <th>25%</th>\n",
              "      <td>15.425000</td>\n",
              "      <td>4.000000</td>\n",
              "      <td>120.825000</td>\n",
              "      <td>96.500000</td>\n",
              "      <td>3.080000</td>\n",
              "      <td>2.581250</td>\n",
              "      <td>16.892500</td>\n",
              "      <td>0.000000</td>\n",
              "      <td>0.000000</td>\n",
              "      <td>3.000000</td>\n",
              "      <td>2.0000</td>\n",
              "    </tr>\n",
              "    <tr>\n",
              "      <th>50%</th>\n",
              "      <td>19.200000</td>\n",
              "      <td>6.000000</td>\n",
              "      <td>196.300000</td>\n",
              "      <td>123.000000</td>\n",
              "      <td>3.695000</td>\n",
              "      <td>3.325000</td>\n",
              "      <td>17.710000</td>\n",
              "      <td>0.000000</td>\n",
              "      <td>0.000000</td>\n",
              "      <td>4.000000</td>\n",
              "      <td>2.0000</td>\n",
              "    </tr>\n",
              "    <tr>\n",
              "      <th>75%</th>\n",
              "      <td>22.800000</td>\n",
              "      <td>8.000000</td>\n",
              "      <td>326.000000</td>\n",
              "      <td>180.000000</td>\n",
              "      <td>3.920000</td>\n",
              "      <td>3.610000</td>\n",
              "      <td>18.900000</td>\n",
              "      <td>1.000000</td>\n",
              "      <td>1.000000</td>\n",
              "      <td>4.000000</td>\n",
              "      <td>4.0000</td>\n",
              "    </tr>\n",
              "    <tr>\n",
              "      <th>max</th>\n",
              "      <td>33.900000</td>\n",
              "      <td>8.000000</td>\n",
              "      <td>472.000000</td>\n",
              "      <td>335.000000</td>\n",
              "      <td>4.930000</td>\n",
              "      <td>5.424000</td>\n",
              "      <td>22.900000</td>\n",
              "      <td>1.000000</td>\n",
              "      <td>1.000000</td>\n",
              "      <td>5.000000</td>\n",
              "      <td>8.0000</td>\n",
              "    </tr>\n",
              "  </tbody>\n",
              "</table>\n",
              "</div>"
            ],
            "text/plain": [
              "             mpg        cyl        disp  ...         am  qtd_marchas     carb\n",
              "count  32.000000  32.000000   32.000000  ...  32.000000    32.000000  32.0000\n",
              "mean   20.090625   6.187500  230.721875  ...   0.406250     3.687500   2.8125\n",
              "std     6.026948   1.785922  123.938694  ...   0.498991     0.737804   1.6152\n",
              "min    10.400000   4.000000   71.100000  ...   0.000000     3.000000   1.0000\n",
              "25%    15.425000   4.000000  120.825000  ...   0.000000     3.000000   2.0000\n",
              "50%    19.200000   6.000000  196.300000  ...   0.000000     4.000000   2.0000\n",
              "75%    22.800000   8.000000  326.000000  ...   1.000000     4.000000   4.0000\n",
              "max    33.900000   8.000000  472.000000  ...   1.000000     5.000000   8.0000\n",
              "\n",
              "[8 rows x 11 columns]"
            ]
          },
          "metadata": {
            "tags": []
          },
          "execution_count": 42
        }
      ]
    }
  ]
}