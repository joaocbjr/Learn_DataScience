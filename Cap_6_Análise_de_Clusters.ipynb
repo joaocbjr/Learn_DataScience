{
  "nbformat": 4,
  "nbformat_minor": 0,
  "metadata": {
    "colab": {
      "name": "Cap 6 - Análise de Clusters.ipynb",
      "provenance": [],
      "authorship_tag": "ABX9TyMnyfoGypaX0NQs/8sRSkvQ",
      "include_colab_link": true
    },
    "kernelspec": {
      "name": "python3",
      "display_name": "Python 3"
    }
  },
  "cells": [
    {
      "cell_type": "markdown",
      "metadata": {
        "id": "view-in-github",
        "colab_type": "text"
      },
      "source": [
        "<a href=\"https://colab.research.google.com/github/joaocbjr/Learn_DataScience/blob/main/Cap_6_An%C3%A1lise_de_Clusters.ipynb\" target=\"_parent\"><img src=\"https://colab.research.google.com/assets/colab-badge.svg\" alt=\"Open In Colab\"/></a>"
      ]
    },
    {
      "cell_type": "markdown",
      "metadata": {
        "id": "Yzbo2gzrbNIb"
      },
      "source": [
        "___\n",
        "## Aplicando o K-means\n",
        "___"
      ]
    },
    {
      "cell_type": "code",
      "metadata": {
        "id": "oGdy-RN8bD5K"
      },
      "source": [
        "import numpy as np\n",
        "import pandas as pd\n",
        "\n",
        "import matplotlib.pyplot as plt\n",
        "from matplotlib import rcParams\n",
        "\n",
        "from sklearn import datasets\n",
        "from sklearn.preprocessing import scale\n",
        "from sklearn.cluster import KMeans\n",
        "from sklearn.metrics import classification_report\n",
        "\n",
        "%matplotlib inline\n",
        "rcParams['figure.figsize'] = 7, 4\n",
        "plt.style.use('seaborn-whitegrid')"
      ],
      "execution_count": 1,
      "outputs": []
    },
    {
      "cell_type": "code",
      "metadata": {
        "id": "phIyjludbfPf"
      },
      "source": [
        "iris = datasets.load_iris()\n",
        "\n",
        "X = scale(iris.data)\n",
        "y = pd.DataFrame(iris.target)\n",
        "y.columns = ['Targets']\n",
        "variable_names = iris.feature_names\n",
        "iris_df = pd.DataFrame(iris.data)\n",
        "iris_df.columns = variable_names"
      ],
      "execution_count": 2,
      "outputs": []
    },
    {
      "cell_type": "markdown",
      "metadata": {
        "id": "ORDpz23kbrfa"
      },
      "source": [
        "## Construindo e rodando o seu modelo"
      ]
    },
    {
      "cell_type": "code",
      "metadata": {
        "colab": {
          "base_uri": "https://localhost:8080/"
        },
        "id": "K2Q8EBUMbl_V",
        "outputId": "aa7c5431-46ac-4ea3-b1d8-d8cf046e49f7"
      },
      "source": [
        "clustering = KMeans(n_clusters=3, random_state=5).fit(X)\n",
        "\n",
        "clustering"
      ],
      "execution_count": 3,
      "outputs": [
        {
          "output_type": "execute_result",
          "data": {
            "text/plain": [
              "KMeans(algorithm='auto', copy_x=True, init='k-means++', max_iter=300,\n",
              "       n_clusters=3, n_init=10, n_jobs=None, precompute_distances='auto',\n",
              "       random_state=5, tol=0.0001, verbose=0)"
            ]
          },
          "metadata": {
            "tags": []
          },
          "execution_count": 3
        }
      ]
    },
    {
      "cell_type": "markdown",
      "metadata": {
        "id": "ZggMTdLicU_O"
      },
      "source": [
        "## Graficando o resultado do seu modelo"
      ]
    },
    {
      "cell_type": "code",
      "metadata": {
        "colab": {
          "base_uri": "https://localhost:8080/",
          "height": 293
        },
        "id": "h6c43PKubw1k",
        "outputId": "40bf13fd-afc7-497d-8478-9fabbad16287"
      },
      "source": [
        "cores = np.array(['darkgray', 'lightsalmon', 'powderblue'])\n",
        "\n",
        "plt.subplot(1,2,1)\n",
        "plt.scatter(x=iris_df['petal length (cm)'],\n",
        "            y=iris_df['petal width (cm)'],\n",
        "            c=cores[iris.target],\n",
        "            s=50)\n",
        "plt.title('Classificação Original')\n",
        "\n",
        "plt.subplot(1,2,2)\n",
        "plt.scatter(x=iris_df['petal length (cm)'],\n",
        "            y=iris_df['petal width (cm)'],\n",
        "            c=cores[clustering.labels_],\n",
        "            s=50)\n",
        "plt.title('K-Means')"
      ],
      "execution_count": 4,
      "outputs": [
        {
          "output_type": "execute_result",
          "data": {
            "text/plain": [
              "Text(0.5, 1.0, 'K-Means')"
            ]
          },
          "metadata": {
            "tags": []
          },
          "execution_count": 4
        },
        {
          "output_type": "display_data",
          "data": {
            "image/png": "[encoded data removed]",
            "text/plain": [
              "<Figure size 432x288 with 2 Axes>"
            ]
          },
          "metadata": {
            "tags": [],
            "needs_background": "light"
          }
        }
      ]
    },
    {
      "cell_type": "code",
      "metadata": {
        "colab": {
          "base_uri": "https://localhost:8080/",
          "height": 293
        },
        "id": "cqqfFaIgcbH6",
        "outputId": "d651f04a-6131-484f-ab83-127cd0c4d10d"
      },
      "source": [
        "relabel = np.choose(clustering.labels_, [2, 0, 1]).astype(np.int64)\n",
        "\n",
        "plt.subplot(1,2,1)\n",
        "plt.scatter(x=iris_df['petal length (cm)'],\n",
        "            y=iris_df['petal width (cm)'],\n",
        "            c=cores[iris.target],\n",
        "            s=50)\n",
        "plt.title('Classificação Original')\n",
        "\n",
        "plt.subplot(1,2,2)\n",
        "plt.scatter(x=iris_df['petal length (cm)'],\n",
        "            y=iris_df['petal width (cm)'],\n",
        "            c=cores[relabel],\n",
        "            s=50)\n",
        "plt.title('K-Means')"
      ],
      "execution_count": 5,
      "outputs": [
        {
          "output_type": "execute_result",
          "data": {
            "text/plain": [
              "Text(0.5, 1.0, 'K-Means')"
            ]
          },
          "metadata": {
            "tags": []
          },
          "execution_count": 5
        },
        {
          "output_type": "display_data",
          "data": {
            "image/png": "[encoded data removed]",
            "text/plain": [
              "<Figure size 432x288 with 2 Axes>"
            ]
          },
          "metadata": {
            "tags": [],
            "needs_background": "light"
          }
        }
      ]
    },
    {
      "cell_type": "markdown",
      "metadata": {
        "id": "9ptnq62qcxj9"
      },
      "source": [
        "## Avaliando a clusterização resultante"
      ]
    },
    {
      "cell_type": "code",
      "metadata": {
        "colab": {
          "base_uri": "https://localhost:8080/"
        },
        "id": "nA0cXqHKcn4K",
        "outputId": "43e44ec9-179d-47da-c9bd-1408f56d8dff"
      },
      "source": [
        "print(classification_report(y, relabel))"
      ],
      "execution_count": 6,
      "outputs": [
        {
          "output_type": "stream",
          "text": [
            "              precision    recall  f1-score   support\n",
            "\n",
            "           0       1.00      1.00      1.00        50\n",
            "           1       0.23      0.22      0.23        50\n",
            "           2       0.26      0.28      0.27        50\n",
            "\n",
            "    accuracy                           0.50       150\n",
            "   macro avg       0.50      0.50      0.50       150\n",
            "weighted avg       0.50      0.50      0.50       150\n",
            "\n"
          ],
          "name": "stdout"
        }
      ]
    },
    {
      "cell_type": "markdown",
      "metadata": {
        "id": "NROCrP7Oei-X"
      },
      "source": [
        "___\n",
        "## Métodos Hierárquicos\n",
        "___"
      ]
    },
    {
      "cell_type": "code",
      "metadata": {
        "id": "IAkaXGpGeu03"
      },
      "source": [
        "import numpy as np\n",
        "import pandas as pd\n",
        "import seaborn as sns\n",
        "import matplotlib.pyplot as plt\n",
        "from matplotlib import rcParams\n",
        "\n",
        "from scipy.cluster.hierarchy import dendrogram, linkage\n",
        "from sklearn.cluster import AgglomerativeClustering\n",
        "from sklearn.metrics import accuracy_score\n",
        "\n",
        "\n",
        "np.set_printoptions(precision=4, suppress=True)\n",
        "plt.figure(figsize=(10, 3))\n",
        "%matplotlib inline\n",
        "plt.style.use('seaborn-whitegrid')\n",
        "\n",
        "caminho = '/content/mtcars.csv'\n",
        "carros = pd.read_csv(caminho)\n",
        "carros.columns = ['nomes','mpg','cyl','disp', 'hp', 'drat', 'wt', 'qsec', 'vs', \n",
        "                  'am', 'qtd_marchas', 'carb']\n",
        "\n",
        "X = carros[['mpg', 'disp', 'hp', 'wt']].values\n",
        "\n",
        "y = carros['am'].values"
      ],
      "execution_count": 7,
      "outputs": []
    },
    {
      "cell_type": "markdown",
      "metadata": {
        "id": "jGiQU_CrfIQ2"
      },
      "source": [
        "### Usando scipy para gerar dendrogramas"
      ]
    },
    {
      "cell_type": "code",
      "metadata": {
        "id": "Pi4AAuVRfDc7"
      },
      "source": [
        "Z = linkage(X, 'ward')"
      ],
      "execution_count": 8,
      "outputs": []
    },
    {
      "cell_type": "code",
      "metadata": {
        "colab": {
          "base_uri": "https://localhost:8080/",
          "height": 303
        },
        "id": "glGQ8WlkfL5x",
        "outputId": "d19d0f56-7ab0-4ad0-d97e-3b06d3799c4d"
      },
      "source": [
        "dendrogram(Z, truncate_mode='lastp', p=12, leaf_rotation=45., \n",
        "           leaf_font_size=15., show_contracted=True)\n",
        "\n",
        "plt.title('Truncated Hierarchical Clustering Dendrogram')\n",
        "plt.xlabel('Cluster Size')\n",
        "plt.ylabel('Distance')\n",
        "\n",
        "plt.axhline(y=500)\n",
        "plt.axhline(y=150)\n",
        "plt.show()"
      ],
      "execution_count": 9,
      "outputs": [
        {
          "output_type": "display_data",
          "data": {
            "image/png": "[encoded data removed]",
            "text/plain": [
              "<Figure size 432x288 with 1 Axes>"
            ]
          },
          "metadata": {
            "tags": []
          }
        }
      ]
    },
    {
      "cell_type": "markdown",
      "metadata": {
        "id": "eAZjAWjXfcAj"
      },
      "source": [
        "### Gerando clusters hierárquicos"
      ]
    },
    {
      "cell_type": "code",
      "metadata": {
        "colab": {
          "base_uri": "https://localhost:8080/"
        },
        "id": "w2cbiZiqfVEZ",
        "outputId": "050eaf1c-a3f2-40e5-b94e-b6166fd58cb0"
      },
      "source": [
        "k=2\n",
        "\n",
        "Hclustering = AgglomerativeClustering(n_clusters=k, affinity='euclidean', \n",
        "                                      linkage='ward')\n",
        "Hclustering.fit(X)\n",
        "\n",
        "accuracy_score(y, Hclustering.labels_)"
      ],
      "execution_count": 10,
      "outputs": [
        {
          "output_type": "execute_result",
          "data": {
            "text/plain": [
              "0.78125"
            ]
          },
          "metadata": {
            "tags": []
          },
          "execution_count": 10
        }
      ]
    },
    {
      "cell_type": "code",
      "metadata": {
        "colab": {
          "base_uri": "https://localhost:8080/"
        },
        "id": "ZA4ixZuzfgu_",
        "outputId": "4370e190-7cb7-4279-db02-34cdf30b0857"
      },
      "source": [
        "Hclustering = AgglomerativeClustering(n_clusters=k, affinity='euclidean',\n",
        "                                      linkage='complete')\n",
        "Hclustering.fit(X)\n",
        "\n",
        "accuracy_score(y, Hclustering.labels_)"
      ],
      "execution_count": 11,
      "outputs": [
        {
          "output_type": "execute_result",
          "data": {
            "text/plain": [
              "0.4375"
            ]
          },
          "metadata": {
            "tags": []
          },
          "execution_count": 11
        }
      ]
    },
    {
      "cell_type": "code",
      "metadata": {
        "colab": {
          "base_uri": "https://localhost:8080/"
        },
        "id": "7Hhk8uaHfrqH",
        "outputId": "0c829b44-f4df-4944-b0a9-745c1a172411"
      },
      "source": [
        "Hclustering = AgglomerativeClustering(n_clusters=k, affinity='euclidean', \n",
        "                                      linkage='average')\n",
        "Hclustering.fit(X)\n",
        "\n",
        "accuracy_score(y, Hclustering.labels_)"
      ],
      "execution_count": 12,
      "outputs": [
        {
          "output_type": "execute_result",
          "data": {
            "text/plain": [
              "0.78125"
            ]
          },
          "metadata": {
            "tags": []
          },
          "execution_count": 12
        }
      ]
    },
    {
      "cell_type": "code",
      "metadata": {
        "colab": {
          "base_uri": "https://localhost:8080/"
        },
        "id": "gBsoeJUgfy0G",
        "outputId": "3bb0fa27-37a0-41af-91b0-b3f0076547c2"
      },
      "source": [
        "Hclustering = AgglomerativeClustering(n_clusters=k, affinity='manhattan', \n",
        "                                      linkage='average')\n",
        "Hclustering.fit(X)\n",
        "\n",
        "accuracy_score(y, Hclustering.labels_)"
      ],
      "execution_count": 13,
      "outputs": [
        {
          "output_type": "execute_result",
          "data": {
            "text/plain": [
              "0.71875"
            ]
          },
          "metadata": {
            "tags": []
          },
          "execution_count": 13
        }
      ]
    },
    {
      "cell_type": "markdown",
      "metadata": {
        "id": "0AmpLroBgGSq"
      },
      "source": [
        "___\n",
        "## Aprendizado baseado em instância com KNN\n",
        "___"
      ]
    },
    {
      "cell_type": "code",
      "metadata": {
        "id": "fnEk9qzOgOG6"
      },
      "source": [
        "import numpy as np\n",
        "import pandas as pd\n",
        "import seaborn as sns\n",
        "\n",
        "import matplotlib.pyplot as plt\n",
        "from matplotlib import rcParams\n",
        "\n",
        "from sklearn.neighbors import KNeighborsClassifier\n",
        "\n",
        "from sklearn import preprocessing\n",
        "from sklearn.model_selection import train_test_split\n",
        "from sklearn.metrics import classification_report\n",
        "\n",
        "\n",
        "np.set_printoptions(precision=4, suppress=True) \n",
        "%matplotlib inline\n",
        "rcParams['figure.figsize'] = 7, 4\n",
        "sns.set_style('whitegrid')\n",
        "\n",
        "caminho = '/content/mtcars.csv'\n",
        "carros = pd.read_csv(caminho)\n",
        "carros.columns = ['nomes','mpg','cyl','disp', 'hp', 'drat', 'wt', 'qsec', 'vs', \n",
        "                  'am', 'qtd_marchas', 'carb']\n",
        "\n",
        "X = carros[['mpg', 'disp', 'hp', 'wt']].values\n",
        "\n",
        "y = carros['am'].values"
      ],
      "execution_count": 15,
      "outputs": []
    },
    {
      "cell_type": "markdown",
      "metadata": {
        "id": "NsX87X_ThGCX"
      },
      "source": [
        "Vamos inferir se um carro eh automatico ou manual a partir do consumo de gasolina, disop q eh uma medida de poder do motor, hp nosso horse power e o peso do carro"
      ]
    },
    {
      "cell_type": "markdown",
      "metadata": {
        "id": "YG4Ss6jphJ4Y"
      },
      "source": [
        "## Dividindo dados em teste e treino"
      ]
    },
    {
      "cell_type": "code",
      "metadata": {
        "id": "pKNPYDljg_ot"
      },
      "source": [
        "X = preprocessing.scale(X)"
      ],
      "execution_count": 16,
      "outputs": []
    },
    {
      "cell_type": "code",
      "metadata": {
        "id": "9h1wwzMPghP0"
      },
      "source": [
        "X_treino, X_test, y_treino, y_test = train_test_split(X, y, \n",
        "test_size=.33, random_state=17)"
      ],
      "execution_count": 17,
      "outputs": []
    },
    {
      "cell_type": "markdown",
      "metadata": {
        "id": "NWP0HtMdhgm1"
      },
      "source": [
        "## Treinando o modelo"
      ]
    },
    {
      "cell_type": "code",
      "metadata": {
        "colab": {
          "base_uri": "https://localhost:8080/"
        },
        "id": "sBbPKSx8hdnR",
        "outputId": "ca19a524-d7ce-438a-c0d7-19097e08be87"
      },
      "source": [
        "clf = KNeighborsClassifier()\n",
        "\n",
        "clf.fit(X_treino, y_treino)\n",
        "print(clf)"
      ],
      "execution_count": 18,
      "outputs": [
        {
          "output_type": "stream",
          "text": [
            "KNeighborsClassifier(algorithm='auto', leaf_size=30, metric='minkowski',\n",
            "                     metric_params=None, n_jobs=None, n_neighbors=5, p=2,\n",
            "                     weights='uniform')\n"
          ],
          "name": "stdout"
        }
      ]
    },
    {
      "cell_type": "markdown",
      "metadata": {
        "id": "mxeFVq-3hpKV"
      },
      "source": [
        "## Avaliando o desempenho do modelo com os dados de teste"
      ]
    },
    {
      "cell_type": "markdown",
      "metadata": {
        "id": "qmcKbarXhtY9"
      },
      "source": [
        "alta precisao e baixa revocacao  pouco resultados foram encontrados mas dos que foram encontrados grande parte estava correta, ou seja alta acuracia mas pouca completude"
      ]
    },
    {
      "cell_type": "code",
      "metadata": {
        "colab": {
          "base_uri": "https://localhost:8080/"
        },
        "id": "AD7V8GSVhlTY",
        "outputId": "d18b6e7f-bf73-4ab2-8250-2bb840d4e69f"
      },
      "source": [
        "y_esperado = y_test\n",
        "y_pred = clf.predict(X_test)\n",
        "\n",
        "print(classification_report(y_esperado, y_pred))"
      ],
      "execution_count": 19,
      "outputs": [
        {
          "output_type": "stream",
          "text": [
            "              precision    recall  f1-score   support\n",
            "\n",
            "           0       0.71      1.00      0.83         5\n",
            "           1       1.00      0.67      0.80         6\n",
            "\n",
            "    accuracy                           0.82        11\n",
            "   macro avg       0.86      0.83      0.82        11\n",
            "weighted avg       0.87      0.82      0.82        11\n",
            "\n"
          ],
          "name": "stdout"
        }
      ]
    }
  ]
}